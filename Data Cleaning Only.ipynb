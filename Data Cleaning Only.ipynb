{
 "cells": [
  {
   "cell_type": "markdown",
   "metadata": {},
   "source": [
    "# Simple Data Cleaning and Exploration\n",
    "\n",
    "Dataset was provided as part of a recruitment drive by a Tech Consulting Company.\n",
    "The dataset seems to have already been partially used in some analysis as evidenced\n",
    "by the 'rpart','Adjusted Prob for 50% Cut-off (without Formulae)' and 'NPS' columns.\n",
    "NPS seems to have been preprocessed to 1 (for scores 9-10), 0(for scores 7-8) and \n",
    "-1(for scores 0-6). The other two columns point to Recursive Partitioning to be the \n",
    "choice of classification.\n",
    "\n",
    "In this python file, I perform some simple data imputing on missing values in addition to \n",
    "data cleaning for later processing by Logit Regression."
   ]
  },
  {
   "cell_type": "markdown",
   "metadata": {},
   "source": [
    "# Import Libraries\n"
   ]
  },
  {
   "cell_type": "code",
   "execution_count": 62,
   "metadata": {},
   "outputs": [],
   "source": [
    "import pandas as pd\n",
    "import numpy as np\n",
    "import matplotlib.pyplot as plt\n",
    "import seaborn as sns\n",
    "sns.set()\n",
    "\n",
    "import statsmodels.api as sm"
   ]
  },
  {
   "cell_type": "markdown",
   "metadata": {},
   "source": [
    "# Import Data"
   ]
  },
  {
   "cell_type": "code",
   "execution_count": 63,
   "metadata": {},
   "outputs": [
    {
     "data": {
      "text/html": [
       "<div>\n",
       "<style scoped>\n",
       "    .dataframe tbody tr th:only-of-type {\n",
       "        vertical-align: middle;\n",
       "    }\n",
       "\n",
       "    .dataframe tbody tr th {\n",
       "        vertical-align: top;\n",
       "    }\n",
       "\n",
       "    .dataframe thead th {\n",
       "        text-align: right;\n",
       "    }\n",
       "</style>\n",
       "<table border=\"1\" class=\"dataframe\">\n",
       "  <thead>\n",
       "    <tr style=\"text-align: right;\">\n",
       "      <th></th>\n",
       "      <th>Customer ID</th>\n",
       "      <th>Churned</th>\n",
       "      <th>Age</th>\n",
       "      <th>Average Bill over 6 months</th>\n",
       "      <th>Average Bill over 12 months</th>\n",
       "      <th>Number of defaults in last 12 bills</th>\n",
       "      <th>Payment Method</th>\n",
       "      <th>District</th>\n",
       "      <th>Area</th>\n",
       "      <th>Concesssion Card</th>\n",
       "      <th>...</th>\n",
       "      <th>rpart</th>\n",
       "      <th>Category of latest complaint</th>\n",
       "      <th>NPS</th>\n",
       "      <th>Product</th>\n",
       "      <th>Multiple Products</th>\n",
       "      <th>Product_New</th>\n",
       "      <th>Adjusted Prob for 50% Cut-off (without Formulae)</th>\n",
       "      <th>Customer Segment</th>\n",
       "      <th>Product Category</th>\n",
       "      <th>Bill Amount</th>\n",
       "    </tr>\n",
       "  </thead>\n",
       "  <tbody>\n",
       "    <tr>\n",
       "      <th>0</th>\n",
       "      <td>1</td>\n",
       "      <td>Yes</td>\n",
       "      <td>64.0</td>\n",
       "      <td>6.0000</td>\n",
       "      <td>123.0150</td>\n",
       "      <td>2</td>\n",
       "      <td>Credit Card</td>\n",
       "      <td>N</td>\n",
       "      <td>Northern Territory</td>\n",
       "      <td>No</td>\n",
       "      <td>...</td>\n",
       "      <td>0.357143</td>\n",
       "      <td>Network Coverage</td>\n",
       "      <td>-1</td>\n",
       "      <td>Internet Service</td>\n",
       "      <td>Yes</td>\n",
       "      <td>Mobile &amp; Internet Service</td>\n",
       "      <td>0.838283</td>\n",
       "      <td>Independents</td>\n",
       "      <td>Internet</td>\n",
       "      <td>169</td>\n",
       "    </tr>\n",
       "    <tr>\n",
       "      <th>1</th>\n",
       "      <td>2</td>\n",
       "      <td>No</td>\n",
       "      <td>29.0</td>\n",
       "      <td>18.0000</td>\n",
       "      <td>26.4125</td>\n",
       "      <td>3</td>\n",
       "      <td>Cheque</td>\n",
       "      <td>S</td>\n",
       "      <td>South Australia</td>\n",
       "      <td>No</td>\n",
       "      <td>...</td>\n",
       "      <td>0.053805</td>\n",
       "      <td>Call Drop</td>\n",
       "      <td>0</td>\n",
       "      <td>Fixed Line</td>\n",
       "      <td>No</td>\n",
       "      <td>Fixed Line</td>\n",
       "      <td>0.346654</td>\n",
       "      <td>Small Business</td>\n",
       "      <td>ADSL</td>\n",
       "      <td>137</td>\n",
       "    </tr>\n",
       "    <tr>\n",
       "      <th>2</th>\n",
       "      <td>3</td>\n",
       "      <td>No</td>\n",
       "      <td>47.0</td>\n",
       "      <td>4.0000</td>\n",
       "      <td>108.9525</td>\n",
       "      <td>0</td>\n",
       "      <td>Cheque</td>\n",
       "      <td>Q</td>\n",
       "      <td>Queensland</td>\n",
       "      <td>No</td>\n",
       "      <td>...</td>\n",
       "      <td>0.030710</td>\n",
       "      <td>Data Charges</td>\n",
       "      <td>0</td>\n",
       "      <td>Mobile</td>\n",
       "      <td>No</td>\n",
       "      <td>Internet Service</td>\n",
       "      <td>0.228171</td>\n",
       "      <td>Independents</td>\n",
       "      <td>Fixed line</td>\n",
       "      <td>252</td>\n",
       "    </tr>\n",
       "    <tr>\n",
       "      <th>3</th>\n",
       "      <td>4</td>\n",
       "      <td>No</td>\n",
       "      <td>75.0</td>\n",
       "      <td>7.0000</td>\n",
       "      <td>106.0475</td>\n",
       "      <td>1</td>\n",
       "      <td>Cheque</td>\n",
       "      <td>S</td>\n",
       "      <td>South Australia</td>\n",
       "      <td>Yes</td>\n",
       "      <td>...</td>\n",
       "      <td>0.030710</td>\n",
       "      <td>High Billed Amount</td>\n",
       "      <td>0</td>\n",
       "      <td>Internet Service</td>\n",
       "      <td>Yes</td>\n",
       "      <td>Internet Service,Fixed Line &amp; PayTV</td>\n",
       "      <td>0.228171</td>\n",
       "      <td>Friends, Fun &amp; Fashion</td>\n",
       "      <td>Internet</td>\n",
       "      <td>175</td>\n",
       "    </tr>\n",
       "    <tr>\n",
       "      <th>4</th>\n",
       "      <td>5</td>\n",
       "      <td>No</td>\n",
       "      <td>66.0</td>\n",
       "      <td>35.4075</td>\n",
       "      <td>32.4475</td>\n",
       "      <td>1</td>\n",
       "      <td>Cheque</td>\n",
       "      <td>V</td>\n",
       "      <td>Victoria</td>\n",
       "      <td>No</td>\n",
       "      <td>...</td>\n",
       "      <td>0.144033</td>\n",
       "      <td>Call Drop</td>\n",
       "      <td>0</td>\n",
       "      <td>Fixed Line</td>\n",
       "      <td>No</td>\n",
       "      <td>Internet Service</td>\n",
       "      <td>0.610902</td>\n",
       "      <td>Friends, Fun &amp; Fashion</td>\n",
       "      <td>Internet</td>\n",
       "      <td>128</td>\n",
       "    </tr>\n",
       "    <tr>\n",
       "      <th>...</th>\n",
       "      <td>...</td>\n",
       "      <td>...</td>\n",
       "      <td>...</td>\n",
       "      <td>...</td>\n",
       "      <td>...</td>\n",
       "      <td>...</td>\n",
       "      <td>...</td>\n",
       "      <td>...</td>\n",
       "      <td>...</td>\n",
       "      <td>...</td>\n",
       "      <td>...</td>\n",
       "      <td>...</td>\n",
       "      <td>...</td>\n",
       "      <td>...</td>\n",
       "      <td>...</td>\n",
       "      <td>...</td>\n",
       "      <td>...</td>\n",
       "      <td>...</td>\n",
       "      <td>...</td>\n",
       "      <td>...</td>\n",
       "      <td>...</td>\n",
       "    </tr>\n",
       "    <tr>\n",
       "      <th>18360</th>\n",
       "      <td>18361</td>\n",
       "      <td>No</td>\n",
       "      <td>88.0</td>\n",
       "      <td>36.1375</td>\n",
       "      <td>26.7650</td>\n",
       "      <td>0</td>\n",
       "      <td>Cheque</td>\n",
       "      <td>V</td>\n",
       "      <td>Victoria</td>\n",
       "      <td>Yes</td>\n",
       "      <td>...</td>\n",
       "      <td>0.030710</td>\n",
       "      <td>High Billed Amount</td>\n",
       "      <td>1</td>\n",
       "      <td>Mobile</td>\n",
       "      <td>No</td>\n",
       "      <td>Fixed Line</td>\n",
       "      <td>0.228171</td>\n",
       "      <td>Family &amp; Self Development</td>\n",
       "      <td>Fixed line</td>\n",
       "      <td>55</td>\n",
       "    </tr>\n",
       "    <tr>\n",
       "      <th>18361</th>\n",
       "      <td>18362</td>\n",
       "      <td>No</td>\n",
       "      <td>72.0</td>\n",
       "      <td>39.8950</td>\n",
       "      <td>31.8450</td>\n",
       "      <td>0</td>\n",
       "      <td>Cheque</td>\n",
       "      <td>V</td>\n",
       "      <td>Victoria</td>\n",
       "      <td>No</td>\n",
       "      <td>...</td>\n",
       "      <td>0.030710</td>\n",
       "      <td>High Billed Amount</td>\n",
       "      <td>1</td>\n",
       "      <td>Mobile</td>\n",
       "      <td>Yes</td>\n",
       "      <td>Mobile &amp; PayTV</td>\n",
       "      <td>0.228171</td>\n",
       "      <td>Friends, Fun &amp; Fashion</td>\n",
       "      <td>Fixed line</td>\n",
       "      <td>79</td>\n",
       "    </tr>\n",
       "    <tr>\n",
       "      <th>18362</th>\n",
       "      <td>18363</td>\n",
       "      <td>No</td>\n",
       "      <td>19.0</td>\n",
       "      <td>19.0000</td>\n",
       "      <td>43.6925</td>\n",
       "      <td>0</td>\n",
       "      <td>Cheque</td>\n",
       "      <td>V</td>\n",
       "      <td>Victoria</td>\n",
       "      <td>No</td>\n",
       "      <td>...</td>\n",
       "      <td>0.114994</td>\n",
       "      <td>Call Drop</td>\n",
       "      <td>1</td>\n",
       "      <td>Mobile</td>\n",
       "      <td>No</td>\n",
       "      <td>Fixed Line</td>\n",
       "      <td>0.547997</td>\n",
       "      <td>Independents</td>\n",
       "      <td>Mobile</td>\n",
       "      <td>81</td>\n",
       "    </tr>\n",
       "    <tr>\n",
       "      <th>18363</th>\n",
       "      <td>18364</td>\n",
       "      <td>No</td>\n",
       "      <td>32.0</td>\n",
       "      <td>28.1175</td>\n",
       "      <td>21.8450</td>\n",
       "      <td>6</td>\n",
       "      <td>Cheque</td>\n",
       "      <td>V</td>\n",
       "      <td>Victoria</td>\n",
       "      <td>No</td>\n",
       "      <td>...</td>\n",
       "      <td>0.053805</td>\n",
       "      <td>Data Charges</td>\n",
       "      <td>-1</td>\n",
       "      <td>Mobile</td>\n",
       "      <td>Yes</td>\n",
       "      <td>Mobile &amp; Internet Service</td>\n",
       "      <td>0.346654</td>\n",
       "      <td>Small Business</td>\n",
       "      <td>Mobile</td>\n",
       "      <td>163</td>\n",
       "    </tr>\n",
       "    <tr>\n",
       "      <th>18364</th>\n",
       "      <td>18365</td>\n",
       "      <td>No</td>\n",
       "      <td>43.0</td>\n",
       "      <td>33.8800</td>\n",
       "      <td>27.9150</td>\n",
       "      <td>2</td>\n",
       "      <td>Cheque</td>\n",
       "      <td>V</td>\n",
       "      <td>Victoria</td>\n",
       "      <td>No</td>\n",
       "      <td>...</td>\n",
       "      <td>0.030710</td>\n",
       "      <td>Call Drop</td>\n",
       "      <td>1</td>\n",
       "      <td>Mobile</td>\n",
       "      <td>No</td>\n",
       "      <td>PayTV</td>\n",
       "      <td>0.228171</td>\n",
       "      <td>Principled Professional</td>\n",
       "      <td>Bundle</td>\n",
       "      <td>108</td>\n",
       "    </tr>\n",
       "  </tbody>\n",
       "</table>\n",
       "<p>18365 rows × 26 columns</p>\n",
       "</div>"
      ],
      "text/plain": [
       "       Customer ID Churned   Age  Average Bill over 6 months  \\\n",
       "0                1     Yes  64.0                      6.0000   \n",
       "1                2      No  29.0                     18.0000   \n",
       "2                3      No  47.0                      4.0000   \n",
       "3                4      No  75.0                      7.0000   \n",
       "4                5      No  66.0                     35.4075   \n",
       "...            ...     ...   ...                         ...   \n",
       "18360        18361      No  88.0                     36.1375   \n",
       "18361        18362      No  72.0                     39.8950   \n",
       "18362        18363      No  19.0                     19.0000   \n",
       "18363        18364      No  32.0                     28.1175   \n",
       "18364        18365      No  43.0                     33.8800   \n",
       "\n",
       "       Average Bill over 12 months  Number of defaults in last 12 bills  \\\n",
       "0                         123.0150                                    2   \n",
       "1                          26.4125                                    3   \n",
       "2                         108.9525                                    0   \n",
       "3                         106.0475                                    1   \n",
       "4                          32.4475                                    1   \n",
       "...                            ...                                  ...   \n",
       "18360                      26.7650                                    0   \n",
       "18361                      31.8450                                    0   \n",
       "18362                      43.6925                                    0   \n",
       "18363                      21.8450                                    6   \n",
       "18364                      27.9150                                    2   \n",
       "\n",
       "      Payment Method District                Area Concesssion Card  ...  \\\n",
       "0        Credit Card        N  Northern Territory               No  ...   \n",
       "1             Cheque        S     South Australia               No  ...   \n",
       "2             Cheque        Q          Queensland               No  ...   \n",
       "3             Cheque        S     South Australia              Yes  ...   \n",
       "4             Cheque        V            Victoria               No  ...   \n",
       "...              ...      ...                 ...              ...  ...   \n",
       "18360         Cheque        V            Victoria              Yes  ...   \n",
       "18361         Cheque        V            Victoria               No  ...   \n",
       "18362         Cheque        V            Victoria               No  ...   \n",
       "18363         Cheque        V            Victoria               No  ...   \n",
       "18364         Cheque        V            Victoria               No  ...   \n",
       "\n",
       "          rpart  Category of latest complaint  NPS           Product  \\\n",
       "0      0.357143              Network Coverage   -1  Internet Service   \n",
       "1      0.053805                     Call Drop    0        Fixed Line   \n",
       "2      0.030710                  Data Charges    0            Mobile   \n",
       "3      0.030710            High Billed Amount    0  Internet Service   \n",
       "4      0.144033                     Call Drop    0        Fixed Line   \n",
       "...         ...                           ...  ...               ...   \n",
       "18360  0.030710            High Billed Amount    1            Mobile   \n",
       "18361  0.030710            High Billed Amount    1            Mobile   \n",
       "18362  0.114994                     Call Drop    1            Mobile   \n",
       "18363  0.053805                  Data Charges   -1            Mobile   \n",
       "18364  0.030710                     Call Drop    1            Mobile   \n",
       "\n",
       "      Multiple Products                          Product_New  \\\n",
       "0                   Yes            Mobile & Internet Service   \n",
       "1                    No                           Fixed Line   \n",
       "2                    No                     Internet Service   \n",
       "3                   Yes  Internet Service,Fixed Line & PayTV   \n",
       "4                    No                     Internet Service   \n",
       "...                 ...                                  ...   \n",
       "18360                No                           Fixed Line   \n",
       "18361               Yes                       Mobile & PayTV   \n",
       "18362                No                           Fixed Line   \n",
       "18363               Yes            Mobile & Internet Service   \n",
       "18364                No                                PayTV   \n",
       "\n",
       "       Adjusted Prob for 50% Cut-off (without Formulae)  \\\n",
       "0                                              0.838283   \n",
       "1                                              0.346654   \n",
       "2                                              0.228171   \n",
       "3                                              0.228171   \n",
       "4                                              0.610902   \n",
       "...                                                 ...   \n",
       "18360                                          0.228171   \n",
       "18361                                          0.228171   \n",
       "18362                                          0.547997   \n",
       "18363                                          0.346654   \n",
       "18364                                          0.228171   \n",
       "\n",
       "                Customer Segment  Product Category Bill Amount  \n",
       "0                   Independents          Internet         169  \n",
       "1                 Small Business              ADSL         137  \n",
       "2                   Independents        Fixed line         252  \n",
       "3         Friends, Fun & Fashion          Internet         175  \n",
       "4         Friends, Fun & Fashion          Internet         128  \n",
       "...                          ...               ...         ...  \n",
       "18360  Family & Self Development        Fixed line          55  \n",
       "18361     Friends, Fun & Fashion        Fixed line          79  \n",
       "18362               Independents            Mobile          81  \n",
       "18363             Small Business            Mobile         163  \n",
       "18364    Principled Professional            Bundle         108  \n",
       "\n",
       "[18365 rows x 26 columns]"
      ]
     },
     "execution_count": 63,
     "metadata": {},
     "output_type": "execute_result"
    }
   ],
   "source": [
    "#Import and display Churn data\n",
    "\n",
    "raw_data = pd.read_csv('ChurnData.csv')\n",
    "raw_data"
   ]
  },
  {
   "cell_type": "code",
   "execution_count": 64,
   "metadata": {},
   "outputs": [],
   "source": [
    "#copy the data frame to another variable on which further modifications will be done\n",
    "\n",
    "data = raw_data.copy()"
   ]
  },
  {
   "cell_type": "markdown",
   "metadata": {},
   "source": [
    "# Data Exploration and Conversion to Categorical Variables"
   ]
  },
  {
   "cell_type": "code",
   "execution_count": 65,
   "metadata": {},
   "outputs": [
    {
     "name": "stdout",
     "output_type": "stream",
     "text": [
      "<class 'pandas.core.frame.DataFrame'>\n",
      "RangeIndex: 18365 entries, 0 to 18364\n",
      "Data columns (total 26 columns):\n",
      " #   Column                                            Non-Null Count  Dtype  \n",
      "---  ------                                            --------------  -----  \n",
      " 0   Customer ID                                       18365 non-null  int64  \n",
      " 1   Churned                                           18365 non-null  object \n",
      " 2   Age                                               17366 non-null  float64\n",
      " 3   Average Bill over 6 months                        18365 non-null  float64\n",
      " 4   Average Bill over 12 months                       18365 non-null  float64\n",
      " 5   Number of defaults in last 12 bills               18365 non-null  int64  \n",
      " 6   Payment Method                                    18365 non-null  object \n",
      " 7   District                                          18365 non-null  object \n",
      " 8   Area                                              18365 non-null  object \n",
      " 9   Concesssion Card                                  18365 non-null  object \n",
      " 10  INBOUNDCALLS                                      18365 non-null  int64  \n",
      " 11  OUTBOUNDCALLS                                     18365 non-null  int64  \n",
      " 12  Relationship (months)                             17549 non-null  float64\n",
      " 13  Occupier Status                                   18363 non-null  object \n",
      " 14  Multiple Fuel                                     18363 non-null  object \n",
      " 15  Bill Delivery Method                              18365 non-null  object \n",
      " 16  rpart                                             18365 non-null  float64\n",
      " 17  Category of latest complaint                      18365 non-null  object \n",
      " 18  NPS                                               18365 non-null  int64  \n",
      " 19  Product                                           18365 non-null  object \n",
      " 20  Multiple Products                                 18365 non-null  object \n",
      " 21  Product_New                                       18365 non-null  object \n",
      " 22  Adjusted Prob for 50% Cut-off (without Formulae)  18365 non-null  float64\n",
      " 23  Customer Segment                                  18365 non-null  object \n",
      " 24  Product Category                                  18365 non-null  object \n",
      " 25  Bill Amount                                       18365 non-null  int64  \n",
      "dtypes: float64(6), int64(6), object(14)\n",
      "memory usage: 3.6+ MB\n"
     ]
    }
   ],
   "source": [
    "data.info()"
   ]
  },
  {
   "cell_type": "markdown",
   "metadata": {},
   "source": [
    "# Column Info:\n",
    "\n",
    "- Churned : Information on whether a customer has quit or not. (Yes/No)\n",
    "\n",
    "- Age : Just a number\n",
    "\n",
    "- Average Bill over 6/12 months : Spending of customers. A number\n",
    "\n",
    "- Number of defaults in last 12 bills : Representative of timely bill payments.\n",
    "\n",
    "- Payment Method : Preferred Payment Method. (Cheque/Credit Card/Direct Debit)\n",
    "\n",
    "- District/Area : Location of Customer.\n",
    "\n",
    "- Concession Card : Does customer use one? (Yes/No)\n",
    "\n",
    "- Inbound/Outbound Calls : Number of calls customer made/made to customer. \n",
    "\n",
    "- Relationship (months) : Time customer has been using services.\n",
    "\n",
    "- Occupier Status : \n",
    "\n",
    "- Multiple Fuel :\n",
    "\n",
    "- Bill Delivery Method : How bills were sent to customers. (Mail/Internet/Email)\n",
    "\n",
    "- Category of Latest Complaint : Latest Recorded Complaint. (Call Drop/High Billed Amount/Internet Slowness/Data Charges/Network Coverage)        \n",
    "\n",
    "- NPS : Pre-Cleaned/Converted to Categorical. \n",
    "\n",
    "- Product/Multiple Products : Type of products used/Multiple types of products being used.(Mobile, Fixed Line, Internet Service)/(Yes/No)\n",
    "\n",
    "- Product_New: (Mobile/Fixed Line/Internet Service)       \n",
    "\n",
    "- Customer Segment: (Independents/Family & Self Development/Friends, Fun & Fashion/Principled Professional/Small Business/Entrepreneur)               \n",
    "\n",
    "- Product Category:\n",
    "\n",
    "- Bill Amount:       "
   ]
  },
  {
   "cell_type": "code",
   "execution_count": 66,
   "metadata": {
    "scrolled": true
   },
   "outputs": [
    {
     "data": {
      "text/plain": [
       "Customer ID                                           0\n",
       "Churned                                               0\n",
       "Age                                                 999\n",
       "Average Bill over 6 months                            0\n",
       "Average Bill over 12 months                           0\n",
       "Number of defaults in last 12 bills                   0\n",
       "Payment Method                                        0\n",
       "District                                              0\n",
       "Area                                                  0\n",
       "Concesssion Card                                      0\n",
       "INBOUNDCALLS                                          0\n",
       "OUTBOUNDCALLS                                         0\n",
       "Relationship (months)                               816\n",
       "Occupier Status                                       2\n",
       "Multiple Fuel                                         2\n",
       "Bill Delivery Method                                  0\n",
       "rpart                                                 0\n",
       "Category of latest complaint                          0\n",
       "NPS                                                   0\n",
       "Product                                               0\n",
       "Multiple Products                                     0\n",
       "Product_New                                           0\n",
       "Adjusted Prob for 50% Cut-off (without Formulae)      0\n",
       "Customer Segment                                      0\n",
       "Product Category                                      0\n",
       "Bill Amount                                           0\n",
       "dtype: int64"
      ]
     },
     "execution_count": 66,
     "metadata": {},
     "output_type": "execute_result"
    }
   ],
   "source": [
    "#check number of null values in each column. Since number of rows is greater than 5% of all records,\n",
    "#we will not outright drop them.\n",
    "\n",
    "data.isnull().sum()\n",
    "\n",
    "\n",
    "#Since the total number of columns that would be dropped would be greater than 5% of the total,\n",
    "#they won't be outright dropped with .dropna()\n",
    "# Age : 999\n",
    "# Relationship(months) : 816\n",
    "# Occupier Status : 2\n",
    "# Multiple Fuel : 2"
   ]
  },
  {
   "cell_type": "code",
   "execution_count": 67,
   "metadata": {
    "scrolled": true
   },
   "outputs": [
    {
     "data": {
      "text/plain": [
       "Index(['Customer ID', 'Churned', 'Age', 'Average Bill over 6 months',\n",
       "       'Average Bill over 12 months', 'Number of defaults in last 12 bills',\n",
       "       'Payment Method', 'District', 'Area', 'Concesssion Card',\n",
       "       'INBOUNDCALLS', 'OUTBOUNDCALLS', 'Relationship (months)',\n",
       "       'Occupier Status', 'Multiple Fuel', 'Bill Delivery Method', 'rpart',\n",
       "       'Category of latest complaint', 'NPS', 'Product', 'Multiple Products',\n",
       "       'Product_New', 'Adjusted Prob for 50% Cut-off (without Formulae)',\n",
       "       'Customer Segment', 'Product Category', 'Bill Amount'],\n",
       "      dtype='object')"
      ]
     },
     "execution_count": 67,
     "metadata": {},
     "output_type": "execute_result"
    }
   ],
   "source": [
    "## List of all columns\n",
    "\n",
    "data.columns"
   ]
  },
  {
   "cell_type": "markdown",
   "metadata": {},
   "source": [
    "### Churned"
   ]
  },
  {
   "cell_type": "code",
   "execution_count": 68,
   "metadata": {},
   "outputs": [
    {
     "data": {
      "text/plain": [
       "0    16556\n",
       "1     1809\n",
       "Name: Churned, dtype: int64"
      ]
     },
     "execution_count": 68,
     "metadata": {},
     "output_type": "execute_result"
    }
   ],
   "source": [
    "#Convert Churned to Categorical\n",
    "data['Churned'] = data['Churned'].map({'Yes':1,'No':0})\n",
    "data['Churned'].value_counts()"
   ]
  },
  {
   "cell_type": "markdown",
   "metadata": {},
   "source": [
    "### Age"
   ]
  },
  {
   "cell_type": "code",
   "execution_count": 69,
   "metadata": {},
   "outputs": [
    {
     "data": {
      "text/plain": [
       "<matplotlib.axes._subplots.AxesSubplot at 0x1de5e869a08>"
      ]
     },
     "execution_count": 69,
     "metadata": {},
     "output_type": "execute_result"
    },
    {
     "data": {
      "image/png": "[encoded data removed]",
      "text/plain": [
       "<Figure size 432x288 with 1 Axes>"
      ]
     },
     "metadata": {},
     "output_type": "display_data"
    }
   ],
   "source": [
    "#Distplot to see distribution of age values.\n",
    "#Distplot shows highest density of ages between the 40 to 60 mark\n",
    "\n",
    "sns.distplot(data['Age'])"
   ]
  },
  {
   "cell_type": "code",
   "execution_count": 70,
   "metadata": {},
   "outputs": [
    {
     "name": "stdout",
     "output_type": "stream",
     "text": [
      "count    17366.000000\n",
      "mean        51.422204\n",
      "std         17.456052\n",
      "min         18.000000\n",
      "25%         37.000000\n",
      "50%         50.000000\n",
      "75%         65.000000\n",
      "max        116.000000\n",
      "Name: Age, dtype: float64 \n",
      " median =  50.0\n"
     ]
    }
   ],
   "source": [
    "print(data['Age'].describe(),'\\n','median = ', data['Age'].median())"
   ]
  },
  {
   "cell_type": "code",
   "execution_count": 71,
   "metadata": {},
   "outputs": [
    {
     "data": {
      "text/plain": [
       "count    18365.000000\n",
       "mean        51.399238\n",
       "std         16.974879\n",
       "min         18.000000\n",
       "25%         38.000000\n",
       "50%         51.000000\n",
       "75%         64.000000\n",
       "max        116.000000\n",
       "Name: Age, dtype: float64"
      ]
     },
     "execution_count": 71,
     "metadata": {},
     "output_type": "execute_result"
    }
   ],
   "source": [
    "#fill missing values with median\n",
    "v1 = {'Age' : 51}\n",
    "data = data.fillna(value = v1)\n",
    "data['Age'].describe()\n"
   ]
  },
  {
   "cell_type": "code",
   "execution_count": 72,
   "metadata": {},
   "outputs": [],
   "source": [
    "#Some Consideration for Conversion to Categorical."
   ]
  },
  {
   "cell_type": "markdown",
   "metadata": {},
   "source": [
    "### Average Bill over 6 months"
   ]
  },
  {
   "cell_type": "code",
   "execution_count": 73,
   "metadata": {
    "scrolled": true
   },
   "outputs": [
    {
     "data": {
      "text/plain": [
       "<matplotlib.axes._subplots.AxesSubplot at 0x1de5e92c548>"
      ]
     },
     "execution_count": 73,
     "metadata": {},
     "output_type": "execute_result"
    },
    {
     "data": {
      "image/png": "[encoded data removed]",
      "text/plain": [
       "<Figure size 432x288 with 1 Axes>"
      ]
     },
     "metadata": {},
     "output_type": "display_data"
    }
   ],
   "source": [
    "sns.distplot(data['Average Bill over 6 months'],norm_hist=False)"
   ]
  },
  {
   "cell_type": "markdown",
   "metadata": {
    "scrolled": true
   },
   "source": [
    "## Average Bill over 12 months\n",
    "       "
   ]
  },
  {
   "cell_type": "code",
   "execution_count": 74,
   "metadata": {
    "scrolled": true
   },
   "outputs": [
    {
     "data": {
      "text/plain": [
       "<matplotlib.axes._subplots.AxesSubplot at 0x1de60106c88>"
      ]
     },
     "execution_count": 74,
     "metadata": {},
     "output_type": "execute_result"
    },
    {
     "data": {
      "image/png": "[encoded data removed]",
      "text/plain": [
       "<Figure size 432x288 with 1 Axes>"
      ]
     },
     "metadata": {},
     "output_type": "display_data"
    }
   ],
   "source": [
    "sns.distplot(data['Average Bill over 12 months'],norm_hist=False)"
   ]
  },
  {
   "cell_type": "code",
   "execution_count": 75,
   "metadata": {},
   "outputs": [
    {
     "name": "stdout",
     "output_type": "stream",
     "text": [
      "percent of data with > 250 bill = 0.012850530901170705\n"
     ]
    }
   ],
   "source": [
    "data[data['Average Bill over 12 months'] > 250].count()\n",
    "\n",
    "'\\n'\n",
    "print('percent of data with > 250 bill =' ,236/18365)"
   ]
  },
  {
   "cell_type": "code",
   "execution_count": 76,
   "metadata": {},
   "outputs": [],
   "source": [
    "#since only 0.013% values consist of outliers, we'll get rid of them\n",
    "\n",
    "a = data['Average Bill over 12 months'].quantile(0.987)\n",
    "data1 = data[data['Average Bill over 12 months']<a]\n"
   ]
  },
  {
   "cell_type": "code",
   "execution_count": 77,
   "metadata": {},
   "outputs": [
    {
     "data": {
      "text/plain": [
       "<matplotlib.axes._subplots.AxesSubplot at 0x1de606d2b88>"
      ]
     },
     "execution_count": 77,
     "metadata": {},
     "output_type": "execute_result"
    },
    {
     "data": {
      "image/png": "[encoded data removed]",
      "text/plain": [
       "<Figure size 432x288 with 1 Axes>"
      ]
     },
     "metadata": {},
     "output_type": "display_data"
    }
   ],
   "source": [
    "sns.distplot(data1['Average Bill over 12 months'])"
   ]
  },
  {
   "cell_type": "markdown",
   "metadata": {},
   "source": [
    "### 'Number of defaults in last 12 bills'"
   ]
  },
  {
   "cell_type": "code",
   "execution_count": 78,
   "metadata": {
    "scrolled": true
   },
   "outputs": [
    {
     "data": {
      "text/plain": [
       "0     6363\n",
       "1     3960\n",
       "2     2522\n",
       "3     1710\n",
       "4     1308\n",
       "5      672\n",
       "6      431\n",
       "7      297\n",
       "8      224\n",
       "12     207\n",
       "9      183\n",
       "11     134\n",
       "10     115\n",
       "Name: Number of defaults in last 12 bills, dtype: int64"
      ]
     },
     "execution_count": 78,
     "metadata": {},
     "output_type": "execute_result"
    }
   ],
   "source": [
    "data1['Number of defaults in last 12 bills'].value_counts()"
   ]
  },
  {
   "cell_type": "markdown",
   "metadata": {},
   "source": [
    "### Payment Method"
   ]
  },
  {
   "cell_type": "code",
   "execution_count": 79,
   "metadata": {
    "scrolled": false
   },
   "outputs": [
    {
     "data": {
      "text/plain": [
       "Cheque          14557\n",
       "Credit Card      2114\n",
       "Direct Debit     1455\n",
       "Name: Payment Method, dtype: int64"
      ]
     },
     "execution_count": 79,
     "metadata": {},
     "output_type": "execute_result"
    }
   ],
   "source": [
    "data1['Payment Method'].value_counts()"
   ]
  },
  {
   "cell_type": "code",
   "execution_count": 80,
   "metadata": {},
   "outputs": [
    {
     "data": {
      "text/plain": [
       "0    16350\n",
       "1     1776\n",
       "Name: Churned, dtype: int64"
      ]
     },
     "execution_count": 80,
     "metadata": {},
     "output_type": "execute_result"
    }
   ],
   "source": [
    "data1['Churned'].value_counts()"
   ]
  },
  {
   "cell_type": "code",
   "execution_count": 81,
   "metadata": {},
   "outputs": [
    {
     "data": {
      "text/plain": [
       "0    14557\n",
       "1     2114\n",
       "2     1455\n",
       "Name: Payment Method, dtype: int64"
      ]
     },
     "execution_count": 81,
     "metadata": {},
     "output_type": "execute_result"
    }
   ],
   "source": [
    "#Convert to Categorical\n",
    "data2['Payment Method'] = data1['Payment Method'].map({'Cheque':0, 'Credit Card':1, 'Direct Debit':2})\n",
    "data2['Payment Method'].value_counts()"
   ]
  },
  {
   "cell_type": "code",
   "execution_count": 82,
   "metadata": {},
   "outputs": [
    {
     "data": {
      "text/html": [
       "<div>\n",
       "<style scoped>\n",
       "    .dataframe tbody tr th:only-of-type {\n",
       "        vertical-align: middle;\n",
       "    }\n",
       "\n",
       "    .dataframe tbody tr th {\n",
       "        vertical-align: top;\n",
       "    }\n",
       "\n",
       "    .dataframe thead th {\n",
       "        text-align: right;\n",
       "    }\n",
       "</style>\n",
       "<table border=\"1\" class=\"dataframe\">\n",
       "  <thead>\n",
       "    <tr style=\"text-align: right;\">\n",
       "      <th>Age</th>\n",
       "      <th>18.0</th>\n",
       "      <th>19.0</th>\n",
       "      <th>20.0</th>\n",
       "      <th>21.0</th>\n",
       "      <th>22.0</th>\n",
       "      <th>23.0</th>\n",
       "      <th>24.0</th>\n",
       "      <th>25.0</th>\n",
       "      <th>26.0</th>\n",
       "      <th>27.0</th>\n",
       "      <th>...</th>\n",
       "      <th>95.0</th>\n",
       "      <th>96.0</th>\n",
       "      <th>97.0</th>\n",
       "      <th>98.0</th>\n",
       "      <th>99.0</th>\n",
       "      <th>100.0</th>\n",
       "      <th>101.0</th>\n",
       "      <th>102.0</th>\n",
       "      <th>103.0</th>\n",
       "      <th>116.0</th>\n",
       "    </tr>\n",
       "    <tr>\n",
       "      <th>Payment Method</th>\n",
       "      <th></th>\n",
       "      <th></th>\n",
       "      <th></th>\n",
       "      <th></th>\n",
       "      <th></th>\n",
       "      <th></th>\n",
       "      <th></th>\n",
       "      <th></th>\n",
       "      <th></th>\n",
       "      <th></th>\n",
       "      <th></th>\n",
       "      <th></th>\n",
       "      <th></th>\n",
       "      <th></th>\n",
       "      <th></th>\n",
       "      <th></th>\n",
       "      <th></th>\n",
       "      <th></th>\n",
       "      <th></th>\n",
       "      <th></th>\n",
       "      <th></th>\n",
       "    </tr>\n",
       "  </thead>\n",
       "  <tbody>\n",
       "    <tr>\n",
       "      <th>Cheque</th>\n",
       "      <td>2</td>\n",
       "      <td>18</td>\n",
       "      <td>47</td>\n",
       "      <td>90</td>\n",
       "      <td>122</td>\n",
       "      <td>107</td>\n",
       "      <td>163</td>\n",
       "      <td>171</td>\n",
       "      <td>184</td>\n",
       "      <td>206</td>\n",
       "      <td>...</td>\n",
       "      <td>15</td>\n",
       "      <td>8</td>\n",
       "      <td>7</td>\n",
       "      <td>2</td>\n",
       "      <td>3</td>\n",
       "      <td>2</td>\n",
       "      <td>1</td>\n",
       "      <td>3</td>\n",
       "      <td>1</td>\n",
       "      <td>1</td>\n",
       "    </tr>\n",
       "    <tr>\n",
       "      <th>Credit Card</th>\n",
       "      <td>0</td>\n",
       "      <td>2</td>\n",
       "      <td>2</td>\n",
       "      <td>8</td>\n",
       "      <td>12</td>\n",
       "      <td>13</td>\n",
       "      <td>15</td>\n",
       "      <td>14</td>\n",
       "      <td>27</td>\n",
       "      <td>34</td>\n",
       "      <td>...</td>\n",
       "      <td>1</td>\n",
       "      <td>1</td>\n",
       "      <td>0</td>\n",
       "      <td>0</td>\n",
       "      <td>0</td>\n",
       "      <td>0</td>\n",
       "      <td>0</td>\n",
       "      <td>0</td>\n",
       "      <td>0</td>\n",
       "      <td>0</td>\n",
       "    </tr>\n",
       "    <tr>\n",
       "      <th>Direct Debit</th>\n",
       "      <td>1</td>\n",
       "      <td>2</td>\n",
       "      <td>6</td>\n",
       "      <td>5</td>\n",
       "      <td>6</td>\n",
       "      <td>13</td>\n",
       "      <td>11</td>\n",
       "      <td>17</td>\n",
       "      <td>14</td>\n",
       "      <td>22</td>\n",
       "      <td>...</td>\n",
       "      <td>5</td>\n",
       "      <td>1</td>\n",
       "      <td>1</td>\n",
       "      <td>1</td>\n",
       "      <td>0</td>\n",
       "      <td>0</td>\n",
       "      <td>0</td>\n",
       "      <td>0</td>\n",
       "      <td>0</td>\n",
       "      <td>0</td>\n",
       "    </tr>\n",
       "  </tbody>\n",
       "</table>\n",
       "<p>3 rows × 87 columns</p>\n",
       "</div>"
      ],
      "text/plain": [
       "Age             18.0   19.0   20.0   21.0   22.0   23.0   24.0   25.0   26.0   \\\n",
       "Payment Method                                                                  \n",
       "Cheque              2     18     47     90    122    107    163    171    184   \n",
       "Credit Card         0      2      2      8     12     13     15     14     27   \n",
       "Direct Debit        1      2      6      5      6     13     11     17     14   \n",
       "\n",
       "Age             27.0   ...  95.0   96.0   97.0   98.0   99.0   100.0  101.0  \\\n",
       "Payment Method         ...                                                    \n",
       "Cheque            206  ...     15      8      7      2      3      2      1   \n",
       "Credit Card        34  ...      1      1      0      0      0      0      0   \n",
       "Direct Debit       22  ...      5      1      1      1      0      0      0   \n",
       "\n",
       "Age             102.0  103.0  116.0  \n",
       "Payment Method                       \n",
       "Cheque              3      1      1  \n",
       "Credit Card         0      0      0  \n",
       "Direct Debit        0      0      0  \n",
       "\n",
       "[3 rows x 87 columns]"
      ]
     },
     "execution_count": 82,
     "metadata": {},
     "output_type": "execute_result"
    }
   ],
   "source": [
    "#This would look better if Age was categorized as well\n",
    "pd.crosstab(data['Payment Method'],data['Age'])"
   ]
  },
  {
   "cell_type": "code",
   "execution_count": 86,
   "metadata": {},
   "outputs": [
    {
     "ename": "TypeError",
     "evalue": "'Series' objects are mutable, thus they cannot be hashed",
     "output_type": "error",
     "traceback": [
      "\u001b[1;31m---------------------------------------------------------------------------\u001b[0m",
      "\u001b[1;31mTypeError\u001b[0m                                 Traceback (most recent call last)",
      "\u001b[1;32mpandas\\_libs\\hashtable_class_helper.pxi\u001b[0m in \u001b[0;36mpandas._libs.hashtable.PyObjectHashTable.map_locations\u001b[1;34m()\u001b[0m\n",
      "\u001b[1;32mD:\\Ana\\lib\\site-packages\\pandas\\core\\generic.py\u001b[0m in \u001b[0;36m__hash__\u001b[1;34m(self)\u001b[0m\n\u001b[0;32m   1797\u001b[0m     \u001b[1;32mdef\u001b[0m \u001b[0m__hash__\u001b[0m\u001b[1;33m(\u001b[0m\u001b[0mself\u001b[0m\u001b[1;33m)\u001b[0m\u001b[1;33m:\u001b[0m\u001b[1;33m\u001b[0m\u001b[1;33m\u001b[0m\u001b[0m\n\u001b[0;32m   1798\u001b[0m         raise TypeError(\n\u001b[1;32m-> 1799\u001b[1;33m             \u001b[1;34mf\"{repr(type(self).__name__)} objects are mutable, \"\u001b[0m\u001b[1;33m\u001b[0m\u001b[1;33m\u001b[0m\u001b[0m\n\u001b[0m\u001b[0;32m   1800\u001b[0m             \u001b[1;34mf\"thus they cannot be hashed\"\u001b[0m\u001b[1;33m\u001b[0m\u001b[1;33m\u001b[0m\u001b[0m\n\u001b[0;32m   1801\u001b[0m         )\n",
      "\u001b[1;31mTypeError\u001b[0m: 'Series' objects are mutable, thus they cannot be hashed"
     ]
    },
    {
     "name": "stderr",
     "output_type": "stream",
     "text": [
      "Exception ignored in: 'pandas._libs.index.IndexEngine._call_map_locations'\n",
      "Traceback (most recent call last):\n",
      "  File \"pandas\\_libs\\hashtable_class_helper.pxi\", line 1652, in pandas._libs.hashtable.PyObjectHashTable.map_locations\n",
      "  File \"D:\\Ana\\lib\\site-packages\\pandas\\core\\generic.py\", line 1799, in __hash__\n",
      "    f\"{repr(type(self).__name__)} objects are mutable, \"\n",
      "TypeError: 'Series' objects are mutable, thus they cannot be hashed\n"
     ]
    },
    {
     "data": {
      "text/plain": [
       "count     18127\n",
       "unique        4\n",
       "top           0\n",
       "freq      14557\n",
       "Name: Payment Method, dtype: int64"
      ]
     },
     "execution_count": 86,
     "metadata": {},
     "output_type": "execute_result"
    }
   ],
   "source": [
    "data2.describe()"
   ]
  },
  {
   "cell_type": "code",
   "execution_count": 84,
   "metadata": {},
   "outputs": [],
   "source": [
    "def bar_chart1(feature):\n",
    "    Yes = data2[data2['Churned']==1][feature].value_counts()\n",
    "    No = data2[data2['Churned']==0][feature].value_counts()\n",
    "    df = pd.DataFrame([Yes,No])\n",
    "    df.index = ['Yes','No']\n",
    "    df.plot(kind='bar',stacked=True, figsize=(10,5))"
   ]
  },
  {
   "cell_type": "code",
   "execution_count": 85,
   "metadata": {},
   "outputs": [
    {
     "ename": "KeyError",
     "evalue": "'Churned'",
     "output_type": "error",
     "traceback": [
      "\u001b[1;31m---------------------------------------------------------------------------\u001b[0m",
      "\u001b[1;31mKeyError\u001b[0m                                  Traceback (most recent call last)",
      "\u001b[1;32m<ipython-input-85-462b14f43a3a>\u001b[0m in \u001b[0;36m<module>\u001b[1;34m\u001b[0m\n\u001b[1;32m----> 1\u001b[1;33m \u001b[0mbar_chart1\u001b[0m\u001b[1;33m(\u001b[0m\u001b[1;34m'Payment Method'\u001b[0m\u001b[1;33m)\u001b[0m\u001b[1;33m\u001b[0m\u001b[1;33m\u001b[0m\u001b[0m\n\u001b[0m",
      "\u001b[1;32m<ipython-input-84-abb181878b4c>\u001b[0m in \u001b[0;36mbar_chart1\u001b[1;34m(feature)\u001b[0m\n\u001b[0;32m      1\u001b[0m \u001b[1;32mdef\u001b[0m \u001b[0mbar_chart1\u001b[0m\u001b[1;33m(\u001b[0m\u001b[0mfeature\u001b[0m\u001b[1;33m)\u001b[0m\u001b[1;33m:\u001b[0m\u001b[1;33m\u001b[0m\u001b[1;33m\u001b[0m\u001b[0m\n\u001b[1;32m----> 2\u001b[1;33m     \u001b[0mYes\u001b[0m \u001b[1;33m=\u001b[0m \u001b[0mdata2\u001b[0m\u001b[1;33m[\u001b[0m\u001b[0mdata2\u001b[0m\u001b[1;33m[\u001b[0m\u001b[1;34m'Churned'\u001b[0m\u001b[1;33m]\u001b[0m\u001b[1;33m==\u001b[0m\u001b[1;36m1\u001b[0m\u001b[1;33m]\u001b[0m\u001b[1;33m[\u001b[0m\u001b[0mfeature\u001b[0m\u001b[1;33m]\u001b[0m\u001b[1;33m.\u001b[0m\u001b[0mvalue_counts\u001b[0m\u001b[1;33m(\u001b[0m\u001b[1;33m)\u001b[0m\u001b[1;33m\u001b[0m\u001b[1;33m\u001b[0m\u001b[0m\n\u001b[0m\u001b[0;32m      3\u001b[0m     \u001b[0mNo\u001b[0m \u001b[1;33m=\u001b[0m \u001b[0mdata2\u001b[0m\u001b[1;33m[\u001b[0m\u001b[0mdata2\u001b[0m\u001b[1;33m[\u001b[0m\u001b[1;34m'Churned'\u001b[0m\u001b[1;33m]\u001b[0m\u001b[1;33m==\u001b[0m\u001b[1;36m0\u001b[0m\u001b[1;33m]\u001b[0m\u001b[1;33m[\u001b[0m\u001b[0mfeature\u001b[0m\u001b[1;33m]\u001b[0m\u001b[1;33m.\u001b[0m\u001b[0mvalue_counts\u001b[0m\u001b[1;33m(\u001b[0m\u001b[1;33m)\u001b[0m\u001b[1;33m\u001b[0m\u001b[1;33m\u001b[0m\u001b[0m\n\u001b[0;32m      4\u001b[0m     \u001b[0mdf\u001b[0m \u001b[1;33m=\u001b[0m \u001b[0mpd\u001b[0m\u001b[1;33m.\u001b[0m\u001b[0mDataFrame\u001b[0m\u001b[1;33m(\u001b[0m\u001b[1;33m[\u001b[0m\u001b[0mYes\u001b[0m\u001b[1;33m,\u001b[0m\u001b[0mNo\u001b[0m\u001b[1;33m]\u001b[0m\u001b[1;33m)\u001b[0m\u001b[1;33m\u001b[0m\u001b[1;33m\u001b[0m\u001b[0m\n\u001b[0;32m      5\u001b[0m     \u001b[0mdf\u001b[0m\u001b[1;33m.\u001b[0m\u001b[0mindex\u001b[0m \u001b[1;33m=\u001b[0m \u001b[1;33m[\u001b[0m\u001b[1;34m'Yes'\u001b[0m\u001b[1;33m,\u001b[0m\u001b[1;34m'No'\u001b[0m\u001b[1;33m]\u001b[0m\u001b[1;33m\u001b[0m\u001b[1;33m\u001b[0m\u001b[0m\n",
      "\u001b[1;32mD:\\Ana\\lib\\site-packages\\pandas\\core\\series.py\u001b[0m in \u001b[0;36m__getitem__\u001b[1;34m(self, key)\u001b[0m\n\u001b[0;32m    869\u001b[0m         \u001b[0mkey\u001b[0m \u001b[1;33m=\u001b[0m \u001b[0mcom\u001b[0m\u001b[1;33m.\u001b[0m\u001b[0mapply_if_callable\u001b[0m\u001b[1;33m(\u001b[0m\u001b[0mkey\u001b[0m\u001b[1;33m,\u001b[0m \u001b[0mself\u001b[0m\u001b[1;33m)\u001b[0m\u001b[1;33m\u001b[0m\u001b[1;33m\u001b[0m\u001b[0m\n\u001b[0;32m    870\u001b[0m         \u001b[1;32mtry\u001b[0m\u001b[1;33m:\u001b[0m\u001b[1;33m\u001b[0m\u001b[1;33m\u001b[0m\u001b[0m\n\u001b[1;32m--> 871\u001b[1;33m             \u001b[0mresult\u001b[0m \u001b[1;33m=\u001b[0m \u001b[0mself\u001b[0m\u001b[1;33m.\u001b[0m\u001b[0mindex\u001b[0m\u001b[1;33m.\u001b[0m\u001b[0mget_value\u001b[0m\u001b[1;33m(\u001b[0m\u001b[0mself\u001b[0m\u001b[1;33m,\u001b[0m \u001b[0mkey\u001b[0m\u001b[1;33m)\u001b[0m\u001b[1;33m\u001b[0m\u001b[1;33m\u001b[0m\u001b[0m\n\u001b[0m\u001b[0;32m    872\u001b[0m \u001b[1;33m\u001b[0m\u001b[0m\n\u001b[0;32m    873\u001b[0m             \u001b[1;32mif\u001b[0m \u001b[1;32mnot\u001b[0m \u001b[0mis_scalar\u001b[0m\u001b[1;33m(\u001b[0m\u001b[0mresult\u001b[0m\u001b[1;33m)\u001b[0m\u001b[1;33m:\u001b[0m\u001b[1;33m\u001b[0m\u001b[1;33m\u001b[0m\u001b[0m\n",
      "\u001b[1;32mD:\\Ana\\lib\\site-packages\\pandas\\core\\indexes\\base.py\u001b[0m in \u001b[0;36mget_value\u001b[1;34m(self, series, key)\u001b[0m\n\u001b[0;32m   4403\u001b[0m         \u001b[0mk\u001b[0m \u001b[1;33m=\u001b[0m \u001b[0mself\u001b[0m\u001b[1;33m.\u001b[0m\u001b[0m_convert_scalar_indexer\u001b[0m\u001b[1;33m(\u001b[0m\u001b[0mk\u001b[0m\u001b[1;33m,\u001b[0m \u001b[0mkind\u001b[0m\u001b[1;33m=\u001b[0m\u001b[1;34m\"getitem\"\u001b[0m\u001b[1;33m)\u001b[0m\u001b[1;33m\u001b[0m\u001b[1;33m\u001b[0m\u001b[0m\n\u001b[0;32m   4404\u001b[0m         \u001b[1;32mtry\u001b[0m\u001b[1;33m:\u001b[0m\u001b[1;33m\u001b[0m\u001b[1;33m\u001b[0m\u001b[0m\n\u001b[1;32m-> 4405\u001b[1;33m             \u001b[1;32mreturn\u001b[0m \u001b[0mself\u001b[0m\u001b[1;33m.\u001b[0m\u001b[0m_engine\u001b[0m\u001b[1;33m.\u001b[0m\u001b[0mget_value\u001b[0m\u001b[1;33m(\u001b[0m\u001b[0ms\u001b[0m\u001b[1;33m,\u001b[0m \u001b[0mk\u001b[0m\u001b[1;33m,\u001b[0m \u001b[0mtz\u001b[0m\u001b[1;33m=\u001b[0m\u001b[0mgetattr\u001b[0m\u001b[1;33m(\u001b[0m\u001b[0mseries\u001b[0m\u001b[1;33m.\u001b[0m\u001b[0mdtype\u001b[0m\u001b[1;33m,\u001b[0m \u001b[1;34m\"tz\"\u001b[0m\u001b[1;33m,\u001b[0m \u001b[1;32mNone\u001b[0m\u001b[1;33m)\u001b[0m\u001b[1;33m)\u001b[0m\u001b[1;33m\u001b[0m\u001b[1;33m\u001b[0m\u001b[0m\n\u001b[0m\u001b[0;32m   4406\u001b[0m         \u001b[1;32mexcept\u001b[0m \u001b[0mKeyError\u001b[0m \u001b[1;32mas\u001b[0m \u001b[0me1\u001b[0m\u001b[1;33m:\u001b[0m\u001b[1;33m\u001b[0m\u001b[1;33m\u001b[0m\u001b[0m\n\u001b[0;32m   4407\u001b[0m             \u001b[1;32mif\u001b[0m \u001b[0mlen\u001b[0m\u001b[1;33m(\u001b[0m\u001b[0mself\u001b[0m\u001b[1;33m)\u001b[0m \u001b[1;33m>\u001b[0m \u001b[1;36m0\u001b[0m \u001b[1;32mand\u001b[0m \u001b[1;33m(\u001b[0m\u001b[0mself\u001b[0m\u001b[1;33m.\u001b[0m\u001b[0mholds_integer\u001b[0m\u001b[1;33m(\u001b[0m\u001b[1;33m)\u001b[0m \u001b[1;32mor\u001b[0m \u001b[0mself\u001b[0m\u001b[1;33m.\u001b[0m\u001b[0mis_boolean\u001b[0m\u001b[1;33m(\u001b[0m\u001b[1;33m)\u001b[0m\u001b[1;33m)\u001b[0m\u001b[1;33m:\u001b[0m\u001b[1;33m\u001b[0m\u001b[1;33m\u001b[0m\u001b[0m\n",
      "\u001b[1;32mpandas\\_libs\\index.pyx\u001b[0m in \u001b[0;36mpandas._libs.index.IndexEngine.get_value\u001b[1;34m()\u001b[0m\n",
      "\u001b[1;32mpandas\\_libs\\index.pyx\u001b[0m in \u001b[0;36mpandas._libs.index.IndexEngine.get_value\u001b[1;34m()\u001b[0m\n",
      "\u001b[1;32mpandas\\_libs\\index.pyx\u001b[0m in \u001b[0;36mpandas._libs.index.IndexEngine.get_loc\u001b[1;34m()\u001b[0m\n",
      "\u001b[1;32mpandas\\_libs\\hashtable_class_helper.pxi\u001b[0m in \u001b[0;36mpandas._libs.hashtable.PyObjectHashTable.get_item\u001b[1;34m()\u001b[0m\n",
      "\u001b[1;32mpandas\\_libs\\hashtable_class_helper.pxi\u001b[0m in \u001b[0;36mpandas._libs.hashtable.PyObjectHashTable.get_item\u001b[1;34m()\u001b[0m\n",
      "\u001b[1;31mKeyError\u001b[0m: 'Churned'"
     ]
    }
   ],
   "source": [
    "bar_chart1('Payment Method')"
   ]
  },
  {
   "cell_type": "markdown",
   "metadata": {},
   "source": [
    "### District"
   ]
  },
  {
   "cell_type": "code",
   "execution_count": null,
   "metadata": {},
   "outputs": [],
   "source": [
    "data['District'].value_counts()"
   ]
  },
  {
   "cell_type": "markdown",
   "metadata": {},
   "source": [
    "### Area"
   ]
  },
  {
   "cell_type": "code",
   "execution_count": null,
   "metadata": {},
   "outputs": [],
   "source": [
    "# Area and District seem ot be the same\n",
    "data['Area'].value_counts()"
   ]
  },
  {
   "cell_type": "markdown",
   "metadata": {},
   "source": [
    "### Concession Card"
   ]
  },
  {
   "cell_type": "code",
   "execution_count": null,
   "metadata": {},
   "outputs": [],
   "source": [
    "data['Concesssion Card'].value_counts()"
   ]
  },
  {
   "cell_type": "markdown",
   "metadata": {},
   "source": [
    "### Inbound Calls"
   ]
  },
  {
   "cell_type": "code",
   "execution_count": null,
   "metadata": {},
   "outputs": [],
   "source": [
    "data['INBOUNDCALLS'].value_counts()"
   ]
  },
  {
   "cell_type": "markdown",
   "metadata": {},
   "source": [
    "### Outbound Calls"
   ]
  },
  {
   "cell_type": "code",
   "execution_count": null,
   "metadata": {},
   "outputs": [],
   "source": [
    "data['OUTBOUNDCALLS'].value_counts()"
   ]
  },
  {
   "cell_type": "markdown",
   "metadata": {},
   "source": [
    "### Relationship (months)"
   ]
  },
  {
   "cell_type": "code",
   "execution_count": null,
   "metadata": {},
   "outputs": [],
   "source": [
    "data['Relationship (months)'].value_counts()"
   ]
  },
  {
   "cell_type": "markdown",
   "metadata": {},
   "source": [
    "### Occupier Status"
   ]
  },
  {
   "cell_type": "code",
   "execution_count": null,
   "metadata": {},
   "outputs": [],
   "source": [
    "data['Occupier Status'].value_counts()"
   ]
  },
  {
   "cell_type": "markdown",
   "metadata": {},
   "source": [
    "### Multiple Fuel"
   ]
  },
  {
   "cell_type": "code",
   "execution_count": null,
   "metadata": {},
   "outputs": [],
   "source": [
    "data['Multiple Fuel'].value_counts()"
   ]
  },
  {
   "cell_type": "markdown",
   "metadata": {},
   "source": [
    "### Bill Delivery Method"
   ]
  },
  {
   "cell_type": "code",
   "execution_count": null,
   "metadata": {},
   "outputs": [],
   "source": [
    "data['Bill Delivery Method'].value_counts()"
   ]
  },
  {
   "cell_type": "markdown",
   "metadata": {},
   "source": [
    "### Catrgory of Latest Complaint"
   ]
  },
  {
   "cell_type": "code",
   "execution_count": null,
   "metadata": {},
   "outputs": [],
   "source": [
    "data['Category of latest complaint'].value_counts()"
   ]
  },
  {
   "cell_type": "markdown",
   "metadata": {},
   "source": [
    "### NPS"
   ]
  },
  {
   "cell_type": "code",
   "execution_count": null,
   "metadata": {},
   "outputs": [],
   "source": [
    "data['NPS'].value_counts()"
   ]
  },
  {
   "cell_type": "markdown",
   "metadata": {},
   "source": [
    "### Product"
   ]
  },
  {
   "cell_type": "code",
   "execution_count": null,
   "metadata": {},
   "outputs": [],
   "source": [
    "data['Product'].value_counts()"
   ]
  },
  {
   "cell_type": "markdown",
   "metadata": {},
   "source": [
    "### Multiple Products"
   ]
  },
  {
   "cell_type": "code",
   "execution_count": null,
   "metadata": {},
   "outputs": [],
   "source": [
    "data['Multiple Products'].value_counts()"
   ]
  },
  {
   "cell_type": "markdown",
   "metadata": {},
   "source": [
    "### Product_New"
   ]
  },
  {
   "cell_type": "code",
   "execution_count": null,
   "metadata": {},
   "outputs": [],
   "source": [
    "data['Product'].value_counts()"
   ]
  },
  {
   "cell_type": "markdown",
   "metadata": {},
   "source": [
    "### Customer Segment"
   ]
  },
  {
   "cell_type": "code",
   "execution_count": null,
   "metadata": {},
   "outputs": [],
   "source": [
    "data['Customer Segment'].value_counts()"
   ]
  },
  {
   "cell_type": "markdown",
   "metadata": {},
   "source": [
    "### Product Category"
   ]
  },
  {
   "cell_type": "code",
   "execution_count": null,
   "metadata": {},
   "outputs": [],
   "source": [
    "data['Product Category'].value_counts()"
   ]
  },
  {
   "cell_type": "markdown",
   "metadata": {},
   "source": [
    "### Bill Amount"
   ]
  },
  {
   "cell_type": "code",
   "execution_count": null,
   "metadata": {},
   "outputs": [],
   "source": [
    "sns.distplot(data['Bill Amount'],norm_hist=False)"
   ]
  },
  {
   "cell_type": "code",
   "execution_count": null,
   "metadata": {},
   "outputs": [],
   "source": [
    "'District', 'Area', 'Concesssion Card',\n",
    "       'INBOUNDCALLS', 'OUTBOUNDCALLS', 'Relationship (months)',\n",
    "       'Occupier Status', 'Multiple Fuel', 'Bill Delivery Method', 'rpart',\n",
    "       'Category of latest complaint', 'NPS', 'Product', 'Multiple Products',\n",
    "       'Product_New', 'Adjusted Prob for 50% Cut-off (without Formulae)',\n",
    "       'Customer Segment', 'Product Category', 'Bill Amount'],"
   ]
  },
  {
   "cell_type": "markdown",
   "metadata": {},
   "source": [
    "# Feature Engineering"
   ]
  },
  {
   "cell_type": "code",
   "execution_count": null,
   "metadata": {},
   "outputs": [],
   "source": [
    "### List out all columns\n",
    "\n",
    "data.columns"
   ]
  },
  {
   "cell_type": "code",
   "execution_count": null,
   "metadata": {},
   "outputs": [],
   "source": [
    "'Churned'\n",
    "\n",
    "\n",
    "'Age', 'Average Bill over 12 months', 'Number of defaults in last 12 bills', 'Concesssion Card', 'Relationship (months)'\n",
    ",'Category of latest complaint','NPS','Multiple Products','Customer Segment','Product Category','Bill Amount'"
   ]
  },
  {
   "cell_type": "code",
   "execution_count": null,
   "metadata": {},
   "outputs": [],
   "source": [
    "data1 = data.copy()\n",
    "data1"
   ]
  },
  {
   "cell_type": "markdown",
   "metadata": {},
   "source": [
    "### Age"
   ]
  },
  {
   "cell_type": "code",
   "execution_count": null,
   "metadata": {},
   "outputs": [],
   "source": [
    "#average of ages in the Age column.\n",
    "\n",
    "data1['Age'].mean()"
   ]
  },
  {
   "cell_type": "code",
   "execution_count": null,
   "metadata": {},
   "outputs": [],
   "source": [
    "#for sort to work, either store the output in another variable and display that or just inplace = true\n",
    "\n",
    "#sorted = data.sort_values(by = 'Age', ascending = True)\n",
    "\n",
    "#sorted"
   ]
  },
  {
   "cell_type": "code",
   "execution_count": null,
   "metadata": {},
   "outputs": [],
   "source": [
    "#filling the NA values in Age with the mean value of Age column.\n",
    "#Could also fill with median values\n",
    "#data1[\"Age\"].fillna(data1.transform(\"median\"), inplace=True)\n",
    "values = {'Age' : 51}\n",
    "data1 = data1.fillna(value = values)\n",
    "data1"
   ]
  },
  {
   "cell_type": "markdown",
   "metadata": {},
   "source": [
    "### Mapping 'Churned' to 1 and 0"
   ]
  },
  {
   "cell_type": "code",
   "execution_count": null,
   "metadata": {},
   "outputs": [],
   "source": [
    "#Map Yes to 1 and No to 0.\n",
    "\n",
    "\n",
    "data1['Churned'] = data1['Churned'].map({'Yes':1,'No':0})\n"
   ]
  },
  {
   "cell_type": "code",
   "execution_count": null,
   "metadata": {},
   "outputs": [],
   "source": [
    "data1['Churned'].describe()"
   ]
  },
  {
   "cell_type": "code",
   "execution_count": null,
   "metadata": {},
   "outputs": [],
   "source": [
    "sns.scatterplot(y= data1['Churned'],x = data1['Customer ID'])"
   ]
  },
  {
   "cell_type": "code",
   "execution_count": null,
   "metadata": {},
   "outputs": [],
   "source": [
    "sns.scatterplot(y= data1['Average Bill over 12 months'],x = data1['Customer ID'])"
   ]
  },
  {
   "cell_type": "markdown",
   "metadata": {},
   "source": [
    "### Mapping 'Concession Card' to 1 and 0"
   ]
  },
  {
   "cell_type": "code",
   "execution_count": null,
   "metadata": {},
   "outputs": [],
   "source": [
    "#Map Yes to 1 and No to 0.\n",
    "\n",
    "\n",
    "data1['Concesssion Card'] = data1['Concesssion Card'].map({'Yes':1,'No':0})\n"
   ]
  },
  {
   "cell_type": "code",
   "execution_count": null,
   "metadata": {},
   "outputs": [],
   "source": [
    "data1['Concesssion Card'].describe()"
   ]
  },
  {
   "cell_type": "markdown",
   "metadata": {},
   "source": [
    "### 'Multiple Fuel'"
   ]
  },
  {
   "cell_type": "code",
   "execution_count": null,
   "metadata": {},
   "outputs": [],
   "source": [
    "data1['Multiple Fuel'].head()"
   ]
  },
  {
   "cell_type": "code",
   "execution_count": null,
   "metadata": {},
   "outputs": [],
   "source": [
    "data1['Multiple Fuel'] = data1['Multiple Fuel'].map({'Y':1,'N':0})\n"
   ]
  },
  {
   "cell_type": "code",
   "execution_count": null,
   "metadata": {},
   "outputs": [],
   "source": [
    "data1['Multiple Fuel'].describe()"
   ]
  },
  {
   "cell_type": "markdown",
   "metadata": {},
   "source": [
    "### 'Category of latest complaint'\n",
    "\n",
    "Call Drop = 1\n",
    "\n",
    "High Billed Amount = 2\n",
    "\n",
    "Internet Slowness = 3\n",
    "\n",
    "Data Charges = 4\n",
    "\n",
    "Network Coverage = 5"
   ]
  },
  {
   "cell_type": "code",
   "execution_count": null,
   "metadata": {},
   "outputs": [],
   "source": [
    "data1['Category of latest complaint'].value_counts()"
   ]
  },
  {
   "cell_type": "code",
   "execution_count": null,
   "metadata": {},
   "outputs": [],
   "source": [
    "value = {'Call Drop':1,'High Billed Amount':2,'Internet Slowness':3,'Data Charges':4,'Network Coverage':5}\n",
    "data1['Category of latest complaint'] = data1['Category of latest complaint'].map(value)"
   ]
  },
  {
   "cell_type": "code",
   "execution_count": null,
   "metadata": {},
   "outputs": [],
   "source": [
    "data1['Category of latest complaint'].describe()"
   ]
  },
  {
   "cell_type": "markdown",
   "metadata": {},
   "source": [
    "### Customer Segment\n",
    "\n",
    "Independents = 1\n",
    "\n",
    "Family & Self Development = 2\n",
    "\n",
    "Friends, Fun & Fashion = 3\n",
    "\n",
    "Principled Professional = 4\n",
    "\n",
    "Small Business = 5\n",
    "\n",
    "Entrepreneur = 6\n"
   ]
  },
  {
   "cell_type": "code",
   "execution_count": null,
   "metadata": {},
   "outputs": [],
   "source": [
    "data1['Customer Segment'].value_counts()"
   ]
  },
  {
   "cell_type": "code",
   "execution_count": null,
   "metadata": {},
   "outputs": [],
   "source": [
    "value2 = {\n",
    "'Independents':1\n",
    ",'Family & Self Development':2\n",
    ",'Friends, Fun & Fashion':3\n",
    ",'Principled Professional':4\n",
    ",'Small Business':5\n",
    ",'Entrepreneur':6\n",
    "}\n",
    "\n",
    "data1['Customer Segment'] = data1['Customer Segment'].map(value2)"
   ]
  },
  {
   "cell_type": "code",
   "execution_count": null,
   "metadata": {},
   "outputs": [],
   "source": [
    "data1['Customer Segment'].describe()"
   ]
  },
  {
   "cell_type": "markdown",
   "metadata": {},
   "source": [
    "### Product Category\n",
    "\n",
    "Fixed line=1    \n",
    "Mobile=2        \n",
    "Internet=3      \n",
    "Bundle=4        \n",
    "ADSL=5          \n",
    "Cable=6         "
   ]
  },
  {
   "cell_type": "code",
   "execution_count": null,
   "metadata": {},
   "outputs": [],
   "source": [
    "data1['Product Category'].value_counts()"
   ]
  },
  {
   "cell_type": "code",
   "execution_count": null,
   "metadata": {},
   "outputs": [],
   "source": [
    "value3 = {'Fixed line':1\n",
    ",'Mobile':2\n",
    ",'Internet':3\n",
    ",'Bundle':4\n",
    ",'ADSL':5\n",
    ",'Cable':6}\n",
    "\n",
    "data1['Product Category'] = data1['Product Category'].map(value3)"
   ]
  },
  {
   "cell_type": "code",
   "execution_count": null,
   "metadata": {
    "scrolled": true
   },
   "outputs": [],
   "source": [
    "data1['Product Category'].describe()"
   ]
  },
  {
   "cell_type": "code",
   "execution_count": null,
   "metadata": {},
   "outputs": [],
   "source": [
    "data1.isnull().sum()"
   ]
  },
  {
   "cell_type": "markdown",
   "metadata": {},
   "source": [
    "# Logit Regression"
   ]
  },
  {
   "cell_type": "code",
   "execution_count": null,
   "metadata": {},
   "outputs": [],
   "source": [
    "y = data1['Churned']\n",
    "\n",
    "estimators = ['Age','Concesssion Card','Category of latest complaint','Customer Segment','Product Category']\n",
    "x1 = data1[estimators]"
   ]
  },
  {
   "cell_type": "code",
   "execution_count": null,
   "metadata": {},
   "outputs": [],
   "source": [
    "x = sm.add_constant(x1)\n",
    "reg_log = sm.Logit(y,x)\n",
    "results = reg_log.fit()\n",
    "results.summary()"
   ]
  },
  {
   "cell_type": "code",
   "execution_count": null,
   "metadata": {},
   "outputs": [],
   "source": [
    "def confusion_matrix(data,actual_values,model):\n",
    "        \n",
    "        # Confusion matrix \n",
    "        \n",
    "        # Parameters\n",
    "        # ----------\n",
    "        # data: data frame or array\n",
    "            # data is a data frame formatted in the same way as your input data (without the actual values)\n",
    "            # e.g. const, var1, var2, etc. Order is very important!\n",
    "        # actual_values: data frame or array\n",
    "            # These are the actual values from the test_data\n",
    "            # In the case of a logistic regression, it should be a single column with 0s and 1s\n",
    "            \n",
    "        # model: a LogitResults object\n",
    "            # this is the variable where you have the fitted model \n",
    "            # e.g. results_log in this course\n",
    "        # ----------\n",
    "        \n",
    "        #Predict the values using the Logit model\n",
    "        pred_values = model.predict(data)\n",
    "        # Specify the bins \n",
    "        bins=np.array([0,0.5,1])\n",
    "        # Create a histogram, where if values are between 0 and 0.5 tell will be considered 0\n",
    "        # if they are between 0.5 and 1, they will be considered 1\n",
    "        cm = np.histogram2d(actual_values, pred_values, bins=bins)[0]\n",
    "        # Calculate the accuracy\n",
    "        accuracy = (cm[0,0]+cm[1,1])/cm.sum()\n",
    "        # Return the confusion matrix and \n",
    "        return cm, accuracy"
   ]
  },
  {
   "cell_type": "code",
   "execution_count": null,
   "metadata": {},
   "outputs": [],
   "source": [
    "confusion_matrix(x,y,results)"
   ]
  },
  {
   "cell_type": "code",
   "execution_count": null,
   "metadata": {},
   "outputs": [],
   "source": [
    "(16272+329)/18553\n"
   ]
  },
  {
   "cell_type": "code",
   "execution_count": null,
   "metadata": {},
   "outputs": [],
   "source": []
  }
 ],
 "metadata": {
  "kernelspec": {
   "display_name": "Python 3",
   "language": "python",
   "name": "python3"
  },
  "language_info": {
   "codemirror_mode": {
    "name": "ipython",
    "version": 3
   },
   "file_extension": ".py",
   "mimetype": "text/x-python",
   "name": "python",
   "nbconvert_exporter": "python",
   "pygments_lexer": "ipython3",
   "version": "3.7.6"
  }
 },
 "nbformat": 4,
 "nbformat_minor": 4
}
