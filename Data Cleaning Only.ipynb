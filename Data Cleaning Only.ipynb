{
 "cells": [
  {
   "cell_type": "markdown",
   "metadata": {},
   "source": [
    "# Simple Data Cleaning and Exploration\n",
    "\n",
    "Dataset was provided as part of a recruitment drive by a Tech Consulting Company.\n",
    "The dataset seems to have already been partially used in some analysis as evidenced\n",
    "by the 'rpart','Adjusted Prob for 50% Cut-off (without Formulae)' and 'NPS' columns.\n",
    "NPS seems to have been preprocessed to 1 (for scores 9-10), 0(for scores 7-8) and \n",
    "-1(for scores 0-6). The other two columns point to Recursive Partitioning to be the \n",
    "choice of classification.\n",
    "\n",
    "In this python file, I perform some simple data imputing on missing values in addition to \n",
    "data cleaning for later processing by Logit Regression."
   ]
  },
  {
   "cell_type": "code",
   "execution_count": null,
   "metadata": {},
   "outputs": [],
   "source": []
  },
  {
   "cell_type": "code",
   "execution_count": null,
   "metadata": {},
   "outputs": [],
   "source": []
  },
  {
   "cell_type": "code",
   "execution_count": null,
   "metadata": {},
   "outputs": [],
   "source": []
  },
  {
   "cell_type": "markdown",
   "metadata": {},
   "source": [
    "# Import Libraries\n"
   ]
  },
  {
   "cell_type": "code",
   "execution_count": 1,
   "metadata": {},
   "outputs": [],
   "source": [
    "import pandas as pd\n",
    "import numpy as np\n",
    "import matplotlib.pyplot as plt\n",
    "import seaborn as sns\n",
    "sns.set()\n",
    "\n",
    "import statsmodels.api as sm"
   ]
  },
  {
   "cell_type": "markdown",
   "metadata": {},
   "source": [
    "# Import Data"
   ]
  },
  {
   "cell_type": "code",
   "execution_count": 2,
   "metadata": {},
   "outputs": [
    {
     "data": {
      "text/html": [
       "<div>\n",
       "<style scoped>\n",
       "    .dataframe tbody tr th:only-of-type {\n",
       "        vertical-align: middle;\n",
       "    }\n",
       "\n",
       "    .dataframe tbody tr th {\n",
       "        vertical-align: top;\n",
       "    }\n",
       "\n",
       "    .dataframe thead th {\n",
       "        text-align: right;\n",
       "    }\n",
       "</style>\n",
       "<table border=\"1\" class=\"dataframe\">\n",
       "  <thead>\n",
       "    <tr style=\"text-align: right;\">\n",
       "      <th></th>\n",
       "      <th>Customer ID</th>\n",
       "      <th>Churned</th>\n",
       "      <th>Age</th>\n",
       "      <th>Average Bill over 6 months</th>\n",
       "      <th>Average Bill over 12 months</th>\n",
       "      <th>Number of defaults in last 12 bills</th>\n",
       "      <th>Payment Method</th>\n",
       "      <th>District</th>\n",
       "      <th>Area</th>\n",
       "      <th>Concesssion Card</th>\n",
       "      <th>...</th>\n",
       "      <th>rpart</th>\n",
       "      <th>Category of latest complaint</th>\n",
       "      <th>NPS</th>\n",
       "      <th>Product</th>\n",
       "      <th>Multiple Products</th>\n",
       "      <th>Product_New</th>\n",
       "      <th>Adjusted Prob for 50% Cut-off (without Formulae)</th>\n",
       "      <th>Customer Segment</th>\n",
       "      <th>Product Category</th>\n",
       "      <th>Bill Amount</th>\n",
       "    </tr>\n",
       "  </thead>\n",
       "  <tbody>\n",
       "    <tr>\n",
       "      <th>0</th>\n",
       "      <td>1</td>\n",
       "      <td>Yes</td>\n",
       "      <td>64.0</td>\n",
       "      <td>6.0000</td>\n",
       "      <td>123.0150</td>\n",
       "      <td>2</td>\n",
       "      <td>Credit Card</td>\n",
       "      <td>N</td>\n",
       "      <td>Northern Territory</td>\n",
       "      <td>No</td>\n",
       "      <td>...</td>\n",
       "      <td>0.357143</td>\n",
       "      <td>Network Coverage</td>\n",
       "      <td>-1</td>\n",
       "      <td>Internet Service</td>\n",
       "      <td>Yes</td>\n",
       "      <td>Mobile &amp; Internet Service</td>\n",
       "      <td>0.838283</td>\n",
       "      <td>Independents</td>\n",
       "      <td>Internet</td>\n",
       "      <td>169</td>\n",
       "    </tr>\n",
       "    <tr>\n",
       "      <th>1</th>\n",
       "      <td>2</td>\n",
       "      <td>No</td>\n",
       "      <td>29.0</td>\n",
       "      <td>18.0000</td>\n",
       "      <td>26.4125</td>\n",
       "      <td>3</td>\n",
       "      <td>Cheque</td>\n",
       "      <td>S</td>\n",
       "      <td>South Australia</td>\n",
       "      <td>No</td>\n",
       "      <td>...</td>\n",
       "      <td>0.053805</td>\n",
       "      <td>Call Drop</td>\n",
       "      <td>0</td>\n",
       "      <td>Fixed Line</td>\n",
       "      <td>No</td>\n",
       "      <td>Fixed Line</td>\n",
       "      <td>0.346654</td>\n",
       "      <td>Small Business</td>\n",
       "      <td>ADSL</td>\n",
       "      <td>137</td>\n",
       "    </tr>\n",
       "    <tr>\n",
       "      <th>2</th>\n",
       "      <td>3</td>\n",
       "      <td>No</td>\n",
       "      <td>47.0</td>\n",
       "      <td>4.0000</td>\n",
       "      <td>108.9525</td>\n",
       "      <td>0</td>\n",
       "      <td>Cheque</td>\n",
       "      <td>Q</td>\n",
       "      <td>Queensland</td>\n",
       "      <td>No</td>\n",
       "      <td>...</td>\n",
       "      <td>0.030710</td>\n",
       "      <td>Data Charges</td>\n",
       "      <td>0</td>\n",
       "      <td>Mobile</td>\n",
       "      <td>No</td>\n",
       "      <td>Internet Service</td>\n",
       "      <td>0.228171</td>\n",
       "      <td>Independents</td>\n",
       "      <td>Fixed line</td>\n",
       "      <td>252</td>\n",
       "    </tr>\n",
       "    <tr>\n",
       "      <th>3</th>\n",
       "      <td>4</td>\n",
       "      <td>No</td>\n",
       "      <td>75.0</td>\n",
       "      <td>7.0000</td>\n",
       "      <td>106.0475</td>\n",
       "      <td>1</td>\n",
       "      <td>Cheque</td>\n",
       "      <td>S</td>\n",
       "      <td>South Australia</td>\n",
       "      <td>Yes</td>\n",
       "      <td>...</td>\n",
       "      <td>0.030710</td>\n",
       "      <td>High Billed Amount</td>\n",
       "      <td>0</td>\n",
       "      <td>Internet Service</td>\n",
       "      <td>Yes</td>\n",
       "      <td>Internet Service,Fixed Line &amp; PayTV</td>\n",
       "      <td>0.228171</td>\n",
       "      <td>Friends, Fun &amp; Fashion</td>\n",
       "      <td>Internet</td>\n",
       "      <td>175</td>\n",
       "    </tr>\n",
       "    <tr>\n",
       "      <th>4</th>\n",
       "      <td>5</td>\n",
       "      <td>No</td>\n",
       "      <td>66.0</td>\n",
       "      <td>35.4075</td>\n",
       "      <td>32.4475</td>\n",
       "      <td>1</td>\n",
       "      <td>Cheque</td>\n",
       "      <td>V</td>\n",
       "      <td>Victoria</td>\n",
       "      <td>No</td>\n",
       "      <td>...</td>\n",
       "      <td>0.144033</td>\n",
       "      <td>Call Drop</td>\n",
       "      <td>0</td>\n",
       "      <td>Fixed Line</td>\n",
       "      <td>No</td>\n",
       "      <td>Internet Service</td>\n",
       "      <td>0.610902</td>\n",
       "      <td>Friends, Fun &amp; Fashion</td>\n",
       "      <td>Internet</td>\n",
       "      <td>128</td>\n",
       "    </tr>\n",
       "    <tr>\n",
       "      <th>...</th>\n",
       "      <td>...</td>\n",
       "      <td>...</td>\n",
       "      <td>...</td>\n",
       "      <td>...</td>\n",
       "      <td>...</td>\n",
       "      <td>...</td>\n",
       "      <td>...</td>\n",
       "      <td>...</td>\n",
       "      <td>...</td>\n",
       "      <td>...</td>\n",
       "      <td>...</td>\n",
       "      <td>...</td>\n",
       "      <td>...</td>\n",
       "      <td>...</td>\n",
       "      <td>...</td>\n",
       "      <td>...</td>\n",
       "      <td>...</td>\n",
       "      <td>...</td>\n",
       "      <td>...</td>\n",
       "      <td>...</td>\n",
       "      <td>...</td>\n",
       "    </tr>\n",
       "    <tr>\n",
       "      <th>18360</th>\n",
       "      <td>18361</td>\n",
       "      <td>No</td>\n",
       "      <td>88.0</td>\n",
       "      <td>36.1375</td>\n",
       "      <td>26.7650</td>\n",
       "      <td>0</td>\n",
       "      <td>Cheque</td>\n",
       "      <td>V</td>\n",
       "      <td>Victoria</td>\n",
       "      <td>Yes</td>\n",
       "      <td>...</td>\n",
       "      <td>0.030710</td>\n",
       "      <td>High Billed Amount</td>\n",
       "      <td>1</td>\n",
       "      <td>Mobile</td>\n",
       "      <td>No</td>\n",
       "      <td>Fixed Line</td>\n",
       "      <td>0.228171</td>\n",
       "      <td>Family &amp; Self Development</td>\n",
       "      <td>Fixed line</td>\n",
       "      <td>55</td>\n",
       "    </tr>\n",
       "    <tr>\n",
       "      <th>18361</th>\n",
       "      <td>18362</td>\n",
       "      <td>No</td>\n",
       "      <td>72.0</td>\n",
       "      <td>39.8950</td>\n",
       "      <td>31.8450</td>\n",
       "      <td>0</td>\n",
       "      <td>Cheque</td>\n",
       "      <td>V</td>\n",
       "      <td>Victoria</td>\n",
       "      <td>No</td>\n",
       "      <td>...</td>\n",
       "      <td>0.030710</td>\n",
       "      <td>High Billed Amount</td>\n",
       "      <td>1</td>\n",
       "      <td>Mobile</td>\n",
       "      <td>Yes</td>\n",
       "      <td>Mobile &amp; PayTV</td>\n",
       "      <td>0.228171</td>\n",
       "      <td>Friends, Fun &amp; Fashion</td>\n",
       "      <td>Fixed line</td>\n",
       "      <td>79</td>\n",
       "    </tr>\n",
       "    <tr>\n",
       "      <th>18362</th>\n",
       "      <td>18363</td>\n",
       "      <td>No</td>\n",
       "      <td>19.0</td>\n",
       "      <td>19.0000</td>\n",
       "      <td>43.6925</td>\n",
       "      <td>0</td>\n",
       "      <td>Cheque</td>\n",
       "      <td>V</td>\n",
       "      <td>Victoria</td>\n",
       "      <td>No</td>\n",
       "      <td>...</td>\n",
       "      <td>0.114994</td>\n",
       "      <td>Call Drop</td>\n",
       "      <td>1</td>\n",
       "      <td>Mobile</td>\n",
       "      <td>No</td>\n",
       "      <td>Fixed Line</td>\n",
       "      <td>0.547997</td>\n",
       "      <td>Independents</td>\n",
       "      <td>Mobile</td>\n",
       "      <td>81</td>\n",
       "    </tr>\n",
       "    <tr>\n",
       "      <th>18363</th>\n",
       "      <td>18364</td>\n",
       "      <td>No</td>\n",
       "      <td>32.0</td>\n",
       "      <td>28.1175</td>\n",
       "      <td>21.8450</td>\n",
       "      <td>6</td>\n",
       "      <td>Cheque</td>\n",
       "      <td>V</td>\n",
       "      <td>Victoria</td>\n",
       "      <td>No</td>\n",
       "      <td>...</td>\n",
       "      <td>0.053805</td>\n",
       "      <td>Data Charges</td>\n",
       "      <td>-1</td>\n",
       "      <td>Mobile</td>\n",
       "      <td>Yes</td>\n",
       "      <td>Mobile &amp; Internet Service</td>\n",
       "      <td>0.346654</td>\n",
       "      <td>Small Business</td>\n",
       "      <td>Mobile</td>\n",
       "      <td>163</td>\n",
       "    </tr>\n",
       "    <tr>\n",
       "      <th>18364</th>\n",
       "      <td>18365</td>\n",
       "      <td>No</td>\n",
       "      <td>43.0</td>\n",
       "      <td>33.8800</td>\n",
       "      <td>27.9150</td>\n",
       "      <td>2</td>\n",
       "      <td>Cheque</td>\n",
       "      <td>V</td>\n",
       "      <td>Victoria</td>\n",
       "      <td>No</td>\n",
       "      <td>...</td>\n",
       "      <td>0.030710</td>\n",
       "      <td>Call Drop</td>\n",
       "      <td>1</td>\n",
       "      <td>Mobile</td>\n",
       "      <td>No</td>\n",
       "      <td>PayTV</td>\n",
       "      <td>0.228171</td>\n",
       "      <td>Principled Professional</td>\n",
       "      <td>Bundle</td>\n",
       "      <td>108</td>\n",
       "    </tr>\n",
       "  </tbody>\n",
       "</table>\n",
       "<p>18365 rows × 26 columns</p>\n",
       "</div>"
      ],
      "text/plain": [
       "       Customer ID Churned   Age  Average Bill over 6 months  \\\n",
       "0                1     Yes  64.0                      6.0000   \n",
       "1                2      No  29.0                     18.0000   \n",
       "2                3      No  47.0                      4.0000   \n",
       "3                4      No  75.0                      7.0000   \n",
       "4                5      No  66.0                     35.4075   \n",
       "...            ...     ...   ...                         ...   \n",
       "18360        18361      No  88.0                     36.1375   \n",
       "18361        18362      No  72.0                     39.8950   \n",
       "18362        18363      No  19.0                     19.0000   \n",
       "18363        18364      No  32.0                     28.1175   \n",
       "18364        18365      No  43.0                     33.8800   \n",
       "\n",
       "       Average Bill over 12 months  Number of defaults in last 12 bills  \\\n",
       "0                         123.0150                                    2   \n",
       "1                          26.4125                                    3   \n",
       "2                         108.9525                                    0   \n",
       "3                         106.0475                                    1   \n",
       "4                          32.4475                                    1   \n",
       "...                            ...                                  ...   \n",
       "18360                      26.7650                                    0   \n",
       "18361                      31.8450                                    0   \n",
       "18362                      43.6925                                    0   \n",
       "18363                      21.8450                                    6   \n",
       "18364                      27.9150                                    2   \n",
       "\n",
       "      Payment Method District                Area Concesssion Card  ...  \\\n",
       "0        Credit Card        N  Northern Territory               No  ...   \n",
       "1             Cheque        S     South Australia               No  ...   \n",
       "2             Cheque        Q          Queensland               No  ...   \n",
       "3             Cheque        S     South Australia              Yes  ...   \n",
       "4             Cheque        V            Victoria               No  ...   \n",
       "...              ...      ...                 ...              ...  ...   \n",
       "18360         Cheque        V            Victoria              Yes  ...   \n",
       "18361         Cheque        V            Victoria               No  ...   \n",
       "18362         Cheque        V            Victoria               No  ...   \n",
       "18363         Cheque        V            Victoria               No  ...   \n",
       "18364         Cheque        V            Victoria               No  ...   \n",
       "\n",
       "          rpart  Category of latest complaint  NPS           Product  \\\n",
       "0      0.357143              Network Coverage   -1  Internet Service   \n",
       "1      0.053805                     Call Drop    0        Fixed Line   \n",
       "2      0.030710                  Data Charges    0            Mobile   \n",
       "3      0.030710            High Billed Amount    0  Internet Service   \n",
       "4      0.144033                     Call Drop    0        Fixed Line   \n",
       "...         ...                           ...  ...               ...   \n",
       "18360  0.030710            High Billed Amount    1            Mobile   \n",
       "18361  0.030710            High Billed Amount    1            Mobile   \n",
       "18362  0.114994                     Call Drop    1            Mobile   \n",
       "18363  0.053805                  Data Charges   -1            Mobile   \n",
       "18364  0.030710                     Call Drop    1            Mobile   \n",
       "\n",
       "      Multiple Products                          Product_New  \\\n",
       "0                   Yes            Mobile & Internet Service   \n",
       "1                    No                           Fixed Line   \n",
       "2                    No                     Internet Service   \n",
       "3                   Yes  Internet Service,Fixed Line & PayTV   \n",
       "4                    No                     Internet Service   \n",
       "...                 ...                                  ...   \n",
       "18360                No                           Fixed Line   \n",
       "18361               Yes                       Mobile & PayTV   \n",
       "18362                No                           Fixed Line   \n",
       "18363               Yes            Mobile & Internet Service   \n",
       "18364                No                                PayTV   \n",
       "\n",
       "       Adjusted Prob for 50% Cut-off (without Formulae)  \\\n",
       "0                                              0.838283   \n",
       "1                                              0.346654   \n",
       "2                                              0.228171   \n",
       "3                                              0.228171   \n",
       "4                                              0.610902   \n",
       "...                                                 ...   \n",
       "18360                                          0.228171   \n",
       "18361                                          0.228171   \n",
       "18362                                          0.547997   \n",
       "18363                                          0.346654   \n",
       "18364                                          0.228171   \n",
       "\n",
       "                Customer Segment  Product Category Bill Amount  \n",
       "0                   Independents          Internet         169  \n",
       "1                 Small Business              ADSL         137  \n",
       "2                   Independents        Fixed line         252  \n",
       "3         Friends, Fun & Fashion          Internet         175  \n",
       "4         Friends, Fun & Fashion          Internet         128  \n",
       "...                          ...               ...         ...  \n",
       "18360  Family & Self Development        Fixed line          55  \n",
       "18361     Friends, Fun & Fashion        Fixed line          79  \n",
       "18362               Independents            Mobile          81  \n",
       "18363             Small Business            Mobile         163  \n",
       "18364    Principled Professional            Bundle         108  \n",
       "\n",
       "[18365 rows x 26 columns]"
      ]
     },
     "execution_count": 2,
     "metadata": {},
     "output_type": "execute_result"
    }
   ],
   "source": [
    "#Import and display Churn data\n",
    "\n",
    "raw_data = pd.read_csv('ChurnData.csv')\n",
    "raw_data"
   ]
  },
  {
   "cell_type": "code",
   "execution_count": 3,
   "metadata": {},
   "outputs": [],
   "source": [
    "#copy the data frame to another variable on which further modifications will be done\n",
    "\n",
    "data = raw_data.copy()"
   ]
  },
  {
   "cell_type": "markdown",
   "metadata": {},
   "source": [
    "# Data Exploration"
   ]
  },
  {
   "cell_type": "code",
   "execution_count": 4,
   "metadata": {},
   "outputs": [
    {
     "name": "stdout",
     "output_type": "stream",
     "text": [
      "<class 'pandas.core.frame.DataFrame'>\n",
      "RangeIndex: 18365 entries, 0 to 18364\n",
      "Data columns (total 26 columns):\n",
      " #   Column                                            Non-Null Count  Dtype  \n",
      "---  ------                                            --------------  -----  \n",
      " 0   Customer ID                                       18365 non-null  int64  \n",
      " 1   Churned                                           18365 non-null  object \n",
      " 2   Age                                               17366 non-null  float64\n",
      " 3   Average Bill over 6 months                        18365 non-null  float64\n",
      " 4   Average Bill over 12 months                       18365 non-null  float64\n",
      " 5   Number of defaults in last 12 bills               18365 non-null  int64  \n",
      " 6   Payment Method                                    18365 non-null  object \n",
      " 7   District                                          18365 non-null  object \n",
      " 8   Area                                              18365 non-null  object \n",
      " 9   Concesssion Card                                  18365 non-null  object \n",
      " 10  INBOUNDCALLS                                      18365 non-null  int64  \n",
      " 11  OUTBOUNDCALLS                                     18365 non-null  int64  \n",
      " 12  Relationship (months)                             17549 non-null  float64\n",
      " 13  Occupier Status                                   18363 non-null  object \n",
      " 14  Multiple Fuel                                     18363 non-null  object \n",
      " 15  Bill Delivery Method                              18365 non-null  object \n",
      " 16  rpart                                             18365 non-null  float64\n",
      " 17  Category of latest complaint                      18365 non-null  object \n",
      " 18  NPS                                               18365 non-null  int64  \n",
      " 19  Product                                           18365 non-null  object \n",
      " 20  Multiple Products                                 18365 non-null  object \n",
      " 21  Product_New                                       18365 non-null  object \n",
      " 22  Adjusted Prob for 50% Cut-off (without Formulae)  18365 non-null  float64\n",
      " 23  Customer Segment                                  18365 non-null  object \n",
      " 24  Product Category                                  18365 non-null  object \n",
      " 25  Bill Amount                                       18365 non-null  int64  \n",
      "dtypes: float64(6), int64(6), object(14)\n",
      "memory usage: 3.6+ MB\n"
     ]
    }
   ],
   "source": [
    "data.info()"
   ]
  },
  {
   "cell_type": "markdown",
   "metadata": {},
   "source": [
    "# Column Info:\n",
    "\n",
    "Churned : Information on whether a customer has quit or not. (Yes/No)\n",
    "\n",
    "Age : just a number\n",
    "\n",
    "Average Bill over 6/12 months : Spending of customers. A number\n",
    "\n",
    "Number of defaults in last 12 bills : Representative of timely bill payments.\n",
    "\n",
    "Payment Method : Preferred Payment Method. (Cheque/Credit Card/Direct Debit)\n",
    "\n",
    "District/Area : Location of Customer.\n",
    "\n",
    "Concession Card : Does customer use one? (Yes/No)\n",
    "\n",
    "Inbound/Outbound Calls : Number of calls customer made/made to customer. \n",
    "\n",
    "Relationship (months) : Time customer has been using services.\n",
    "\n",
    "Occupier Status : \n",
    "\n",
    "Multiple Fuel :\n",
    "\n",
    "Bill Delivery Method : How bills were sent to customers. (Mail/Internet/Email)\n",
    "\n",
    "Category of Latest Complaint : Latest Recorded Complaint. \n",
    "(Call Drop/High Billed Amount/Internet Slowness/Data Charges/Network Coverage)        \n",
    "\n",
    "NPS : Pre-Cleaned/Converted to Categorical. \n",
    "\n",
    "Product/Multiple Products : Type of products used/Multiple types of products being used.\n",
    "(Mobile, Fixed Line, Internet Service)/(Yes/No)\n",
    "\n",
    "Product_New: (Mobile/Fixed Line/Internet Service)       \n",
    "\n",
    "Customer Segment: (Independents/Family & Self Development/Friends, Fun & Fashion/Principled Professional      \n",
    "/Small Business/Entrepreneur)               \n",
    "\n",
    "Product Category:\n",
    "\n",
    "Bill Amount:       "
   ]
  },
  {
   "cell_type": "code",
   "execution_count": 5,
   "metadata": {
    "scrolled": true
   },
   "outputs": [
    {
     "data": {
      "text/plain": [
       "Customer ID                                           0\n",
       "Churned                                               0\n",
       "Age                                                 999\n",
       "Average Bill over 6 months                            0\n",
       "Average Bill over 12 months                           0\n",
       "Number of defaults in last 12 bills                   0\n",
       "Payment Method                                        0\n",
       "District                                              0\n",
       "Area                                                  0\n",
       "Concesssion Card                                      0\n",
       "INBOUNDCALLS                                          0\n",
       "OUTBOUNDCALLS                                         0\n",
       "Relationship (months)                               816\n",
       "Occupier Status                                       2\n",
       "Multiple Fuel                                         2\n",
       "Bill Delivery Method                                  0\n",
       "rpart                                                 0\n",
       "Category of latest complaint                          0\n",
       "NPS                                                   0\n",
       "Product                                               0\n",
       "Multiple Products                                     0\n",
       "Product_New                                           0\n",
       "Adjusted Prob for 50% Cut-off (without Formulae)      0\n",
       "Customer Segment                                      0\n",
       "Product Category                                      0\n",
       "Bill Amount                                           0\n",
       "dtype: int64"
      ]
     },
     "execution_count": 5,
     "metadata": {},
     "output_type": "execute_result"
    }
   ],
   "source": [
    "#check number of null values in each column. Since number of rows is greater than 5% of all records,\n",
    "#we will not outright drop them.\n",
    "\n",
    "data.isnull().sum()\n",
    "\n",
    "\n",
    "#Since the total number of columns that would be dropped would be greater than 5% of the total,\n",
    "#they won't be outright dropped with .dropna()\n",
    "# Age : 999\n",
    "# Relationship(months) : 816\n",
    "# Occupier Status : 2\n",
    "# Multiple Fuel : 2"
   ]
  },
  {
   "cell_type": "code",
   "execution_count": 6,
   "metadata": {},
   "outputs": [
    {
     "data": {
      "text/plain": [
       "Index(['Customer ID', 'Churned', 'Age', 'Average Bill over 6 months',\n",
       "       'Average Bill over 12 months', 'Number of defaults in last 12 bills',\n",
       "       'Payment Method', 'District', 'Area', 'Concesssion Card',\n",
       "       'INBOUNDCALLS', 'OUTBOUNDCALLS', 'Relationship (months)',\n",
       "       'Occupier Status', 'Multiple Fuel', 'Bill Delivery Method', 'rpart',\n",
       "       'Category of latest complaint', 'NPS', 'Product', 'Multiple Products',\n",
       "       'Product_New', 'Adjusted Prob for 50% Cut-off (without Formulae)',\n",
       "       'Customer Segment', 'Product Category', 'Bill Amount'],\n",
       "      dtype='object')"
      ]
     },
     "execution_count": 6,
     "metadata": {},
     "output_type": "execute_result"
    }
   ],
   "source": [
    "## List of all columns\n",
    "\n",
    "data.columns"
   ]
  },
  {
   "cell_type": "markdown",
   "metadata": {},
   "source": [
    "### Age"
   ]
  },
  {
   "cell_type": "code",
   "execution_count": 7,
   "metadata": {},
   "outputs": [
    {
     "data": {
      "text/plain": [
       "<matplotlib.axes._subplots.AxesSubplot at 0x1b267746a08>"
      ]
     },
     "execution_count": 7,
     "metadata": {},
     "output_type": "execute_result"
    },
    {
     "data": {
      "image/png": "[encoded data removed]",
      "text/plain": [
       "<Figure size 432x288 with 1 Axes>"
      ]
     },
     "metadata": {},
     "output_type": "display_data"
    }
   ],
   "source": [
    "#Distplot to see distribution of age values.\n",
    "#Distplot shows highest density of ages between the 40 to 60 mark\n",
    "\n",
    "sns.distplot(data['Age'])"
   ]
  },
  {
   "cell_type": "code",
   "execution_count": 8,
   "metadata": {
    "scrolled": true
   },
   "outputs": [
    {
     "data": {
      "text/plain": [
       "45.0     376\n",
       "54.0     370\n",
       "43.0     362\n",
       "46.0     357\n",
       "47.0     355\n",
       "        ... \n",
       "99.0       3\n",
       "100.0      2\n",
       "101.0      1\n",
       "116.0      1\n",
       "103.0      1\n",
       "Name: Age, Length: 87, dtype: int64"
      ]
     },
     "execution_count": 8,
     "metadata": {},
     "output_type": "execute_result"
    }
   ],
   "source": [
    "data['Age'].value_counts()"
   ]
  },
  {
   "cell_type": "code",
   "execution_count": 9,
   "metadata": {},
   "outputs": [
    {
     "data": {
      "text/plain": [
       "<matplotlib.axes._subplots.AxesSubplot at 0x1b26839dfc8>"
      ]
     },
     "execution_count": 9,
     "metadata": {},
     "output_type": "execute_result"
    },
    {
     "data": {
      "image/png": "[encoded data removed]",
      "text/plain": [
       "<Figure size 432x288 with 1 Axes>"
      ]
     },
     "metadata": {},
     "output_type": "display_data"
    }
   ],
   "source": [
    "sns.scatterplot(y = data['Age'],x = data['Churned'])"
   ]
  },
  {
   "cell_type": "markdown",
   "metadata": {},
   "source": [
    "### Average Bill over 6 months"
   ]
  },
  {
   "cell_type": "code",
   "execution_count": 10,
   "metadata": {
    "scrolled": true
   },
   "outputs": [
    {
     "data": {
      "text/plain": [
       "<matplotlib.axes._subplots.AxesSubplot at 0x1b268415048>"
      ]
     },
     "execution_count": 10,
     "metadata": {},
     "output_type": "execute_result"
    },
    {
     "data": {
      "image/png": "[encoded data removed]",
      "text/plain": [
       "<Figure size 432x288 with 1 Axes>"
      ]
     },
     "metadata": {},
     "output_type": "display_data"
    }
   ],
   "source": [
    "sns.distplot(data['Average Bill over 6 months'],norm_hist=False)"
   ]
  },
  {
   "cell_type": "code",
   "execution_count": 11,
   "metadata": {},
   "outputs": [
    {
     "data": {
      "text/plain": [
       "3.0000     490\n",
       "6.0000     485\n",
       "16.0000    473\n",
       "11.0000    469\n",
       "18.0000    466\n",
       "          ... \n",
       "17.7500      1\n",
       "12.8300      1\n",
       "20.8350      1\n",
       "40.7975      1\n",
       "27.1775      1\n",
       "Name: Average Bill over 6 months, Length: 8390, dtype: int64"
      ]
     },
     "execution_count": 11,
     "metadata": {},
     "output_type": "execute_result"
    }
   ],
   "source": [
    "data['Average Bill over 6 months'].value_counts()"
   ]
  },
  {
   "cell_type": "code",
   "execution_count": 12,
   "metadata": {},
   "outputs": [
    {
     "data": {
      "text/html": [
       "<div>\n",
       "<style scoped>\n",
       "    .dataframe tbody tr th:only-of-type {\n",
       "        vertical-align: middle;\n",
       "    }\n",
       "\n",
       "    .dataframe tbody tr th {\n",
       "        vertical-align: top;\n",
       "    }\n",
       "\n",
       "    .dataframe thead th {\n",
       "        text-align: right;\n",
       "    }\n",
       "</style>\n",
       "<table border=\"1\" class=\"dataframe\">\n",
       "  <thead>\n",
       "    <tr style=\"text-align: right;\">\n",
       "      <th>Average Bill over 6 months</th>\n",
       "      <th>1.1475</th>\n",
       "      <th>1.1875</th>\n",
       "      <th>1.4675</th>\n",
       "      <th>1.5500</th>\n",
       "      <th>1.8325</th>\n",
       "      <th>1.9525</th>\n",
       "      <th>2.0650</th>\n",
       "      <th>2.0700</th>\n",
       "      <th>2.1475</th>\n",
       "      <th>2.2300</th>\n",
       "      <th>...</th>\n",
       "      <th>480.2700</th>\n",
       "      <th>481.7025</th>\n",
       "      <th>519.2825</th>\n",
       "      <th>573.2100</th>\n",
       "      <th>585.9000</th>\n",
       "      <th>650.8125</th>\n",
       "      <th>709.9975</th>\n",
       "      <th>766.4550</th>\n",
       "      <th>838.5225</th>\n",
       "      <th>950.5000</th>\n",
       "    </tr>\n",
       "    <tr>\n",
       "      <th>Age</th>\n",
       "      <th></th>\n",
       "      <th></th>\n",
       "      <th></th>\n",
       "      <th></th>\n",
       "      <th></th>\n",
       "      <th></th>\n",
       "      <th></th>\n",
       "      <th></th>\n",
       "      <th></th>\n",
       "      <th></th>\n",
       "      <th></th>\n",
       "      <th></th>\n",
       "      <th></th>\n",
       "      <th></th>\n",
       "      <th></th>\n",
       "      <th></th>\n",
       "      <th></th>\n",
       "      <th></th>\n",
       "      <th></th>\n",
       "      <th></th>\n",
       "      <th></th>\n",
       "    </tr>\n",
       "  </thead>\n",
       "  <tbody>\n",
       "    <tr>\n",
       "      <th>18.0</th>\n",
       "      <td>0</td>\n",
       "      <td>0</td>\n",
       "      <td>0</td>\n",
       "      <td>0</td>\n",
       "      <td>0</td>\n",
       "      <td>0</td>\n",
       "      <td>0</td>\n",
       "      <td>0</td>\n",
       "      <td>0</td>\n",
       "      <td>0</td>\n",
       "      <td>...</td>\n",
       "      <td>0</td>\n",
       "      <td>0</td>\n",
       "      <td>0</td>\n",
       "      <td>0</td>\n",
       "      <td>0</td>\n",
       "      <td>0</td>\n",
       "      <td>0</td>\n",
       "      <td>0</td>\n",
       "      <td>0</td>\n",
       "      <td>0</td>\n",
       "    </tr>\n",
       "    <tr>\n",
       "      <th>19.0</th>\n",
       "      <td>0</td>\n",
       "      <td>0</td>\n",
       "      <td>0</td>\n",
       "      <td>0</td>\n",
       "      <td>0</td>\n",
       "      <td>0</td>\n",
       "      <td>0</td>\n",
       "      <td>0</td>\n",
       "      <td>0</td>\n",
       "      <td>0</td>\n",
       "      <td>...</td>\n",
       "      <td>0</td>\n",
       "      <td>0</td>\n",
       "      <td>0</td>\n",
       "      <td>0</td>\n",
       "      <td>0</td>\n",
       "      <td>0</td>\n",
       "      <td>0</td>\n",
       "      <td>0</td>\n",
       "      <td>0</td>\n",
       "      <td>0</td>\n",
       "    </tr>\n",
       "    <tr>\n",
       "      <th>20.0</th>\n",
       "      <td>0</td>\n",
       "      <td>0</td>\n",
       "      <td>0</td>\n",
       "      <td>0</td>\n",
       "      <td>0</td>\n",
       "      <td>0</td>\n",
       "      <td>0</td>\n",
       "      <td>0</td>\n",
       "      <td>0</td>\n",
       "      <td>0</td>\n",
       "      <td>...</td>\n",
       "      <td>0</td>\n",
       "      <td>0</td>\n",
       "      <td>0</td>\n",
       "      <td>0</td>\n",
       "      <td>0</td>\n",
       "      <td>0</td>\n",
       "      <td>0</td>\n",
       "      <td>0</td>\n",
       "      <td>0</td>\n",
       "      <td>0</td>\n",
       "    </tr>\n",
       "    <tr>\n",
       "      <th>21.0</th>\n",
       "      <td>0</td>\n",
       "      <td>0</td>\n",
       "      <td>0</td>\n",
       "      <td>0</td>\n",
       "      <td>0</td>\n",
       "      <td>0</td>\n",
       "      <td>0</td>\n",
       "      <td>0</td>\n",
       "      <td>0</td>\n",
       "      <td>0</td>\n",
       "      <td>...</td>\n",
       "      <td>0</td>\n",
       "      <td>0</td>\n",
       "      <td>0</td>\n",
       "      <td>0</td>\n",
       "      <td>0</td>\n",
       "      <td>0</td>\n",
       "      <td>0</td>\n",
       "      <td>0</td>\n",
       "      <td>0</td>\n",
       "      <td>0</td>\n",
       "    </tr>\n",
       "    <tr>\n",
       "      <th>22.0</th>\n",
       "      <td>0</td>\n",
       "      <td>0</td>\n",
       "      <td>0</td>\n",
       "      <td>0</td>\n",
       "      <td>0</td>\n",
       "      <td>0</td>\n",
       "      <td>0</td>\n",
       "      <td>0</td>\n",
       "      <td>0</td>\n",
       "      <td>0</td>\n",
       "      <td>...</td>\n",
       "      <td>0</td>\n",
       "      <td>0</td>\n",
       "      <td>0</td>\n",
       "      <td>0</td>\n",
       "      <td>0</td>\n",
       "      <td>0</td>\n",
       "      <td>0</td>\n",
       "      <td>0</td>\n",
       "      <td>0</td>\n",
       "      <td>0</td>\n",
       "    </tr>\n",
       "    <tr>\n",
       "      <th>...</th>\n",
       "      <td>...</td>\n",
       "      <td>...</td>\n",
       "      <td>...</td>\n",
       "      <td>...</td>\n",
       "      <td>...</td>\n",
       "      <td>...</td>\n",
       "      <td>...</td>\n",
       "      <td>...</td>\n",
       "      <td>...</td>\n",
       "      <td>...</td>\n",
       "      <td>...</td>\n",
       "      <td>...</td>\n",
       "      <td>...</td>\n",
       "      <td>...</td>\n",
       "      <td>...</td>\n",
       "      <td>...</td>\n",
       "      <td>...</td>\n",
       "      <td>...</td>\n",
       "      <td>...</td>\n",
       "      <td>...</td>\n",
       "      <td>...</td>\n",
       "    </tr>\n",
       "    <tr>\n",
       "      <th>100.0</th>\n",
       "      <td>0</td>\n",
       "      <td>0</td>\n",
       "      <td>0</td>\n",
       "      <td>0</td>\n",
       "      <td>0</td>\n",
       "      <td>0</td>\n",
       "      <td>0</td>\n",
       "      <td>0</td>\n",
       "      <td>0</td>\n",
       "      <td>0</td>\n",
       "      <td>...</td>\n",
       "      <td>0</td>\n",
       "      <td>0</td>\n",
       "      <td>0</td>\n",
       "      <td>0</td>\n",
       "      <td>0</td>\n",
       "      <td>0</td>\n",
       "      <td>0</td>\n",
       "      <td>0</td>\n",
       "      <td>0</td>\n",
       "      <td>0</td>\n",
       "    </tr>\n",
       "    <tr>\n",
       "      <th>101.0</th>\n",
       "      <td>0</td>\n",
       "      <td>0</td>\n",
       "      <td>0</td>\n",
       "      <td>0</td>\n",
       "      <td>0</td>\n",
       "      <td>0</td>\n",
       "      <td>0</td>\n",
       "      <td>0</td>\n",
       "      <td>0</td>\n",
       "      <td>0</td>\n",
       "      <td>...</td>\n",
       "      <td>0</td>\n",
       "      <td>0</td>\n",
       "      <td>0</td>\n",
       "      <td>0</td>\n",
       "      <td>0</td>\n",
       "      <td>0</td>\n",
       "      <td>0</td>\n",
       "      <td>0</td>\n",
       "      <td>0</td>\n",
       "      <td>0</td>\n",
       "    </tr>\n",
       "    <tr>\n",
       "      <th>102.0</th>\n",
       "      <td>0</td>\n",
       "      <td>0</td>\n",
       "      <td>0</td>\n",
       "      <td>0</td>\n",
       "      <td>0</td>\n",
       "      <td>0</td>\n",
       "      <td>0</td>\n",
       "      <td>0</td>\n",
       "      <td>0</td>\n",
       "      <td>0</td>\n",
       "      <td>...</td>\n",
       "      <td>0</td>\n",
       "      <td>0</td>\n",
       "      <td>0</td>\n",
       "      <td>0</td>\n",
       "      <td>0</td>\n",
       "      <td>0</td>\n",
       "      <td>0</td>\n",
       "      <td>0</td>\n",
       "      <td>0</td>\n",
       "      <td>0</td>\n",
       "    </tr>\n",
       "    <tr>\n",
       "      <th>103.0</th>\n",
       "      <td>0</td>\n",
       "      <td>0</td>\n",
       "      <td>0</td>\n",
       "      <td>0</td>\n",
       "      <td>0</td>\n",
       "      <td>0</td>\n",
       "      <td>0</td>\n",
       "      <td>0</td>\n",
       "      <td>0</td>\n",
       "      <td>0</td>\n",
       "      <td>...</td>\n",
       "      <td>0</td>\n",
       "      <td>0</td>\n",
       "      <td>0</td>\n",
       "      <td>0</td>\n",
       "      <td>0</td>\n",
       "      <td>0</td>\n",
       "      <td>0</td>\n",
       "      <td>0</td>\n",
       "      <td>0</td>\n",
       "      <td>0</td>\n",
       "    </tr>\n",
       "    <tr>\n",
       "      <th>116.0</th>\n",
       "      <td>0</td>\n",
       "      <td>0</td>\n",
       "      <td>0</td>\n",
       "      <td>0</td>\n",
       "      <td>0</td>\n",
       "      <td>0</td>\n",
       "      <td>0</td>\n",
       "      <td>0</td>\n",
       "      <td>0</td>\n",
       "      <td>0</td>\n",
       "      <td>...</td>\n",
       "      <td>0</td>\n",
       "      <td>0</td>\n",
       "      <td>0</td>\n",
       "      <td>0</td>\n",
       "      <td>0</td>\n",
       "      <td>0</td>\n",
       "      <td>0</td>\n",
       "      <td>0</td>\n",
       "      <td>0</td>\n",
       "      <td>0</td>\n",
       "    </tr>\n",
       "  </tbody>\n",
       "</table>\n",
       "<p>87 rows × 8130 columns</p>\n",
       "</div>"
      ],
      "text/plain": [
       "Average Bill over 6 months  1.1475    1.1875    1.4675    1.5500    1.8325    \\\n",
       "Age                                                                            \n",
       "18.0                               0         0         0         0         0   \n",
       "19.0                               0         0         0         0         0   \n",
       "20.0                               0         0         0         0         0   \n",
       "21.0                               0         0         0         0         0   \n",
       "22.0                               0         0         0         0         0   \n",
       "...                              ...       ...       ...       ...       ...   \n",
       "100.0                              0         0         0         0         0   \n",
       "101.0                              0         0         0         0         0   \n",
       "102.0                              0         0         0         0         0   \n",
       "103.0                              0         0         0         0         0   \n",
       "116.0                              0         0         0         0         0   \n",
       "\n",
       "Average Bill over 6 months  1.9525    2.0650    2.0700    2.1475    2.2300    \\\n",
       "Age                                                                            \n",
       "18.0                               0         0         0         0         0   \n",
       "19.0                               0         0         0         0         0   \n",
       "20.0                               0         0         0         0         0   \n",
       "21.0                               0         0         0         0         0   \n",
       "22.0                               0         0         0         0         0   \n",
       "...                              ...       ...       ...       ...       ...   \n",
       "100.0                              0         0         0         0         0   \n",
       "101.0                              0         0         0         0         0   \n",
       "102.0                              0         0         0         0         0   \n",
       "103.0                              0         0         0         0         0   \n",
       "116.0                              0         0         0         0         0   \n",
       "\n",
       "Average Bill over 6 months  ...  480.2700  481.7025  519.2825  573.2100  \\\n",
       "Age                         ...                                           \n",
       "18.0                        ...         0         0         0         0   \n",
       "19.0                        ...         0         0         0         0   \n",
       "20.0                        ...         0         0         0         0   \n",
       "21.0                        ...         0         0         0         0   \n",
       "22.0                        ...         0         0         0         0   \n",
       "...                         ...       ...       ...       ...       ...   \n",
       "100.0                       ...         0         0         0         0   \n",
       "101.0                       ...         0         0         0         0   \n",
       "102.0                       ...         0         0         0         0   \n",
       "103.0                       ...         0         0         0         0   \n",
       "116.0                       ...         0         0         0         0   \n",
       "\n",
       "Average Bill over 6 months  585.9000  650.8125  709.9975  766.4550  838.5225  \\\n",
       "Age                                                                            \n",
       "18.0                               0         0         0         0         0   \n",
       "19.0                               0         0         0         0         0   \n",
       "20.0                               0         0         0         0         0   \n",
       "21.0                               0         0         0         0         0   \n",
       "22.0                               0         0         0         0         0   \n",
       "...                              ...       ...       ...       ...       ...   \n",
       "100.0                              0         0         0         0         0   \n",
       "101.0                              0         0         0         0         0   \n",
       "102.0                              0         0         0         0         0   \n",
       "103.0                              0         0         0         0         0   \n",
       "116.0                              0         0         0         0         0   \n",
       "\n",
       "Average Bill over 6 months  950.5000  \n",
       "Age                                   \n",
       "18.0                               0  \n",
       "19.0                               0  \n",
       "20.0                               0  \n",
       "21.0                               0  \n",
       "22.0                               0  \n",
       "...                              ...  \n",
       "100.0                              0  \n",
       "101.0                              0  \n",
       "102.0                              0  \n",
       "103.0                              0  \n",
       "116.0                              0  \n",
       "\n",
       "[87 rows x 8130 columns]"
      ]
     },
     "execution_count": 12,
     "metadata": {},
     "output_type": "execute_result"
    }
   ],
   "source": [
    "pd.crosstab(data['Age'],data['Average Bill over 6 months'])"
   ]
  },
  {
   "cell_type": "markdown",
   "metadata": {
    "scrolled": true
   },
   "source": [
    "## Average Bill over 12 months\n",
    "       "
   ]
  },
  {
   "cell_type": "code",
   "execution_count": 11,
   "metadata": {
    "scrolled": true
   },
   "outputs": [
    {
     "data": {
      "text/plain": [
       "<matplotlib.axes._subplots.AxesSubplot at 0x250cc33b388>"
      ]
     },
     "execution_count": 11,
     "metadata": {},
     "output_type": "execute_result"
    },
    {
     "data": {
      "image/png": "[encoded data removed]",
      "text/plain": [
       "<Figure size 432x288 with 1 Axes>"
      ]
     },
     "metadata": {},
     "output_type": "display_data"
    }
   ],
   "source": [
    "sns.distplot(data['Average Bill over 12 months'],norm_hist=False)"
   ]
  },
  {
   "cell_type": "markdown",
   "metadata": {},
   "source": [
    "### 'Number of defaults in last 12 bills'"
   ]
  },
  {
   "cell_type": "code",
   "execution_count": 12,
   "metadata": {
    "scrolled": true
   },
   "outputs": [
    {
     "data": {
      "text/plain": [
       "0     6450\n",
       "1     4012\n",
       "2     2549\n",
       "3     1721\n",
       "4     1331\n",
       "5      687\n",
       "6      436\n",
       "7      301\n",
       "8      225\n",
       "12     211\n",
       "9      188\n",
       "11     138\n",
       "10     116\n",
       "Name: Number of defaults in last 12 bills, dtype: int64"
      ]
     },
     "execution_count": 12,
     "metadata": {},
     "output_type": "execute_result"
    }
   ],
   "source": [
    "data['Number of defaults in last 12 bills'].value_counts()"
   ]
  },
  {
   "cell_type": "markdown",
   "metadata": {},
   "source": [
    "### Payment Method"
   ]
  },
  {
   "cell_type": "code",
   "execution_count": 13,
   "metadata": {},
   "outputs": [
    {
     "data": {
      "text/plain": [
       "Cheque          14765\n",
       "Credit Card      2139\n",
       "Direct Debit     1461\n",
       "Name: Payment Method, dtype: int64"
      ]
     },
     "execution_count": 13,
     "metadata": {},
     "output_type": "execute_result"
    }
   ],
   "source": [
    "data['Payment Method'].value_counts()"
   ]
  },
  {
   "cell_type": "code",
   "execution_count": 34,
   "metadata": {},
   "outputs": [
    {
     "data": {
      "text/plain": [
       "<matplotlib.axes._subplots.AxesSubplot at 0x250cc665d08>"
      ]
     },
     "execution_count": 34,
     "metadata": {},
     "output_type": "execute_result"
    },
    {
     "data": {
      "image/png": "[encoded data removed]",
      "text/plain": [
       "<Figure size 432x288 with 1 Axes>"
      ]
     },
     "metadata": {},
     "output_type": "display_data"
    }
   ],
   "source": [
    "sns.scatterplot(y = data['Payment Method'],x = data['Age'])"
   ]
  },
  {
   "cell_type": "markdown",
   "metadata": {},
   "source": [
    "### District"
   ]
  },
  {
   "cell_type": "code",
   "execution_count": 14,
   "metadata": {},
   "outputs": [
    {
     "data": {
      "text/plain": [
       "V    11750\n",
       "Q     2855\n",
       "S     2204\n",
       "N     1556\n",
       "Name: District, dtype: int64"
      ]
     },
     "execution_count": 14,
     "metadata": {},
     "output_type": "execute_result"
    }
   ],
   "source": [
    "data['District'].value_counts()"
   ]
  },
  {
   "cell_type": "markdown",
   "metadata": {},
   "source": [
    "### Area"
   ]
  },
  {
   "cell_type": "code",
   "execution_count": 15,
   "metadata": {},
   "outputs": [
    {
     "data": {
      "text/plain": [
       "Victoria              11750\n",
       "Queensland             2855\n",
       "South Australia        2204\n",
       "Northern Territory     1556\n",
       "Name: Area, dtype: int64"
      ]
     },
     "execution_count": 15,
     "metadata": {},
     "output_type": "execute_result"
    }
   ],
   "source": [
    "# Area and District seem ot be the same\n",
    "data['Area'].value_counts()"
   ]
  },
  {
   "cell_type": "markdown",
   "metadata": {},
   "source": [
    "### Concession Card"
   ]
  },
  {
   "cell_type": "code",
   "execution_count": 16,
   "metadata": {},
   "outputs": [
    {
     "data": {
      "text/plain": [
       "No     13615\n",
       "Yes     4750\n",
       "Name: Concesssion Card, dtype: int64"
      ]
     },
     "execution_count": 16,
     "metadata": {},
     "output_type": "execute_result"
    }
   ],
   "source": [
    "data['Concesssion Card'].value_counts()"
   ]
  },
  {
   "cell_type": "markdown",
   "metadata": {},
   "source": [
    "### Inbound Calls"
   ]
  },
  {
   "cell_type": "code",
   "execution_count": 17,
   "metadata": {},
   "outputs": [
    {
     "data": {
      "text/plain": [
       "0     17323\n",
       "1       644\n",
       "2       181\n",
       "3        67\n",
       "4        42\n",
       "5        29\n",
       "6        20\n",
       "7        18\n",
       "8         9\n",
       "10        7\n",
       "9         6\n",
       "11        4\n",
       "50        2\n",
       "14        2\n",
       "15        2\n",
       "24        1\n",
       "30        1\n",
       "22        1\n",
       "26        1\n",
       "12        1\n",
       "19        1\n",
       "28        1\n",
       "44        1\n",
       "32        1\n",
       "Name: INBOUNDCALLS, dtype: int64"
      ]
     },
     "execution_count": 17,
     "metadata": {},
     "output_type": "execute_result"
    }
   ],
   "source": [
    "data['INBOUNDCALLS'].value_counts()"
   ]
  },
  {
   "cell_type": "markdown",
   "metadata": {},
   "source": [
    "### Outbound Calls"
   ]
  },
  {
   "cell_type": "code",
   "execution_count": 18,
   "metadata": {},
   "outputs": [
    {
     "data": {
      "text/plain": [
       "0    17766\n",
       "1      380\n",
       "2      128\n",
       "3       54\n",
       "4       19\n",
       "5        9\n",
       "6        4\n",
       "9        2\n",
       "7        2\n",
       "8        1\n",
       "Name: OUTBOUNDCALLS, dtype: int64"
      ]
     },
     "execution_count": 18,
     "metadata": {},
     "output_type": "execute_result"
    }
   ],
   "source": [
    "data['OUTBOUNDCALLS'].value_counts()"
   ]
  },
  {
   "cell_type": "markdown",
   "metadata": {},
   "source": [
    "### Relationship (months)"
   ]
  },
  {
   "cell_type": "code",
   "execution_count": 19,
   "metadata": {},
   "outputs": [
    {
     "data": {
      "text/plain": [
       "5.0      392\n",
       "4.0      385\n",
       "1.0      346\n",
       "11.0     345\n",
       "2.0      339\n",
       "        ... \n",
       "146.0      5\n",
       "139.0      4\n",
       "143.0      3\n",
       "148.0      3\n",
       "147.0      2\n",
       "Name: Relationship (months), Length: 148, dtype: int64"
      ]
     },
     "execution_count": 19,
     "metadata": {},
     "output_type": "execute_result"
    }
   ],
   "source": [
    "data['Relationship (months)'].value_counts()"
   ]
  },
  {
   "cell_type": "markdown",
   "metadata": {},
   "source": [
    "### Occupier Status"
   ]
  },
  {
   "cell_type": "code",
   "execution_count": 20,
   "metadata": {},
   "outputs": [
    {
     "data": {
      "text/plain": [
       "Regular     18035\n",
       "Occupier      328\n",
       "Name: Occupier Status, dtype: int64"
      ]
     },
     "execution_count": 20,
     "metadata": {},
     "output_type": "execute_result"
    }
   ],
   "source": [
    "data['Occupier Status'].value_counts()"
   ]
  },
  {
   "cell_type": "markdown",
   "metadata": {},
   "source": [
    "### Multiple Fuel"
   ]
  },
  {
   "cell_type": "code",
   "execution_count": 21,
   "metadata": {},
   "outputs": [
    {
     "data": {
      "text/plain": [
       "N    10716\n",
       "Y     7647\n",
       "Name: Multiple Fuel, dtype: int64"
      ]
     },
     "execution_count": 21,
     "metadata": {},
     "output_type": "execute_result"
    }
   ],
   "source": [
    "data['Multiple Fuel'].value_counts()"
   ]
  },
  {
   "cell_type": "markdown",
   "metadata": {},
   "source": [
    "### Bill Delivery Method"
   ]
  },
  {
   "cell_type": "code",
   "execution_count": 22,
   "metadata": {},
   "outputs": [
    {
     "data": {
      "text/plain": [
       "Mail        12842\n",
       "Internet     5341\n",
       "Email         182\n",
       "Name: Bill Delivery Method, dtype: int64"
      ]
     },
     "execution_count": 22,
     "metadata": {},
     "output_type": "execute_result"
    }
   ],
   "source": [
    "data['Bill Delivery Method'].value_counts()"
   ]
  },
  {
   "cell_type": "markdown",
   "metadata": {},
   "source": [
    "### Catrgory of Latest Complaint"
   ]
  },
  {
   "cell_type": "code",
   "execution_count": 23,
   "metadata": {},
   "outputs": [
    {
     "data": {
      "text/plain": [
       "Call Drop             7693\n",
       "High Billed Amount    5994\n",
       "Internet Slowness     4377\n",
       "Data Charges           272\n",
       "Network Coverage        29\n",
       "Name: Category of latest complaint, dtype: int64"
      ]
     },
     "execution_count": 23,
     "metadata": {},
     "output_type": "execute_result"
    }
   ],
   "source": [
    "data['Category of latest complaint'].value_counts()"
   ]
  },
  {
   "cell_type": "markdown",
   "metadata": {},
   "source": [
    "### NPS"
   ]
  },
  {
   "cell_type": "code",
   "execution_count": 24,
   "metadata": {},
   "outputs": [
    {
     "data": {
      "text/plain": [
       " 1    11466\n",
       "-1     5048\n",
       " 0     1851\n",
       "Name: NPS, dtype: int64"
      ]
     },
     "execution_count": 24,
     "metadata": {},
     "output_type": "execute_result"
    }
   ],
   "source": [
    "data['NPS'].value_counts()"
   ]
  },
  {
   "cell_type": "markdown",
   "metadata": {},
   "source": [
    "### Product"
   ]
  },
  {
   "cell_type": "code",
   "execution_count": 25,
   "metadata": {},
   "outputs": [
    {
     "data": {
      "text/plain": [
       "Mobile              18357\n",
       "Fixed Line              6\n",
       "Internet Service        2\n",
       "Name: Product, dtype: int64"
      ]
     },
     "execution_count": 25,
     "metadata": {},
     "output_type": "execute_result"
    }
   ],
   "source": [
    "data['Product'].value_counts()"
   ]
  },
  {
   "cell_type": "markdown",
   "metadata": {},
   "source": [
    "### Multiple Products"
   ]
  },
  {
   "cell_type": "code",
   "execution_count": 26,
   "metadata": {},
   "outputs": [
    {
     "data": {
      "text/plain": [
       "Yes    11118\n",
       "No      7247\n",
       "Name: Multiple Products, dtype: int64"
      ]
     },
     "execution_count": 26,
     "metadata": {},
     "output_type": "execute_result"
    }
   ],
   "source": [
    "data['Multiple Products'].value_counts()"
   ]
  },
  {
   "cell_type": "markdown",
   "metadata": {},
   "source": [
    "### Product_New"
   ]
  },
  {
   "cell_type": "code",
   "execution_count": 27,
   "metadata": {},
   "outputs": [
    {
     "data": {
      "text/plain": [
       "Mobile              18357\n",
       "Fixed Line              6\n",
       "Internet Service        2\n",
       "Name: Product, dtype: int64"
      ]
     },
     "execution_count": 27,
     "metadata": {},
     "output_type": "execute_result"
    }
   ],
   "source": [
    "data['Product'].value_counts()"
   ]
  },
  {
   "cell_type": "markdown",
   "metadata": {},
   "source": [
    "### Customer Segment"
   ]
  },
  {
   "cell_type": "code",
   "execution_count": 28,
   "metadata": {},
   "outputs": [
    {
     "data": {
      "text/plain": [
       "Independents                 5740\n",
       "Family & Self Development    2691\n",
       "Friends, Fun & Fashion       2614\n",
       "Principled Professional      2567\n",
       "Small Business               2399\n",
       "Entrepreneur                 2354\n",
       "Name: Customer Segment, dtype: int64"
      ]
     },
     "execution_count": 28,
     "metadata": {},
     "output_type": "execute_result"
    }
   ],
   "source": [
    "data['Customer Segment'].value_counts()"
   ]
  },
  {
   "cell_type": "markdown",
   "metadata": {},
   "source": [
    "### Product Category"
   ]
  },
  {
   "cell_type": "code",
   "execution_count": 28,
   "metadata": {},
   "outputs": [
    {
     "data": {
      "text/plain": [
       "Fixed line    3538\n",
       "Mobile        3314\n",
       "Internet      3039\n",
       "Bundle        2979\n",
       "ADSL          2748\n",
       "Cable         2747\n",
       "Name: Product Category, dtype: int64"
      ]
     },
     "execution_count": 28,
     "metadata": {},
     "output_type": "execute_result"
    }
   ],
   "source": [
    "data['Product Category'].value_counts()"
   ]
  },
  {
   "cell_type": "markdown",
   "metadata": {},
   "source": [
    "### Bill Amount"
   ]
  },
  {
   "cell_type": "code",
   "execution_count": 29,
   "metadata": {},
   "outputs": [
    {
     "data": {
      "text/plain": [
       "<matplotlib.axes._subplots.AxesSubplot at 0x1e3ce3b8548>"
      ]
     },
     "execution_count": 29,
     "metadata": {},
     "output_type": "execute_result"
    },
    {
     "data": {
      "image/png": "[encoded data removed]",
      "text/plain": [
       "<Figure size 432x288 with 1 Axes>"
      ]
     },
     "metadata": {},
     "output_type": "display_data"
    }
   ],
   "source": [
    "sns.distplot(data['Bill Amount'],norm_hist=False)"
   ]
  },
  {
   "cell_type": "code",
   "execution_count": 30,
   "metadata": {},
   "outputs": [
    {
     "ename": "IndentationError",
     "evalue": "unexpected indent (<ipython-input-30-0b5b0999b2d0>, line 2)",
     "output_type": "error",
     "traceback": [
      "\u001b[1;36m  File \u001b[1;32m\"<ipython-input-30-0b5b0999b2d0>\"\u001b[1;36m, line \u001b[1;32m2\u001b[0m\n\u001b[1;33m    'INBOUNDCALLS', 'OUTBOUNDCALLS', 'Relationship (months)',\u001b[0m\n\u001b[1;37m    ^\u001b[0m\n\u001b[1;31mIndentationError\u001b[0m\u001b[1;31m:\u001b[0m unexpected indent\n"
     ]
    }
   ],
   "source": [
    "'District', 'Area', 'Concesssion Card',\n",
    "       'INBOUNDCALLS', 'OUTBOUNDCALLS', 'Relationship (months)',\n",
    "       'Occupier Status', 'Multiple Fuel', 'Bill Delivery Method', 'rpart',\n",
    "       'Category of latest complaint', 'NPS', 'Product', 'Multiple Products',\n",
    "       'Product_New', 'Adjusted Prob for 50% Cut-off (without Formulae)',\n",
    "       'Customer Segment', 'Product Category', 'Bill Amount'],"
   ]
  },
  {
   "cell_type": "markdown",
   "metadata": {},
   "source": [
    "# Feature Engineering"
   ]
  },
  {
   "cell_type": "code",
   "execution_count": 76,
   "metadata": {},
   "outputs": [
    {
     "data": {
      "text/plain": [
       "Index(['Customer ID', 'Churned', 'Age', 'Average Bill over 6 months',\n",
       "       'Average Bill over 12 months', 'Number of defaults in last 12 bills',\n",
       "       'Payment Method', 'District', 'Area', 'Concesssion Card',\n",
       "       'INBOUNDCALLS', 'OUTBOUNDCALLS', 'Relationship (months)',\n",
       "       'Occupier Status', 'Multiple Fuel', 'Bill Delivery Method', 'rpart',\n",
       "       'Category of latest complaint', 'NPS', 'Product', 'Multiple Products',\n",
       "       'Product_New', 'Adjusted Prob for 50% Cut-off (without Formulae)',\n",
       "       'Customer Segment', 'Product Category', 'Bill Amount'],\n",
       "      dtype='object')"
      ]
     },
     "execution_count": 76,
     "metadata": {},
     "output_type": "execute_result"
    }
   ],
   "source": [
    "### List out all columns\n",
    "\n",
    "data.columns"
   ]
  },
  {
   "cell_type": "code",
   "execution_count": 77,
   "metadata": {},
   "outputs": [
    {
     "ename": "SyntaxError",
     "evalue": "EOL while scanning string literal (<ipython-input-77-ef89f62a5e32>, line 5)",
     "output_type": "error",
     "traceback": [
      "\u001b[1;36m  File \u001b[1;32m\"<ipython-input-77-ef89f62a5e32>\"\u001b[1;36m, line \u001b[1;32m5\u001b[0m\n\u001b[1;33m    'Category(\"of\", \"latest\", \"complaint','NPS','Multiple\", \"Products','Customer\", \"Segment','Product\", \"Category','Bill\", \"Amount'\")\u001b[0m\n\u001b[1;37m                                                                                                                                     ^\u001b[0m\n\u001b[1;31mSyntaxError\u001b[0m\u001b[1;31m:\u001b[0m EOL while scanning string literal\n"
     ]
    }
   ],
   "source": [
    "'Churned'\n",
    "\n",
    "\n",
    "'Age', 'Average Bill over 12 months', 'Number of defaults in last 12 bills', 'Concesssion Card', 'Relationship (months)'\n",
    ",'Category of latest complaint','NPS','Multiple Products','Customer Segment','Product Category','Bill Amount'"
   ]
  },
  {
   "cell_type": "code",
   "execution_count": 78,
   "metadata": {},
   "outputs": [
    {
     "data": {
      "text/html": [
       "<div>\n",
       "<style scoped>\n",
       "    .dataframe tbody tr th:only-of-type {\n",
       "        vertical-align: middle;\n",
       "    }\n",
       "\n",
       "    .dataframe tbody tr th {\n",
       "        vertical-align: top;\n",
       "    }\n",
       "\n",
       "    .dataframe thead th {\n",
       "        text-align: right;\n",
       "    }\n",
       "</style>\n",
       "<table border=\"1\" class=\"dataframe\">\n",
       "  <thead>\n",
       "    <tr style=\"text-align: right;\">\n",
       "      <th></th>\n",
       "      <th>Customer ID</th>\n",
       "      <th>Churned</th>\n",
       "      <th>Age</th>\n",
       "      <th>Average Bill over 6 months</th>\n",
       "      <th>Average Bill over 12 months</th>\n",
       "      <th>Number of defaults in last 12 bills</th>\n",
       "      <th>Payment Method</th>\n",
       "      <th>District</th>\n",
       "      <th>Area</th>\n",
       "      <th>Concesssion Card</th>\n",
       "      <th>...</th>\n",
       "      <th>rpart</th>\n",
       "      <th>Category of latest complaint</th>\n",
       "      <th>NPS</th>\n",
       "      <th>Product</th>\n",
       "      <th>Multiple Products</th>\n",
       "      <th>Product_New</th>\n",
       "      <th>Adjusted Prob for 50% Cut-off (without Formulae)</th>\n",
       "      <th>Customer Segment</th>\n",
       "      <th>Product Category</th>\n",
       "      <th>Bill Amount</th>\n",
       "    </tr>\n",
       "  </thead>\n",
       "  <tbody>\n",
       "    <tr>\n",
       "      <th>0</th>\n",
       "      <td>1</td>\n",
       "      <td>Yes</td>\n",
       "      <td>64.0</td>\n",
       "      <td>6.0000</td>\n",
       "      <td>123.0150</td>\n",
       "      <td>2</td>\n",
       "      <td>Credit Card</td>\n",
       "      <td>N</td>\n",
       "      <td>Northern Territory</td>\n",
       "      <td>No</td>\n",
       "      <td>...</td>\n",
       "      <td>0.357143</td>\n",
       "      <td>Network Coverage</td>\n",
       "      <td>-1</td>\n",
       "      <td>Internet Service</td>\n",
       "      <td>Yes</td>\n",
       "      <td>Mobile &amp; Internet Service</td>\n",
       "      <td>0.838283</td>\n",
       "      <td>Independents</td>\n",
       "      <td>Internet</td>\n",
       "      <td>169</td>\n",
       "    </tr>\n",
       "    <tr>\n",
       "      <th>1</th>\n",
       "      <td>2</td>\n",
       "      <td>No</td>\n",
       "      <td>29.0</td>\n",
       "      <td>18.0000</td>\n",
       "      <td>26.4125</td>\n",
       "      <td>3</td>\n",
       "      <td>Cheque</td>\n",
       "      <td>S</td>\n",
       "      <td>South Australia</td>\n",
       "      <td>No</td>\n",
       "      <td>...</td>\n",
       "      <td>0.053805</td>\n",
       "      <td>Call Drop</td>\n",
       "      <td>0</td>\n",
       "      <td>Fixed Line</td>\n",
       "      <td>No</td>\n",
       "      <td>Fixed Line</td>\n",
       "      <td>0.346654</td>\n",
       "      <td>Small Business</td>\n",
       "      <td>ADSL</td>\n",
       "      <td>137</td>\n",
       "    </tr>\n",
       "    <tr>\n",
       "      <th>2</th>\n",
       "      <td>3</td>\n",
       "      <td>No</td>\n",
       "      <td>47.0</td>\n",
       "      <td>4.0000</td>\n",
       "      <td>108.9525</td>\n",
       "      <td>0</td>\n",
       "      <td>Cheque</td>\n",
       "      <td>Q</td>\n",
       "      <td>Queensland</td>\n",
       "      <td>No</td>\n",
       "      <td>...</td>\n",
       "      <td>0.030710</td>\n",
       "      <td>Data Charges</td>\n",
       "      <td>0</td>\n",
       "      <td>Mobile</td>\n",
       "      <td>No</td>\n",
       "      <td>Internet Service</td>\n",
       "      <td>0.228171</td>\n",
       "      <td>Independents</td>\n",
       "      <td>Fixed line</td>\n",
       "      <td>252</td>\n",
       "    </tr>\n",
       "    <tr>\n",
       "      <th>3</th>\n",
       "      <td>4</td>\n",
       "      <td>No</td>\n",
       "      <td>75.0</td>\n",
       "      <td>7.0000</td>\n",
       "      <td>106.0475</td>\n",
       "      <td>1</td>\n",
       "      <td>Cheque</td>\n",
       "      <td>S</td>\n",
       "      <td>South Australia</td>\n",
       "      <td>Yes</td>\n",
       "      <td>...</td>\n",
       "      <td>0.030710</td>\n",
       "      <td>High Billed Amount</td>\n",
       "      <td>0</td>\n",
       "      <td>Internet Service</td>\n",
       "      <td>Yes</td>\n",
       "      <td>Internet Service,Fixed Line &amp; PayTV</td>\n",
       "      <td>0.228171</td>\n",
       "      <td>Friends, Fun &amp; Fashion</td>\n",
       "      <td>Internet</td>\n",
       "      <td>175</td>\n",
       "    </tr>\n",
       "    <tr>\n",
       "      <th>4</th>\n",
       "      <td>5</td>\n",
       "      <td>No</td>\n",
       "      <td>66.0</td>\n",
       "      <td>35.4075</td>\n",
       "      <td>32.4475</td>\n",
       "      <td>1</td>\n",
       "      <td>Cheque</td>\n",
       "      <td>V</td>\n",
       "      <td>Victoria</td>\n",
       "      <td>No</td>\n",
       "      <td>...</td>\n",
       "      <td>0.144033</td>\n",
       "      <td>Call Drop</td>\n",
       "      <td>0</td>\n",
       "      <td>Fixed Line</td>\n",
       "      <td>No</td>\n",
       "      <td>Internet Service</td>\n",
       "      <td>0.610902</td>\n",
       "      <td>Friends, Fun &amp; Fashion</td>\n",
       "      <td>Internet</td>\n",
       "      <td>128</td>\n",
       "    </tr>\n",
       "    <tr>\n",
       "      <th>...</th>\n",
       "      <td>...</td>\n",
       "      <td>...</td>\n",
       "      <td>...</td>\n",
       "      <td>...</td>\n",
       "      <td>...</td>\n",
       "      <td>...</td>\n",
       "      <td>...</td>\n",
       "      <td>...</td>\n",
       "      <td>...</td>\n",
       "      <td>...</td>\n",
       "      <td>...</td>\n",
       "      <td>...</td>\n",
       "      <td>...</td>\n",
       "      <td>...</td>\n",
       "      <td>...</td>\n",
       "      <td>...</td>\n",
       "      <td>...</td>\n",
       "      <td>...</td>\n",
       "      <td>...</td>\n",
       "      <td>...</td>\n",
       "      <td>...</td>\n",
       "    </tr>\n",
       "    <tr>\n",
       "      <th>18360</th>\n",
       "      <td>18361</td>\n",
       "      <td>No</td>\n",
       "      <td>88.0</td>\n",
       "      <td>36.1375</td>\n",
       "      <td>26.7650</td>\n",
       "      <td>0</td>\n",
       "      <td>Cheque</td>\n",
       "      <td>V</td>\n",
       "      <td>Victoria</td>\n",
       "      <td>Yes</td>\n",
       "      <td>...</td>\n",
       "      <td>0.030710</td>\n",
       "      <td>High Billed Amount</td>\n",
       "      <td>1</td>\n",
       "      <td>Mobile</td>\n",
       "      <td>No</td>\n",
       "      <td>Fixed Line</td>\n",
       "      <td>0.228171</td>\n",
       "      <td>Family &amp; Self Development</td>\n",
       "      <td>Fixed line</td>\n",
       "      <td>55</td>\n",
       "    </tr>\n",
       "    <tr>\n",
       "      <th>18361</th>\n",
       "      <td>18362</td>\n",
       "      <td>No</td>\n",
       "      <td>72.0</td>\n",
       "      <td>39.8950</td>\n",
       "      <td>31.8450</td>\n",
       "      <td>0</td>\n",
       "      <td>Cheque</td>\n",
       "      <td>V</td>\n",
       "      <td>Victoria</td>\n",
       "      <td>No</td>\n",
       "      <td>...</td>\n",
       "      <td>0.030710</td>\n",
       "      <td>High Billed Amount</td>\n",
       "      <td>1</td>\n",
       "      <td>Mobile</td>\n",
       "      <td>Yes</td>\n",
       "      <td>Mobile &amp; PayTV</td>\n",
       "      <td>0.228171</td>\n",
       "      <td>Friends, Fun &amp; Fashion</td>\n",
       "      <td>Fixed line</td>\n",
       "      <td>79</td>\n",
       "    </tr>\n",
       "    <tr>\n",
       "      <th>18362</th>\n",
       "      <td>18363</td>\n",
       "      <td>No</td>\n",
       "      <td>19.0</td>\n",
       "      <td>19.0000</td>\n",
       "      <td>43.6925</td>\n",
       "      <td>0</td>\n",
       "      <td>Cheque</td>\n",
       "      <td>V</td>\n",
       "      <td>Victoria</td>\n",
       "      <td>No</td>\n",
       "      <td>...</td>\n",
       "      <td>0.114994</td>\n",
       "      <td>Call Drop</td>\n",
       "      <td>1</td>\n",
       "      <td>Mobile</td>\n",
       "      <td>No</td>\n",
       "      <td>Fixed Line</td>\n",
       "      <td>0.547997</td>\n",
       "      <td>Independents</td>\n",
       "      <td>Mobile</td>\n",
       "      <td>81</td>\n",
       "    </tr>\n",
       "    <tr>\n",
       "      <th>18363</th>\n",
       "      <td>18364</td>\n",
       "      <td>No</td>\n",
       "      <td>32.0</td>\n",
       "      <td>28.1175</td>\n",
       "      <td>21.8450</td>\n",
       "      <td>6</td>\n",
       "      <td>Cheque</td>\n",
       "      <td>V</td>\n",
       "      <td>Victoria</td>\n",
       "      <td>No</td>\n",
       "      <td>...</td>\n",
       "      <td>0.053805</td>\n",
       "      <td>Data Charges</td>\n",
       "      <td>-1</td>\n",
       "      <td>Mobile</td>\n",
       "      <td>Yes</td>\n",
       "      <td>Mobile &amp; Internet Service</td>\n",
       "      <td>0.346654</td>\n",
       "      <td>Small Business</td>\n",
       "      <td>Mobile</td>\n",
       "      <td>163</td>\n",
       "    </tr>\n",
       "    <tr>\n",
       "      <th>18364</th>\n",
       "      <td>18365</td>\n",
       "      <td>No</td>\n",
       "      <td>43.0</td>\n",
       "      <td>33.8800</td>\n",
       "      <td>27.9150</td>\n",
       "      <td>2</td>\n",
       "      <td>Cheque</td>\n",
       "      <td>V</td>\n",
       "      <td>Victoria</td>\n",
       "      <td>No</td>\n",
       "      <td>...</td>\n",
       "      <td>0.030710</td>\n",
       "      <td>Call Drop</td>\n",
       "      <td>1</td>\n",
       "      <td>Mobile</td>\n",
       "      <td>No</td>\n",
       "      <td>PayTV</td>\n",
       "      <td>0.228171</td>\n",
       "      <td>Principled Professional</td>\n",
       "      <td>Bundle</td>\n",
       "      <td>108</td>\n",
       "    </tr>\n",
       "  </tbody>\n",
       "</table>\n",
       "<p>18365 rows × 26 columns</p>\n",
       "</div>"
      ],
      "text/plain": [
       "       Customer ID Churned   Age  Average Bill over 6 months  \\\n",
       "0                1     Yes  64.0                      6.0000   \n",
       "1                2      No  29.0                     18.0000   \n",
       "2                3      No  47.0                      4.0000   \n",
       "3                4      No  75.0                      7.0000   \n",
       "4                5      No  66.0                     35.4075   \n",
       "...            ...     ...   ...                         ...   \n",
       "18360        18361      No  88.0                     36.1375   \n",
       "18361        18362      No  72.0                     39.8950   \n",
       "18362        18363      No  19.0                     19.0000   \n",
       "18363        18364      No  32.0                     28.1175   \n",
       "18364        18365      No  43.0                     33.8800   \n",
       "\n",
       "       Average Bill over 12 months  Number of defaults in last 12 bills  \\\n",
       "0                         123.0150                                    2   \n",
       "1                          26.4125                                    3   \n",
       "2                         108.9525                                    0   \n",
       "3                         106.0475                                    1   \n",
       "4                          32.4475                                    1   \n",
       "...                            ...                                  ...   \n",
       "18360                      26.7650                                    0   \n",
       "18361                      31.8450                                    0   \n",
       "18362                      43.6925                                    0   \n",
       "18363                      21.8450                                    6   \n",
       "18364                      27.9150                                    2   \n",
       "\n",
       "      Payment Method District                Area Concesssion Card  ...  \\\n",
       "0        Credit Card        N  Northern Territory               No  ...   \n",
       "1             Cheque        S     South Australia               No  ...   \n",
       "2             Cheque        Q          Queensland               No  ...   \n",
       "3             Cheque        S     South Australia              Yes  ...   \n",
       "4             Cheque        V            Victoria               No  ...   \n",
       "...              ...      ...                 ...              ...  ...   \n",
       "18360         Cheque        V            Victoria              Yes  ...   \n",
       "18361         Cheque        V            Victoria               No  ...   \n",
       "18362         Cheque        V            Victoria               No  ...   \n",
       "18363         Cheque        V            Victoria               No  ...   \n",
       "18364         Cheque        V            Victoria               No  ...   \n",
       "\n",
       "          rpart  Category of latest complaint  NPS           Product  \\\n",
       "0      0.357143              Network Coverage   -1  Internet Service   \n",
       "1      0.053805                     Call Drop    0        Fixed Line   \n",
       "2      0.030710                  Data Charges    0            Mobile   \n",
       "3      0.030710            High Billed Amount    0  Internet Service   \n",
       "4      0.144033                     Call Drop    0        Fixed Line   \n",
       "...         ...                           ...  ...               ...   \n",
       "18360  0.030710            High Billed Amount    1            Mobile   \n",
       "18361  0.030710            High Billed Amount    1            Mobile   \n",
       "18362  0.114994                     Call Drop    1            Mobile   \n",
       "18363  0.053805                  Data Charges   -1            Mobile   \n",
       "18364  0.030710                     Call Drop    1            Mobile   \n",
       "\n",
       "      Multiple Products                          Product_New  \\\n",
       "0                   Yes            Mobile & Internet Service   \n",
       "1                    No                           Fixed Line   \n",
       "2                    No                     Internet Service   \n",
       "3                   Yes  Internet Service,Fixed Line & PayTV   \n",
       "4                    No                     Internet Service   \n",
       "...                 ...                                  ...   \n",
       "18360                No                           Fixed Line   \n",
       "18361               Yes                       Mobile & PayTV   \n",
       "18362                No                           Fixed Line   \n",
       "18363               Yes            Mobile & Internet Service   \n",
       "18364                No                                PayTV   \n",
       "\n",
       "       Adjusted Prob for 50% Cut-off (without Formulae)  \\\n",
       "0                                              0.838283   \n",
       "1                                              0.346654   \n",
       "2                                              0.228171   \n",
       "3                                              0.228171   \n",
       "4                                              0.610902   \n",
       "...                                                 ...   \n",
       "18360                                          0.228171   \n",
       "18361                                          0.228171   \n",
       "18362                                          0.547997   \n",
       "18363                                          0.346654   \n",
       "18364                                          0.228171   \n",
       "\n",
       "                Customer Segment  Product Category Bill Amount  \n",
       "0                   Independents          Internet         169  \n",
       "1                 Small Business              ADSL         137  \n",
       "2                   Independents        Fixed line         252  \n",
       "3         Friends, Fun & Fashion          Internet         175  \n",
       "4         Friends, Fun & Fashion          Internet         128  \n",
       "...                          ...               ...         ...  \n",
       "18360  Family & Self Development        Fixed line          55  \n",
       "18361     Friends, Fun & Fashion        Fixed line          79  \n",
       "18362               Independents            Mobile          81  \n",
       "18363             Small Business            Mobile         163  \n",
       "18364    Principled Professional            Bundle         108  \n",
       "\n",
       "[18365 rows x 26 columns]"
      ]
     },
     "execution_count": 78,
     "metadata": {},
     "output_type": "execute_result"
    }
   ],
   "source": [
    "data1 = data.copy()\n",
    "data1"
   ]
  },
  {
   "cell_type": "markdown",
   "metadata": {},
   "source": [
    "### Age"
   ]
  },
  {
   "cell_type": "code",
   "execution_count": 79,
   "metadata": {},
   "outputs": [
    {
     "data": {
      "text/plain": [
       "51.42220430726707"
      ]
     },
     "execution_count": 79,
     "metadata": {},
     "output_type": "execute_result"
    }
   ],
   "source": [
    "#average of ages in the Age column.\n",
    "\n",
    "data1['Age'].mean()"
   ]
  },
  {
   "cell_type": "code",
   "execution_count": 80,
   "metadata": {},
   "outputs": [],
   "source": [
    "#for sort to work, either store the output in another variable and display that or just inplace = true\n",
    "\n",
    "#sorted = data.sort_values(by = 'Age', ascending = True)\n",
    "\n",
    "#sorted"
   ]
  },
  {
   "cell_type": "code",
   "execution_count": 81,
   "metadata": {},
   "outputs": [
    {
     "data": {
      "text/html": [
       "<div>\n",
       "<style scoped>\n",
       "    .dataframe tbody tr th:only-of-type {\n",
       "        vertical-align: middle;\n",
       "    }\n",
       "\n",
       "    .dataframe tbody tr th {\n",
       "        vertical-align: top;\n",
       "    }\n",
       "\n",
       "    .dataframe thead th {\n",
       "        text-align: right;\n",
       "    }\n",
       "</style>\n",
       "<table border=\"1\" class=\"dataframe\">\n",
       "  <thead>\n",
       "    <tr style=\"text-align: right;\">\n",
       "      <th></th>\n",
       "      <th>Customer ID</th>\n",
       "      <th>Churned</th>\n",
       "      <th>Age</th>\n",
       "      <th>Average Bill over 6 months</th>\n",
       "      <th>Average Bill over 12 months</th>\n",
       "      <th>Number of defaults in last 12 bills</th>\n",
       "      <th>Payment Method</th>\n",
       "      <th>District</th>\n",
       "      <th>Area</th>\n",
       "      <th>Concesssion Card</th>\n",
       "      <th>...</th>\n",
       "      <th>rpart</th>\n",
       "      <th>Category of latest complaint</th>\n",
       "      <th>NPS</th>\n",
       "      <th>Product</th>\n",
       "      <th>Multiple Products</th>\n",
       "      <th>Product_New</th>\n",
       "      <th>Adjusted Prob for 50% Cut-off (without Formulae)</th>\n",
       "      <th>Customer Segment</th>\n",
       "      <th>Product Category</th>\n",
       "      <th>Bill Amount</th>\n",
       "    </tr>\n",
       "  </thead>\n",
       "  <tbody>\n",
       "    <tr>\n",
       "      <th>0</th>\n",
       "      <td>1</td>\n",
       "      <td>Yes</td>\n",
       "      <td>64.0</td>\n",
       "      <td>6.0000</td>\n",
       "      <td>123.0150</td>\n",
       "      <td>2</td>\n",
       "      <td>Credit Card</td>\n",
       "      <td>N</td>\n",
       "      <td>Northern Territory</td>\n",
       "      <td>No</td>\n",
       "      <td>...</td>\n",
       "      <td>0.357143</td>\n",
       "      <td>Network Coverage</td>\n",
       "      <td>-1</td>\n",
       "      <td>Internet Service</td>\n",
       "      <td>Yes</td>\n",
       "      <td>Mobile &amp; Internet Service</td>\n",
       "      <td>0.838283</td>\n",
       "      <td>Independents</td>\n",
       "      <td>Internet</td>\n",
       "      <td>169</td>\n",
       "    </tr>\n",
       "    <tr>\n",
       "      <th>1</th>\n",
       "      <td>2</td>\n",
       "      <td>No</td>\n",
       "      <td>29.0</td>\n",
       "      <td>18.0000</td>\n",
       "      <td>26.4125</td>\n",
       "      <td>3</td>\n",
       "      <td>Cheque</td>\n",
       "      <td>S</td>\n",
       "      <td>South Australia</td>\n",
       "      <td>No</td>\n",
       "      <td>...</td>\n",
       "      <td>0.053805</td>\n",
       "      <td>Call Drop</td>\n",
       "      <td>0</td>\n",
       "      <td>Fixed Line</td>\n",
       "      <td>No</td>\n",
       "      <td>Fixed Line</td>\n",
       "      <td>0.346654</td>\n",
       "      <td>Small Business</td>\n",
       "      <td>ADSL</td>\n",
       "      <td>137</td>\n",
       "    </tr>\n",
       "    <tr>\n",
       "      <th>2</th>\n",
       "      <td>3</td>\n",
       "      <td>No</td>\n",
       "      <td>47.0</td>\n",
       "      <td>4.0000</td>\n",
       "      <td>108.9525</td>\n",
       "      <td>0</td>\n",
       "      <td>Cheque</td>\n",
       "      <td>Q</td>\n",
       "      <td>Queensland</td>\n",
       "      <td>No</td>\n",
       "      <td>...</td>\n",
       "      <td>0.030710</td>\n",
       "      <td>Data Charges</td>\n",
       "      <td>0</td>\n",
       "      <td>Mobile</td>\n",
       "      <td>No</td>\n",
       "      <td>Internet Service</td>\n",
       "      <td>0.228171</td>\n",
       "      <td>Independents</td>\n",
       "      <td>Fixed line</td>\n",
       "      <td>252</td>\n",
       "    </tr>\n",
       "    <tr>\n",
       "      <th>3</th>\n",
       "      <td>4</td>\n",
       "      <td>No</td>\n",
       "      <td>75.0</td>\n",
       "      <td>7.0000</td>\n",
       "      <td>106.0475</td>\n",
       "      <td>1</td>\n",
       "      <td>Cheque</td>\n",
       "      <td>S</td>\n",
       "      <td>South Australia</td>\n",
       "      <td>Yes</td>\n",
       "      <td>...</td>\n",
       "      <td>0.030710</td>\n",
       "      <td>High Billed Amount</td>\n",
       "      <td>0</td>\n",
       "      <td>Internet Service</td>\n",
       "      <td>Yes</td>\n",
       "      <td>Internet Service,Fixed Line &amp; PayTV</td>\n",
       "      <td>0.228171</td>\n",
       "      <td>Friends, Fun &amp; Fashion</td>\n",
       "      <td>Internet</td>\n",
       "      <td>175</td>\n",
       "    </tr>\n",
       "    <tr>\n",
       "      <th>4</th>\n",
       "      <td>5</td>\n",
       "      <td>No</td>\n",
       "      <td>66.0</td>\n",
       "      <td>35.4075</td>\n",
       "      <td>32.4475</td>\n",
       "      <td>1</td>\n",
       "      <td>Cheque</td>\n",
       "      <td>V</td>\n",
       "      <td>Victoria</td>\n",
       "      <td>No</td>\n",
       "      <td>...</td>\n",
       "      <td>0.144033</td>\n",
       "      <td>Call Drop</td>\n",
       "      <td>0</td>\n",
       "      <td>Fixed Line</td>\n",
       "      <td>No</td>\n",
       "      <td>Internet Service</td>\n",
       "      <td>0.610902</td>\n",
       "      <td>Friends, Fun &amp; Fashion</td>\n",
       "      <td>Internet</td>\n",
       "      <td>128</td>\n",
       "    </tr>\n",
       "    <tr>\n",
       "      <th>...</th>\n",
       "      <td>...</td>\n",
       "      <td>...</td>\n",
       "      <td>...</td>\n",
       "      <td>...</td>\n",
       "      <td>...</td>\n",
       "      <td>...</td>\n",
       "      <td>...</td>\n",
       "      <td>...</td>\n",
       "      <td>...</td>\n",
       "      <td>...</td>\n",
       "      <td>...</td>\n",
       "      <td>...</td>\n",
       "      <td>...</td>\n",
       "      <td>...</td>\n",
       "      <td>...</td>\n",
       "      <td>...</td>\n",
       "      <td>...</td>\n",
       "      <td>...</td>\n",
       "      <td>...</td>\n",
       "      <td>...</td>\n",
       "      <td>...</td>\n",
       "    </tr>\n",
       "    <tr>\n",
       "      <th>18360</th>\n",
       "      <td>18361</td>\n",
       "      <td>No</td>\n",
       "      <td>88.0</td>\n",
       "      <td>36.1375</td>\n",
       "      <td>26.7650</td>\n",
       "      <td>0</td>\n",
       "      <td>Cheque</td>\n",
       "      <td>V</td>\n",
       "      <td>Victoria</td>\n",
       "      <td>Yes</td>\n",
       "      <td>...</td>\n",
       "      <td>0.030710</td>\n",
       "      <td>High Billed Amount</td>\n",
       "      <td>1</td>\n",
       "      <td>Mobile</td>\n",
       "      <td>No</td>\n",
       "      <td>Fixed Line</td>\n",
       "      <td>0.228171</td>\n",
       "      <td>Family &amp; Self Development</td>\n",
       "      <td>Fixed line</td>\n",
       "      <td>55</td>\n",
       "    </tr>\n",
       "    <tr>\n",
       "      <th>18361</th>\n",
       "      <td>18362</td>\n",
       "      <td>No</td>\n",
       "      <td>72.0</td>\n",
       "      <td>39.8950</td>\n",
       "      <td>31.8450</td>\n",
       "      <td>0</td>\n",
       "      <td>Cheque</td>\n",
       "      <td>V</td>\n",
       "      <td>Victoria</td>\n",
       "      <td>No</td>\n",
       "      <td>...</td>\n",
       "      <td>0.030710</td>\n",
       "      <td>High Billed Amount</td>\n",
       "      <td>1</td>\n",
       "      <td>Mobile</td>\n",
       "      <td>Yes</td>\n",
       "      <td>Mobile &amp; PayTV</td>\n",
       "      <td>0.228171</td>\n",
       "      <td>Friends, Fun &amp; Fashion</td>\n",
       "      <td>Fixed line</td>\n",
       "      <td>79</td>\n",
       "    </tr>\n",
       "    <tr>\n",
       "      <th>18362</th>\n",
       "      <td>18363</td>\n",
       "      <td>No</td>\n",
       "      <td>19.0</td>\n",
       "      <td>19.0000</td>\n",
       "      <td>43.6925</td>\n",
       "      <td>0</td>\n",
       "      <td>Cheque</td>\n",
       "      <td>V</td>\n",
       "      <td>Victoria</td>\n",
       "      <td>No</td>\n",
       "      <td>...</td>\n",
       "      <td>0.114994</td>\n",
       "      <td>Call Drop</td>\n",
       "      <td>1</td>\n",
       "      <td>Mobile</td>\n",
       "      <td>No</td>\n",
       "      <td>Fixed Line</td>\n",
       "      <td>0.547997</td>\n",
       "      <td>Independents</td>\n",
       "      <td>Mobile</td>\n",
       "      <td>81</td>\n",
       "    </tr>\n",
       "    <tr>\n",
       "      <th>18363</th>\n",
       "      <td>18364</td>\n",
       "      <td>No</td>\n",
       "      <td>32.0</td>\n",
       "      <td>28.1175</td>\n",
       "      <td>21.8450</td>\n",
       "      <td>6</td>\n",
       "      <td>Cheque</td>\n",
       "      <td>V</td>\n",
       "      <td>Victoria</td>\n",
       "      <td>No</td>\n",
       "      <td>...</td>\n",
       "      <td>0.053805</td>\n",
       "      <td>Data Charges</td>\n",
       "      <td>-1</td>\n",
       "      <td>Mobile</td>\n",
       "      <td>Yes</td>\n",
       "      <td>Mobile &amp; Internet Service</td>\n",
       "      <td>0.346654</td>\n",
       "      <td>Small Business</td>\n",
       "      <td>Mobile</td>\n",
       "      <td>163</td>\n",
       "    </tr>\n",
       "    <tr>\n",
       "      <th>18364</th>\n",
       "      <td>18365</td>\n",
       "      <td>No</td>\n",
       "      <td>43.0</td>\n",
       "      <td>33.8800</td>\n",
       "      <td>27.9150</td>\n",
       "      <td>2</td>\n",
       "      <td>Cheque</td>\n",
       "      <td>V</td>\n",
       "      <td>Victoria</td>\n",
       "      <td>No</td>\n",
       "      <td>...</td>\n",
       "      <td>0.030710</td>\n",
       "      <td>Call Drop</td>\n",
       "      <td>1</td>\n",
       "      <td>Mobile</td>\n",
       "      <td>No</td>\n",
       "      <td>PayTV</td>\n",
       "      <td>0.228171</td>\n",
       "      <td>Principled Professional</td>\n",
       "      <td>Bundle</td>\n",
       "      <td>108</td>\n",
       "    </tr>\n",
       "  </tbody>\n",
       "</table>\n",
       "<p>18365 rows × 26 columns</p>\n",
       "</div>"
      ],
      "text/plain": [
       "       Customer ID Churned   Age  Average Bill over 6 months  \\\n",
       "0                1     Yes  64.0                      6.0000   \n",
       "1                2      No  29.0                     18.0000   \n",
       "2                3      No  47.0                      4.0000   \n",
       "3                4      No  75.0                      7.0000   \n",
       "4                5      No  66.0                     35.4075   \n",
       "...            ...     ...   ...                         ...   \n",
       "18360        18361      No  88.0                     36.1375   \n",
       "18361        18362      No  72.0                     39.8950   \n",
       "18362        18363      No  19.0                     19.0000   \n",
       "18363        18364      No  32.0                     28.1175   \n",
       "18364        18365      No  43.0                     33.8800   \n",
       "\n",
       "       Average Bill over 12 months  Number of defaults in last 12 bills  \\\n",
       "0                         123.0150                                    2   \n",
       "1                          26.4125                                    3   \n",
       "2                         108.9525                                    0   \n",
       "3                         106.0475                                    1   \n",
       "4                          32.4475                                    1   \n",
       "...                            ...                                  ...   \n",
       "18360                      26.7650                                    0   \n",
       "18361                      31.8450                                    0   \n",
       "18362                      43.6925                                    0   \n",
       "18363                      21.8450                                    6   \n",
       "18364                      27.9150                                    2   \n",
       "\n",
       "      Payment Method District                Area Concesssion Card  ...  \\\n",
       "0        Credit Card        N  Northern Territory               No  ...   \n",
       "1             Cheque        S     South Australia               No  ...   \n",
       "2             Cheque        Q          Queensland               No  ...   \n",
       "3             Cheque        S     South Australia              Yes  ...   \n",
       "4             Cheque        V            Victoria               No  ...   \n",
       "...              ...      ...                 ...              ...  ...   \n",
       "18360         Cheque        V            Victoria              Yes  ...   \n",
       "18361         Cheque        V            Victoria               No  ...   \n",
       "18362         Cheque        V            Victoria               No  ...   \n",
       "18363         Cheque        V            Victoria               No  ...   \n",
       "18364         Cheque        V            Victoria               No  ...   \n",
       "\n",
       "          rpart  Category of latest complaint  NPS           Product  \\\n",
       "0      0.357143              Network Coverage   -1  Internet Service   \n",
       "1      0.053805                     Call Drop    0        Fixed Line   \n",
       "2      0.030710                  Data Charges    0            Mobile   \n",
       "3      0.030710            High Billed Amount    0  Internet Service   \n",
       "4      0.144033                     Call Drop    0        Fixed Line   \n",
       "...         ...                           ...  ...               ...   \n",
       "18360  0.030710            High Billed Amount    1            Mobile   \n",
       "18361  0.030710            High Billed Amount    1            Mobile   \n",
       "18362  0.114994                     Call Drop    1            Mobile   \n",
       "18363  0.053805                  Data Charges   -1            Mobile   \n",
       "18364  0.030710                     Call Drop    1            Mobile   \n",
       "\n",
       "      Multiple Products                          Product_New  \\\n",
       "0                   Yes            Mobile & Internet Service   \n",
       "1                    No                           Fixed Line   \n",
       "2                    No                     Internet Service   \n",
       "3                   Yes  Internet Service,Fixed Line & PayTV   \n",
       "4                    No                     Internet Service   \n",
       "...                 ...                                  ...   \n",
       "18360                No                           Fixed Line   \n",
       "18361               Yes                       Mobile & PayTV   \n",
       "18362                No                           Fixed Line   \n",
       "18363               Yes            Mobile & Internet Service   \n",
       "18364                No                                PayTV   \n",
       "\n",
       "       Adjusted Prob for 50% Cut-off (without Formulae)  \\\n",
       "0                                              0.838283   \n",
       "1                                              0.346654   \n",
       "2                                              0.228171   \n",
       "3                                              0.228171   \n",
       "4                                              0.610902   \n",
       "...                                                 ...   \n",
       "18360                                          0.228171   \n",
       "18361                                          0.228171   \n",
       "18362                                          0.547997   \n",
       "18363                                          0.346654   \n",
       "18364                                          0.228171   \n",
       "\n",
       "                Customer Segment  Product Category Bill Amount  \n",
       "0                   Independents          Internet         169  \n",
       "1                 Small Business              ADSL         137  \n",
       "2                   Independents        Fixed line         252  \n",
       "3         Friends, Fun & Fashion          Internet         175  \n",
       "4         Friends, Fun & Fashion          Internet         128  \n",
       "...                          ...               ...         ...  \n",
       "18360  Family & Self Development        Fixed line          55  \n",
       "18361     Friends, Fun & Fashion        Fixed line          79  \n",
       "18362               Independents            Mobile          81  \n",
       "18363             Small Business            Mobile         163  \n",
       "18364    Principled Professional            Bundle         108  \n",
       "\n",
       "[18365 rows x 26 columns]"
      ]
     },
     "execution_count": 81,
     "metadata": {},
     "output_type": "execute_result"
    }
   ],
   "source": [
    "#filling the NA values in Age with the mean value of Age column.\n",
    "#Could also fill with median values\n",
    "#data1[\"Age\"].fillna(data1.transform(\"median\"), inplace=True)\n",
    "values = {'Age' : 51}\n",
    "data1 = data1.fillna(value = values)\n",
    "data1"
   ]
  },
  {
   "cell_type": "markdown",
   "metadata": {},
   "source": [
    "### Mapping 'Churned' to 1 and 0"
   ]
  },
  {
   "cell_type": "code",
   "execution_count": 82,
   "metadata": {},
   "outputs": [
    {
     "data": {
      "text/plain": [
       "0        1\n",
       "1        0\n",
       "2        0\n",
       "3        0\n",
       "4        0\n",
       "        ..\n",
       "18360    0\n",
       "18361    0\n",
       "18362    0\n",
       "18363    0\n",
       "18364    0\n",
       "Name: Churned, Length: 18365, dtype: int64"
      ]
     },
     "execution_count": 82,
     "metadata": {},
     "output_type": "execute_result"
    }
   ],
   "source": [
    "#Map Yes to 1 and No to 0.\n",
    "\n",
    "\n",
    "data1['Churned'] = data1['Churned'].map({'Yes':1,'No':0})\n"
   ]
  },
  {
   "cell_type": "code",
   "execution_count": 116,
   "metadata": {},
   "outputs": [
    {
     "data": {
      "text/plain": [
       "count    18365.000000\n",
       "mean         0.098503\n",
       "std          0.298001\n",
       "min          0.000000\n",
       "25%          0.000000\n",
       "50%          0.000000\n",
       "75%          0.000000\n",
       "max          1.000000\n",
       "Name: Churned, dtype: float64"
      ]
     },
     "execution_count": 116,
     "metadata": {},
     "output_type": "execute_result"
    }
   ],
   "source": [
    "data1['Churned'].describe()"
   ]
  },
  {
   "cell_type": "markdown",
   "metadata": {},
   "source": [
    "### Mapping 'Concession Card' to 1 and 0"
   ]
  },
  {
   "cell_type": "code",
   "execution_count": 83,
   "metadata": {},
   "outputs": [
    {
     "data": {
      "text/plain": [
       "0        0\n",
       "1        0\n",
       "2        0\n",
       "3        1\n",
       "4        0\n",
       "        ..\n",
       "18360    1\n",
       "18361    0\n",
       "18362    0\n",
       "18363    0\n",
       "18364    0\n",
       "Name: Concesssion Card, Length: 18365, dtype: int64"
      ]
     },
     "execution_count": 83,
     "metadata": {},
     "output_type": "execute_result"
    }
   ],
   "source": [
    "#Map Yes to 1 and No to 0.\n",
    "\n",
    "\n",
    "data1['Concesssion Card'] = data1['Concesssion Card'].map({'Yes':1,'No':0})\n"
   ]
  },
  {
   "cell_type": "code",
   "execution_count": 121,
   "metadata": {},
   "outputs": [
    {
     "data": {
      "text/plain": [
       "count    18365.000000\n",
       "mean         0.258644\n",
       "std          0.437902\n",
       "min          0.000000\n",
       "25%          0.000000\n",
       "50%          0.000000\n",
       "75%          1.000000\n",
       "max          1.000000\n",
       "Name: Concesssion Card, dtype: float64"
      ]
     },
     "execution_count": 121,
     "metadata": {},
     "output_type": "execute_result"
    }
   ],
   "source": [
    "data1['Concesssion Card'].describe()"
   ]
  },
  {
   "cell_type": "markdown",
   "metadata": {},
   "source": [
    "### 'Multiple Fuel'"
   ]
  },
  {
   "cell_type": "code",
   "execution_count": 84,
   "metadata": {},
   "outputs": [
    {
     "data": {
      "text/plain": [
       "0    N\n",
       "1    N\n",
       "2    N\n",
       "3    N\n",
       "4    Y\n",
       "Name: Multiple Fuel, dtype: object"
      ]
     },
     "execution_count": 84,
     "metadata": {},
     "output_type": "execute_result"
    }
   ],
   "source": [
    "data1['Multiple Fuel'].head()"
   ]
  },
  {
   "cell_type": "code",
   "execution_count": 85,
   "metadata": {},
   "outputs": [
    {
     "data": {
      "text/plain": [
       "0        0.0\n",
       "1        0.0\n",
       "2        0.0\n",
       "3        0.0\n",
       "4        1.0\n",
       "        ... \n",
       "18360    0.0\n",
       "18361    1.0\n",
       "18362    0.0\n",
       "18363    1.0\n",
       "18364    1.0\n",
       "Name: Multiple Fuel, Length: 18365, dtype: float64"
      ]
     },
     "execution_count": 85,
     "metadata": {},
     "output_type": "execute_result"
    }
   ],
   "source": [
    "data1['Multiple Fuel'] = data1['Multiple Fuel'].map({'Y':1,'N':0})\n"
   ]
  },
  {
   "cell_type": "code",
   "execution_count": 120,
   "metadata": {},
   "outputs": [
    {
     "data": {
      "text/plain": [
       "count    18363.000000\n",
       "mean         0.416435\n",
       "std          0.492981\n",
       "min          0.000000\n",
       "25%          0.000000\n",
       "50%          0.000000\n",
       "75%          1.000000\n",
       "max          1.000000\n",
       "Name: Multiple Fuel, dtype: float64"
      ]
     },
     "execution_count": 120,
     "metadata": {},
     "output_type": "execute_result"
    }
   ],
   "source": [
    "data1['Multiple Fuel'].describe()"
   ]
  },
  {
   "cell_type": "markdown",
   "metadata": {},
   "source": [
    "### 'Category of latest complaint'\n",
    "\n",
    "Call Drop = 1\n",
    "\n",
    "High Billed Amount = 2\n",
    "\n",
    "Internet Slowness = 3\n",
    "\n",
    "Data Charges = 4\n",
    "\n",
    "Network Coverage = 5"
   ]
  },
  {
   "cell_type": "code",
   "execution_count": 88,
   "metadata": {},
   "outputs": [
    {
     "data": {
      "text/plain": [
       "Call Drop             7693\n",
       "High Billed Amount    5994\n",
       "Internet Slowness     4377\n",
       "Data Charges           272\n",
       "Network Coverage        29\n",
       "Name: Category of latest complaint, dtype: int64"
      ]
     },
     "execution_count": 88,
     "metadata": {},
     "output_type": "execute_result"
    }
   ],
   "source": [
    "data1['Category of latest complaint'].value_counts()"
   ]
  },
  {
   "cell_type": "code",
   "execution_count": 89,
   "metadata": {},
   "outputs": [],
   "source": [
    "value = {'Call Drop':1,'High Billed Amount':2,'Internet Slowness':3,'Data Charges':4,'Network Coverage':5}\n",
    "data1['Category of latest complaint'] = data1['Category of latest complaint'].map(value)"
   ]
  },
  {
   "cell_type": "code",
   "execution_count": 119,
   "metadata": {},
   "outputs": [
    {
     "data": {
      "text/plain": [
       "count    18365.000000\n",
       "mean         1.853798\n",
       "std          0.842227\n",
       "min          1.000000\n",
       "25%          1.000000\n",
       "50%          2.000000\n",
       "75%          3.000000\n",
       "max          5.000000\n",
       "Name: Category of latest complaint, dtype: float64"
      ]
     },
     "execution_count": 119,
     "metadata": {},
     "output_type": "execute_result"
    }
   ],
   "source": [
    "data1['Category of latest complaint'].describe()"
   ]
  },
  {
   "cell_type": "markdown",
   "metadata": {},
   "source": [
    "### Customer Segment\n",
    "\n",
    "Independents = 1\n",
    "\n",
    "Family & Self Development = 2\n",
    "\n",
    "Friends, Fun & Fashion = 3\n",
    "\n",
    "Principled Professional = 4\n",
    "\n",
    "Small Business = 5\n",
    "\n",
    "Entrepreneur = 6\n"
   ]
  },
  {
   "cell_type": "code",
   "execution_count": 92,
   "metadata": {},
   "outputs": [
    {
     "data": {
      "text/plain": [
       "Independents                 5740\n",
       "Family & Self Development    2691\n",
       "Friends, Fun & Fashion       2614\n",
       "Principled Professional      2567\n",
       "Small Business               2399\n",
       "Entrepreneur                 2354\n",
       "Name: Customer Segment, dtype: int64"
      ]
     },
     "execution_count": 92,
     "metadata": {},
     "output_type": "execute_result"
    }
   ],
   "source": [
    "data1['Customer Segment'].value_counts()"
   ]
  },
  {
   "cell_type": "code",
   "execution_count": 97,
   "metadata": {},
   "outputs": [],
   "source": [
    "value2 = {\n",
    "'Independents':1\n",
    ",'Family & Self Development':2\n",
    ",'Friends, Fun & Fashion':3\n",
    ",'Principled Professional':4\n",
    ",'Small Business':5\n",
    ",'Entrepreneur':6\n",
    "}\n",
    "\n",
    "data1['Customer Segment'] = data1['Customer Segment'].map(value2)"
   ]
  },
  {
   "cell_type": "code",
   "execution_count": 118,
   "metadata": {},
   "outputs": [
    {
     "data": {
      "text/plain": [
       "count    18365.000000\n",
       "mean         3.013940\n",
       "std          1.792376\n",
       "min          1.000000\n",
       "25%          1.000000\n",
       "50%          3.000000\n",
       "75%          5.000000\n",
       "max          6.000000\n",
       "Name: Customer Segment, dtype: float64"
      ]
     },
     "execution_count": 118,
     "metadata": {},
     "output_type": "execute_result"
    }
   ],
   "source": [
    "data1['Customer Segment'].describe()"
   ]
  },
  {
   "cell_type": "markdown",
   "metadata": {},
   "source": [
    "### Product Category\n",
    "\n",
    "Fixed line=1    \n",
    "Mobile=2        \n",
    "Internet=3      \n",
    "Bundle=4        \n",
    "ADSL=5          \n",
    "Cable=6         "
   ]
  },
  {
   "cell_type": "code",
   "execution_count": 99,
   "metadata": {},
   "outputs": [
    {
     "data": {
      "text/plain": [
       "Fixed line    3538\n",
       "Mobile        3314\n",
       "Internet      3039\n",
       "Bundle        2979\n",
       "ADSL          2748\n",
       "Cable         2747\n",
       "Name: Product Category, dtype: int64"
      ]
     },
     "execution_count": 99,
     "metadata": {},
     "output_type": "execute_result"
    }
   ],
   "source": [
    "data1['Product Category'].value_counts()"
   ]
  },
  {
   "cell_type": "code",
   "execution_count": 101,
   "metadata": {},
   "outputs": [],
   "source": [
    "value3 = {'Fixed line':1\n",
    ",'Mobile':2\n",
    ",'Internet':3\n",
    ",'Bundle':4\n",
    ",'ADSL':5\n",
    ",'Cable':6}\n",
    "\n",
    "data1['Product Category'] = data1['Product Category'].map(value3)"
   ]
  },
  {
   "cell_type": "code",
   "execution_count": 117,
   "metadata": {
    "scrolled": true
   },
   "outputs": [
    {
     "data": {
      "text/plain": [
       "count    18365.000000\n",
       "mean         3.344460\n",
       "std          1.714497\n",
       "min          1.000000\n",
       "25%          2.000000\n",
       "50%          3.000000\n",
       "75%          5.000000\n",
       "max          6.000000\n",
       "Name: Product Category, dtype: float64"
      ]
     },
     "execution_count": 117,
     "metadata": {},
     "output_type": "execute_result"
    }
   ],
   "source": [
    "data1['Product Category'].describe()"
   ]
  },
  {
   "cell_type": "code",
   "execution_count": 124,
   "metadata": {},
   "outputs": [
    {
     "data": {
      "text/plain": [
       "Customer ID                                           0\n",
       "Churned                                               0\n",
       "Age                                                   0\n",
       "Average Bill over 6 months                            0\n",
       "Average Bill over 12 months                           0\n",
       "Number of defaults in last 12 bills                   0\n",
       "Payment Method                                        0\n",
       "District                                              0\n",
       "Area                                                  0\n",
       "Concesssion Card                                      0\n",
       "INBOUNDCALLS                                          0\n",
       "OUTBOUNDCALLS                                         0\n",
       "Relationship (months)                               816\n",
       "Occupier Status                                       2\n",
       "Multiple Fuel                                         2\n",
       "Bill Delivery Method                                  0\n",
       "rpart                                                 0\n",
       "Category of latest complaint                          0\n",
       "NPS                                                   0\n",
       "Product                                               0\n",
       "Multiple Products                                     0\n",
       "Product_New                                           0\n",
       "Adjusted Prob for 50% Cut-off (without Formulae)      0\n",
       "Customer Segment                                      0\n",
       "Product Category                                      0\n",
       "Bill Amount                                           0\n",
       "dtype: int64"
      ]
     },
     "execution_count": 124,
     "metadata": {},
     "output_type": "execute_result"
    }
   ],
   "source": [
    "data1.isnull().sum()"
   ]
  },
  {
   "cell_type": "markdown",
   "metadata": {},
   "source": [
    "# Logit Regression"
   ]
  },
  {
   "cell_type": "code",
   "execution_count": 125,
   "metadata": {},
   "outputs": [],
   "source": [
    "y = data1['Churned']\n",
    "\n",
    "estimators = ['Age','Concesssion Card','Category of latest complaint','Customer Segment','Product Category']\n",
    "x1 = data1[estimators]"
   ]
  },
  {
   "cell_type": "code",
   "execution_count": 126,
   "metadata": {},
   "outputs": [
    {
     "name": "stdout",
     "output_type": "stream",
     "text": [
      "Optimization terminated successfully.\n",
      "         Current function value: 0.233052\n",
      "         Iterations 8\n"
     ]
    },
    {
     "data": {
      "text/html": [
       "<table class=\"simpletable\">\n",
       "<caption>Logit Regression Results</caption>\n",
       "<tr>\n",
       "  <th>Dep. Variable:</th>        <td>Churned</td>     <th>  No. Observations:  </th>  <td> 18365</td> \n",
       "</tr>\n",
       "<tr>\n",
       "  <th>Model:</th>                 <td>Logit</td>      <th>  Df Residuals:      </th>  <td> 18359</td> \n",
       "</tr>\n",
       "<tr>\n",
       "  <th>Method:</th>                 <td>MLE</td>       <th>  Df Model:          </th>  <td>     5</td> \n",
       "</tr>\n",
       "<tr>\n",
       "  <th>Date:</th>            <td>Thu, 07 Jan 2021</td> <th>  Pseudo R-squ.:     </th>  <td>0.2757</td> \n",
       "</tr>\n",
       "<tr>\n",
       "  <th>Time:</th>                <td>14:34:14</td>     <th>  Log-Likelihood:    </th> <td> -4280.0</td>\n",
       "</tr>\n",
       "<tr>\n",
       "  <th>converged:</th>             <td>True</td>       <th>  LL-Null:           </th> <td> -5909.5</td>\n",
       "</tr>\n",
       "<tr>\n",
       "  <th>Covariance Type:</th>     <td>nonrobust</td>    <th>  LLR p-value:       </th>  <td> 0.000</td> \n",
       "</tr>\n",
       "</table>\n",
       "<table class=\"simpletable\">\n",
       "<tr>\n",
       "                <td></td>                  <th>coef</th>     <th>std err</th>      <th>z</th>      <th>P>|z|</th>  <th>[0.025</th>    <th>0.975]</th>  \n",
       "</tr>\n",
       "<tr>\n",
       "  <th>const</th>                        <td>    3.5517</td> <td>    0.134</td> <td>   26.536</td> <td> 0.000</td> <td>    3.289</td> <td>    3.814</td>\n",
       "</tr>\n",
       "<tr>\n",
       "  <th>Age</th>                          <td>   -0.0237</td> <td>    0.002</td> <td>  -12.334</td> <td> 0.000</td> <td>   -0.027</td> <td>   -0.020</td>\n",
       "</tr>\n",
       "<tr>\n",
       "  <th>Concesssion Card</th>             <td>   -0.5346</td> <td>    0.082</td> <td>   -6.533</td> <td> 0.000</td> <td>   -0.695</td> <td>   -0.374</td>\n",
       "</tr>\n",
       "<tr>\n",
       "  <th>Category of latest complaint</th> <td>   -0.9200</td> <td>    0.042</td> <td>  -21.747</td> <td> 0.000</td> <td>   -1.003</td> <td>   -0.837</td>\n",
       "</tr>\n",
       "<tr>\n",
       "  <th>Customer Segment</th>             <td>   -0.5340</td> <td>    0.021</td> <td>  -25.781</td> <td> 0.000</td> <td>   -0.575</td> <td>   -0.493</td>\n",
       "</tr>\n",
       "<tr>\n",
       "  <th>Product Category</th>             <td>   -0.6552</td> <td>    0.022</td> <td>  -30.405</td> <td> 0.000</td> <td>   -0.697</td> <td>   -0.613</td>\n",
       "</tr>\n",
       "</table>"
      ],
      "text/plain": [
       "<class 'statsmodels.iolib.summary.Summary'>\n",
       "\"\"\"\n",
       "                           Logit Regression Results                           \n",
       "==============================================================================\n",
       "Dep. Variable:                Churned   No. Observations:                18365\n",
       "Model:                          Logit   Df Residuals:                    18359\n",
       "Method:                           MLE   Df Model:                            5\n",
       "Date:                Thu, 07 Jan 2021   Pseudo R-squ.:                  0.2757\n",
       "Time:                        14:34:14   Log-Likelihood:                -4280.0\n",
       "converged:                       True   LL-Null:                       -5909.5\n",
       "Covariance Type:            nonrobust   LLR p-value:                     0.000\n",
       "================================================================================================\n",
       "                                   coef    std err          z      P>|z|      [0.025      0.975]\n",
       "------------------------------------------------------------------------------------------------\n",
       "const                            3.5517      0.134     26.536      0.000       3.289       3.814\n",
       "Age                             -0.0237      0.002    -12.334      0.000      -0.027      -0.020\n",
       "Concesssion Card                -0.5346      0.082     -6.533      0.000      -0.695      -0.374\n",
       "Category of latest complaint    -0.9200      0.042    -21.747      0.000      -1.003      -0.837\n",
       "Customer Segment                -0.5340      0.021    -25.781      0.000      -0.575      -0.493\n",
       "Product Category                -0.6552      0.022    -30.405      0.000      -0.697      -0.613\n",
       "================================================================================================\n",
       "\"\"\""
      ]
     },
     "execution_count": 126,
     "metadata": {},
     "output_type": "execute_result"
    }
   ],
   "source": [
    "x = sm.add_constant(x1)\n",
    "reg_log = sm.Logit(y,x)\n",
    "results = reg_log.fit()\n",
    "results.summary()"
   ]
  },
  {
   "cell_type": "code",
   "execution_count": 128,
   "metadata": {},
   "outputs": [],
   "source": [
    "def confusion_matrix(data,actual_values,model):\n",
    "        \n",
    "        # Confusion matrix \n",
    "        \n",
    "        # Parameters\n",
    "        # ----------\n",
    "        # data: data frame or array\n",
    "            # data is a data frame formatted in the same way as your input data (without the actual values)\n",
    "            # e.g. const, var1, var2, etc. Order is very important!\n",
    "        # actual_values: data frame or array\n",
    "            # These are the actual values from the test_data\n",
    "            # In the case of a logistic regression, it should be a single column with 0s and 1s\n",
    "            \n",
    "        # model: a LogitResults object\n",
    "            # this is the variable where you have the fitted model \n",
    "            # e.g. results_log in this course\n",
    "        # ----------\n",
    "        \n",
    "        #Predict the values using the Logit model\n",
    "        pred_values = model.predict(data)\n",
    "        # Specify the bins \n",
    "        bins=np.array([0,0.5,1])\n",
    "        # Create a histogram, where if values are between 0 and 0.5 tell will be considered 0\n",
    "        # if they are between 0.5 and 1, they will be considered 1\n",
    "        cm = np.histogram2d(actual_values, pred_values, bins=bins)[0]\n",
    "        # Calculate the accuracy\n",
    "        accuracy = (cm[0,0]+cm[1,1])/cm.sum()\n",
    "        # Return the confusion matrix and \n",
    "        return cm, accuracy"
   ]
  },
  {
   "cell_type": "code",
   "execution_count": 129,
   "metadata": {},
   "outputs": [
    {
     "data": {
      "text/plain": [
       "(array([[16272.,   284.],\n",
       "        [ 1480.,   329.]]),\n",
       " 0.9039477266539614)"
      ]
     },
     "execution_count": 129,
     "metadata": {},
     "output_type": "execute_result"
    }
   ],
   "source": [
    "confusion_matrix(x,y,results)"
   ]
  },
  {
   "cell_type": "code",
   "execution_count": 130,
   "metadata": {},
   "outputs": [
    {
     "data": {
      "text/plain": [
       "0.894787904921037"
      ]
     },
     "execution_count": 130,
     "metadata": {},
     "output_type": "execute_result"
    }
   ],
   "source": [
    "(16272+329)/18553\n"
   ]
  },
  {
   "cell_type": "code",
   "execution_count": null,
   "metadata": {},
   "outputs": [],
   "source": []
  }
 ],
 "metadata": {
  "kernelspec": {
   "display_name": "Python 3",
   "language": "python",
   "name": "python3"
  },
  "language_info": {
   "codemirror_mode": {
    "name": "ipython",
    "version": 3
   },
   "file_extension": ".py",
   "mimetype": "text/x-python",
   "name": "python",
   "nbconvert_exporter": "python",
   "pygments_lexer": "ipython3",
   "version": "3.7.6"
  }
 },
 "nbformat": 4,
 "nbformat_minor": 4
}
