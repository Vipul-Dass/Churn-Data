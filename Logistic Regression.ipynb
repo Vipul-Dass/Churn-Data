{
 "cells": [
  {
   "cell_type": "markdown",
   "metadata": {},
   "source": [
    "# Simple Data Cleaning and Exploration\n",
    "\n",
    "Dataset was provided as part of a recruitment drive by a Tech Consulting Company.\n",
    "The dataset seems to have already been partially used in some analysis as evidenced\n",
    "by the 'rpart','Adjusted Prob for 50% Cut-off (without Formulae)' and 'NPS' columns.\n",
    "NPS seems to have been preprocessed to 1 (for scores 9-10), 0(for scores 7-8) and \n",
    "-1(for scores 0-6). The other two columns point to Recursive Partitioning to be the \n",
    "choice of classification.\n",
    "\n",
    "In this python file, I perform some simple data imputing on missing values in addition to \n",
    "data cleaning for later processing by Logit Regression."
   ]
  },
  {
   "cell_type": "markdown",
   "metadata": {},
   "source": [
    "# Import Libraries\n"
   ]
  },
  {
   "cell_type": "code",
   "execution_count": 1,
   "metadata": {},
   "outputs": [],
   "source": [
    "import pandas as pd\n",
    "import numpy as np\n",
    "import matplotlib.pyplot as plt\n",
    "import seaborn as sns\n",
    "sns.set()\n",
    "\n",
    "import statsmodels.api as sm"
   ]
  },
  {
   "cell_type": "code",
   "execution_count": 2,
   "metadata": {},
   "outputs": [
    {
     "data": {
      "text/html": [
       "<style>.container { width:100% !important; }</style>"
      ],
      "text/plain": [
       "<IPython.core.display.HTML object>"
      ]
     },
     "metadata": {},
     "output_type": "display_data"
    }
   ],
   "source": [
    "from IPython.core.display import display, HTML\n",
    "display(HTML(\"<style>.container { width:100% !important; }</style>\"))"
   ]
  },
  {
   "cell_type": "markdown",
   "metadata": {},
   "source": [
    "# Import Data"
   ]
  },
  {
   "cell_type": "code",
   "execution_count": 3,
   "metadata": {},
   "outputs": [
    {
     "data": {
      "text/html": [
       "<div>\n",
       "<style scoped>\n",
       "    .dataframe tbody tr th:only-of-type {\n",
       "        vertical-align: middle;\n",
       "    }\n",
       "\n",
       "    .dataframe tbody tr th {\n",
       "        vertical-align: top;\n",
       "    }\n",
       "\n",
       "    .dataframe thead th {\n",
       "        text-align: right;\n",
       "    }\n",
       "</style>\n",
       "<table border=\"1\" class=\"dataframe\">\n",
       "  <thead>\n",
       "    <tr style=\"text-align: right;\">\n",
       "      <th></th>\n",
       "      <th>Customer ID</th>\n",
       "      <th>Churned</th>\n",
       "      <th>Age</th>\n",
       "      <th>Average Bill over 6 months</th>\n",
       "      <th>Average Bill over 12 months</th>\n",
       "      <th>Number of defaults in last 12 bills</th>\n",
       "      <th>Payment Method</th>\n",
       "      <th>District</th>\n",
       "      <th>Area</th>\n",
       "      <th>Concesssion Card</th>\n",
       "      <th>...</th>\n",
       "      <th>rpart</th>\n",
       "      <th>Category of latest complaint</th>\n",
       "      <th>NPS</th>\n",
       "      <th>Product</th>\n",
       "      <th>Multiple Products</th>\n",
       "      <th>Product_New</th>\n",
       "      <th>Adjusted Prob for 50% Cut-off (without Formulae)</th>\n",
       "      <th>Customer Segment</th>\n",
       "      <th>Product Category</th>\n",
       "      <th>Bill Amount</th>\n",
       "    </tr>\n",
       "  </thead>\n",
       "  <tbody>\n",
       "    <tr>\n",
       "      <th>0</th>\n",
       "      <td>1</td>\n",
       "      <td>Yes</td>\n",
       "      <td>64.0</td>\n",
       "      <td>6.0000</td>\n",
       "      <td>123.0150</td>\n",
       "      <td>2</td>\n",
       "      <td>Credit Card</td>\n",
       "      <td>N</td>\n",
       "      <td>Northern Territory</td>\n",
       "      <td>No</td>\n",
       "      <td>...</td>\n",
       "      <td>0.357143</td>\n",
       "      <td>Network Coverage</td>\n",
       "      <td>-1</td>\n",
       "      <td>Internet Service</td>\n",
       "      <td>Yes</td>\n",
       "      <td>Mobile &amp; Internet Service</td>\n",
       "      <td>0.838283</td>\n",
       "      <td>Independents</td>\n",
       "      <td>Internet</td>\n",
       "      <td>169</td>\n",
       "    </tr>\n",
       "    <tr>\n",
       "      <th>1</th>\n",
       "      <td>2</td>\n",
       "      <td>No</td>\n",
       "      <td>29.0</td>\n",
       "      <td>18.0000</td>\n",
       "      <td>26.4125</td>\n",
       "      <td>3</td>\n",
       "      <td>Cheque</td>\n",
       "      <td>S</td>\n",
       "      <td>South Australia</td>\n",
       "      <td>No</td>\n",
       "      <td>...</td>\n",
       "      <td>0.053805</td>\n",
       "      <td>Call Drop</td>\n",
       "      <td>0</td>\n",
       "      <td>Fixed Line</td>\n",
       "      <td>No</td>\n",
       "      <td>Fixed Line</td>\n",
       "      <td>0.346654</td>\n",
       "      <td>Small Business</td>\n",
       "      <td>ADSL</td>\n",
       "      <td>137</td>\n",
       "    </tr>\n",
       "    <tr>\n",
       "      <th>2</th>\n",
       "      <td>3</td>\n",
       "      <td>No</td>\n",
       "      <td>47.0</td>\n",
       "      <td>4.0000</td>\n",
       "      <td>108.9525</td>\n",
       "      <td>0</td>\n",
       "      <td>Cheque</td>\n",
       "      <td>Q</td>\n",
       "      <td>Queensland</td>\n",
       "      <td>No</td>\n",
       "      <td>...</td>\n",
       "      <td>0.030710</td>\n",
       "      <td>Data Charges</td>\n",
       "      <td>0</td>\n",
       "      <td>Mobile</td>\n",
       "      <td>No</td>\n",
       "      <td>Internet Service</td>\n",
       "      <td>0.228171</td>\n",
       "      <td>Independents</td>\n",
       "      <td>Fixed line</td>\n",
       "      <td>252</td>\n",
       "    </tr>\n",
       "    <tr>\n",
       "      <th>3</th>\n",
       "      <td>4</td>\n",
       "      <td>No</td>\n",
       "      <td>75.0</td>\n",
       "      <td>7.0000</td>\n",
       "      <td>106.0475</td>\n",
       "      <td>1</td>\n",
       "      <td>Cheque</td>\n",
       "      <td>S</td>\n",
       "      <td>South Australia</td>\n",
       "      <td>Yes</td>\n",
       "      <td>...</td>\n",
       "      <td>0.030710</td>\n",
       "      <td>High Billed Amount</td>\n",
       "      <td>0</td>\n",
       "      <td>Internet Service</td>\n",
       "      <td>Yes</td>\n",
       "      <td>Internet Service,Fixed Line &amp; PayTV</td>\n",
       "      <td>0.228171</td>\n",
       "      <td>Friends, Fun &amp; Fashion</td>\n",
       "      <td>Internet</td>\n",
       "      <td>175</td>\n",
       "    </tr>\n",
       "    <tr>\n",
       "      <th>4</th>\n",
       "      <td>5</td>\n",
       "      <td>No</td>\n",
       "      <td>66.0</td>\n",
       "      <td>35.4075</td>\n",
       "      <td>32.4475</td>\n",
       "      <td>1</td>\n",
       "      <td>Cheque</td>\n",
       "      <td>V</td>\n",
       "      <td>Victoria</td>\n",
       "      <td>No</td>\n",
       "      <td>...</td>\n",
       "      <td>0.144033</td>\n",
       "      <td>Call Drop</td>\n",
       "      <td>0</td>\n",
       "      <td>Fixed Line</td>\n",
       "      <td>No</td>\n",
       "      <td>Internet Service</td>\n",
       "      <td>0.610902</td>\n",
       "      <td>Friends, Fun &amp; Fashion</td>\n",
       "      <td>Internet</td>\n",
       "      <td>128</td>\n",
       "    </tr>\n",
       "    <tr>\n",
       "      <th>...</th>\n",
       "      <td>...</td>\n",
       "      <td>...</td>\n",
       "      <td>...</td>\n",
       "      <td>...</td>\n",
       "      <td>...</td>\n",
       "      <td>...</td>\n",
       "      <td>...</td>\n",
       "      <td>...</td>\n",
       "      <td>...</td>\n",
       "      <td>...</td>\n",
       "      <td>...</td>\n",
       "      <td>...</td>\n",
       "      <td>...</td>\n",
       "      <td>...</td>\n",
       "      <td>...</td>\n",
       "      <td>...</td>\n",
       "      <td>...</td>\n",
       "      <td>...</td>\n",
       "      <td>...</td>\n",
       "      <td>...</td>\n",
       "      <td>...</td>\n",
       "    </tr>\n",
       "    <tr>\n",
       "      <th>18360</th>\n",
       "      <td>18361</td>\n",
       "      <td>No</td>\n",
       "      <td>88.0</td>\n",
       "      <td>36.1375</td>\n",
       "      <td>26.7650</td>\n",
       "      <td>0</td>\n",
       "      <td>Cheque</td>\n",
       "      <td>V</td>\n",
       "      <td>Victoria</td>\n",
       "      <td>Yes</td>\n",
       "      <td>...</td>\n",
       "      <td>0.030710</td>\n",
       "      <td>High Billed Amount</td>\n",
       "      <td>1</td>\n",
       "      <td>Mobile</td>\n",
       "      <td>No</td>\n",
       "      <td>Fixed Line</td>\n",
       "      <td>0.228171</td>\n",
       "      <td>Family &amp; Self Development</td>\n",
       "      <td>Fixed line</td>\n",
       "      <td>55</td>\n",
       "    </tr>\n",
       "    <tr>\n",
       "      <th>18361</th>\n",
       "      <td>18362</td>\n",
       "      <td>No</td>\n",
       "      <td>72.0</td>\n",
       "      <td>39.8950</td>\n",
       "      <td>31.8450</td>\n",
       "      <td>0</td>\n",
       "      <td>Cheque</td>\n",
       "      <td>V</td>\n",
       "      <td>Victoria</td>\n",
       "      <td>No</td>\n",
       "      <td>...</td>\n",
       "      <td>0.030710</td>\n",
       "      <td>High Billed Amount</td>\n",
       "      <td>1</td>\n",
       "      <td>Mobile</td>\n",
       "      <td>Yes</td>\n",
       "      <td>Mobile &amp; PayTV</td>\n",
       "      <td>0.228171</td>\n",
       "      <td>Friends, Fun &amp; Fashion</td>\n",
       "      <td>Fixed line</td>\n",
       "      <td>79</td>\n",
       "    </tr>\n",
       "    <tr>\n",
       "      <th>18362</th>\n",
       "      <td>18363</td>\n",
       "      <td>No</td>\n",
       "      <td>19.0</td>\n",
       "      <td>19.0000</td>\n",
       "      <td>43.6925</td>\n",
       "      <td>0</td>\n",
       "      <td>Cheque</td>\n",
       "      <td>V</td>\n",
       "      <td>Victoria</td>\n",
       "      <td>No</td>\n",
       "      <td>...</td>\n",
       "      <td>0.114994</td>\n",
       "      <td>Call Drop</td>\n",
       "      <td>1</td>\n",
       "      <td>Mobile</td>\n",
       "      <td>No</td>\n",
       "      <td>Fixed Line</td>\n",
       "      <td>0.547997</td>\n",
       "      <td>Independents</td>\n",
       "      <td>Mobile</td>\n",
       "      <td>81</td>\n",
       "    </tr>\n",
       "    <tr>\n",
       "      <th>18363</th>\n",
       "      <td>18364</td>\n",
       "      <td>No</td>\n",
       "      <td>32.0</td>\n",
       "      <td>28.1175</td>\n",
       "      <td>21.8450</td>\n",
       "      <td>6</td>\n",
       "      <td>Cheque</td>\n",
       "      <td>V</td>\n",
       "      <td>Victoria</td>\n",
       "      <td>No</td>\n",
       "      <td>...</td>\n",
       "      <td>0.053805</td>\n",
       "      <td>Data Charges</td>\n",
       "      <td>-1</td>\n",
       "      <td>Mobile</td>\n",
       "      <td>Yes</td>\n",
       "      <td>Mobile &amp; Internet Service</td>\n",
       "      <td>0.346654</td>\n",
       "      <td>Small Business</td>\n",
       "      <td>Mobile</td>\n",
       "      <td>163</td>\n",
       "    </tr>\n",
       "    <tr>\n",
       "      <th>18364</th>\n",
       "      <td>18365</td>\n",
       "      <td>No</td>\n",
       "      <td>43.0</td>\n",
       "      <td>33.8800</td>\n",
       "      <td>27.9150</td>\n",
       "      <td>2</td>\n",
       "      <td>Cheque</td>\n",
       "      <td>V</td>\n",
       "      <td>Victoria</td>\n",
       "      <td>No</td>\n",
       "      <td>...</td>\n",
       "      <td>0.030710</td>\n",
       "      <td>Call Drop</td>\n",
       "      <td>1</td>\n",
       "      <td>Mobile</td>\n",
       "      <td>No</td>\n",
       "      <td>PayTV</td>\n",
       "      <td>0.228171</td>\n",
       "      <td>Principled Professional</td>\n",
       "      <td>Bundle</td>\n",
       "      <td>108</td>\n",
       "    </tr>\n",
       "  </tbody>\n",
       "</table>\n",
       "<p>18365 rows × 26 columns</p>\n",
       "</div>"
      ],
      "text/plain": [
       "       Customer ID Churned   Age  Average Bill over 6 months  \\\n",
       "0                1     Yes  64.0                      6.0000   \n",
       "1                2      No  29.0                     18.0000   \n",
       "2                3      No  47.0                      4.0000   \n",
       "3                4      No  75.0                      7.0000   \n",
       "4                5      No  66.0                     35.4075   \n",
       "...            ...     ...   ...                         ...   \n",
       "18360        18361      No  88.0                     36.1375   \n",
       "18361        18362      No  72.0                     39.8950   \n",
       "18362        18363      No  19.0                     19.0000   \n",
       "18363        18364      No  32.0                     28.1175   \n",
       "18364        18365      No  43.0                     33.8800   \n",
       "\n",
       "       Average Bill over 12 months  Number of defaults in last 12 bills  \\\n",
       "0                         123.0150                                    2   \n",
       "1                          26.4125                                    3   \n",
       "2                         108.9525                                    0   \n",
       "3                         106.0475                                    1   \n",
       "4                          32.4475                                    1   \n",
       "...                            ...                                  ...   \n",
       "18360                      26.7650                                    0   \n",
       "18361                      31.8450                                    0   \n",
       "18362                      43.6925                                    0   \n",
       "18363                      21.8450                                    6   \n",
       "18364                      27.9150                                    2   \n",
       "\n",
       "      Payment Method District                Area Concesssion Card  ...  \\\n",
       "0        Credit Card        N  Northern Territory               No  ...   \n",
       "1             Cheque        S     South Australia               No  ...   \n",
       "2             Cheque        Q          Queensland               No  ...   \n",
       "3             Cheque        S     South Australia              Yes  ...   \n",
       "4             Cheque        V            Victoria               No  ...   \n",
       "...              ...      ...                 ...              ...  ...   \n",
       "18360         Cheque        V            Victoria              Yes  ...   \n",
       "18361         Cheque        V            Victoria               No  ...   \n",
       "18362         Cheque        V            Victoria               No  ...   \n",
       "18363         Cheque        V            Victoria               No  ...   \n",
       "18364         Cheque        V            Victoria               No  ...   \n",
       "\n",
       "          rpart  Category of latest complaint  NPS           Product  \\\n",
       "0      0.357143              Network Coverage   -1  Internet Service   \n",
       "1      0.053805                     Call Drop    0        Fixed Line   \n",
       "2      0.030710                  Data Charges    0            Mobile   \n",
       "3      0.030710            High Billed Amount    0  Internet Service   \n",
       "4      0.144033                     Call Drop    0        Fixed Line   \n",
       "...         ...                           ...  ...               ...   \n",
       "18360  0.030710            High Billed Amount    1            Mobile   \n",
       "18361  0.030710            High Billed Amount    1            Mobile   \n",
       "18362  0.114994                     Call Drop    1            Mobile   \n",
       "18363  0.053805                  Data Charges   -1            Mobile   \n",
       "18364  0.030710                     Call Drop    1            Mobile   \n",
       "\n",
       "      Multiple Products                          Product_New  \\\n",
       "0                   Yes            Mobile & Internet Service   \n",
       "1                    No                           Fixed Line   \n",
       "2                    No                     Internet Service   \n",
       "3                   Yes  Internet Service,Fixed Line & PayTV   \n",
       "4                    No                     Internet Service   \n",
       "...                 ...                                  ...   \n",
       "18360                No                           Fixed Line   \n",
       "18361               Yes                       Mobile & PayTV   \n",
       "18362                No                           Fixed Line   \n",
       "18363               Yes            Mobile & Internet Service   \n",
       "18364                No                                PayTV   \n",
       "\n",
       "       Adjusted Prob for 50% Cut-off (without Formulae)  \\\n",
       "0                                              0.838283   \n",
       "1                                              0.346654   \n",
       "2                                              0.228171   \n",
       "3                                              0.228171   \n",
       "4                                              0.610902   \n",
       "...                                                 ...   \n",
       "18360                                          0.228171   \n",
       "18361                                          0.228171   \n",
       "18362                                          0.547997   \n",
       "18363                                          0.346654   \n",
       "18364                                          0.228171   \n",
       "\n",
       "                Customer Segment  Product Category Bill Amount  \n",
       "0                   Independents          Internet         169  \n",
       "1                 Small Business              ADSL         137  \n",
       "2                   Independents        Fixed line         252  \n",
       "3         Friends, Fun & Fashion          Internet         175  \n",
       "4         Friends, Fun & Fashion          Internet         128  \n",
       "...                          ...               ...         ...  \n",
       "18360  Family & Self Development        Fixed line          55  \n",
       "18361     Friends, Fun & Fashion        Fixed line          79  \n",
       "18362               Independents            Mobile          81  \n",
       "18363             Small Business            Mobile         163  \n",
       "18364    Principled Professional            Bundle         108  \n",
       "\n",
       "[18365 rows x 26 columns]"
      ]
     },
     "execution_count": 3,
     "metadata": {},
     "output_type": "execute_result"
    }
   ],
   "source": [
    "#Import and display Churn data\n",
    "\n",
    "raw_data = pd.read_csv('ChurnData.csv')\n",
    "raw_data"
   ]
  },
  {
   "cell_type": "code",
   "execution_count": 4,
   "metadata": {},
   "outputs": [],
   "source": [
    "#copy the data frame to another variable on which further modifications will be done\n",
    "\n",
    "data = raw_data.copy()"
   ]
  },
  {
   "cell_type": "markdown",
   "metadata": {},
   "source": [
    "# Data Exploration and Conversion to Categorical Variables"
   ]
  },
  {
   "cell_type": "code",
   "execution_count": 5,
   "metadata": {},
   "outputs": [
    {
     "name": "stdout",
     "output_type": "stream",
     "text": [
      "<class 'pandas.core.frame.DataFrame'>\n",
      "RangeIndex: 18365 entries, 0 to 18364\n",
      "Data columns (total 26 columns):\n",
      " #   Column                                            Non-Null Count  Dtype  \n",
      "---  ------                                            --------------  -----  \n",
      " 0   Customer ID                                       18365 non-null  int64  \n",
      " 1   Churned                                           18365 non-null  object \n",
      " 2   Age                                               17366 non-null  float64\n",
      " 3   Average Bill over 6 months                        18365 non-null  float64\n",
      " 4   Average Bill over 12 months                       18365 non-null  float64\n",
      " 5   Number of defaults in last 12 bills               18365 non-null  int64  \n",
      " 6   Payment Method                                    18365 non-null  object \n",
      " 7   District                                          18365 non-null  object \n",
      " 8   Area                                              18365 non-null  object \n",
      " 9   Concesssion Card                                  18365 non-null  object \n",
      " 10  INBOUNDCALLS                                      18365 non-null  int64  \n",
      " 11  OUTBOUNDCALLS                                     18365 non-null  int64  \n",
      " 12  Relationship (months)                             17549 non-null  float64\n",
      " 13  Occupier Status                                   18363 non-null  object \n",
      " 14  Multiple Fuel                                     18363 non-null  object \n",
      " 15  Bill Delivery Method                              18365 non-null  object \n",
      " 16  rpart                                             18365 non-null  float64\n",
      " 17  Category of latest complaint                      18365 non-null  object \n",
      " 18  NPS                                               18365 non-null  int64  \n",
      " 19  Product                                           18365 non-null  object \n",
      " 20  Multiple Products                                 18365 non-null  object \n",
      " 21  Product_New                                       18365 non-null  object \n",
      " 22  Adjusted Prob for 50% Cut-off (without Formulae)  18365 non-null  float64\n",
      " 23  Customer Segment                                  18365 non-null  object \n",
      " 24  Product Category                                  18365 non-null  object \n",
      " 25  Bill Amount                                       18365 non-null  int64  \n",
      "dtypes: float64(6), int64(6), object(14)\n",
      "memory usage: 3.6+ MB\n"
     ]
    }
   ],
   "source": [
    "data.info()"
   ]
  },
  {
   "cell_type": "markdown",
   "metadata": {},
   "source": [
    "# Column Info:\n",
    "\n",
    "- Churned : Information on whether a customer has quit or not. (Yes/No)\n",
    "\n",
    "- Age : Just a number\n",
    "\n",
    "- Average Bill over 6/12 months : Spending of customers. A number\n",
    "\n",
    "- Number of defaults in last 12 bills : Representative of timely bill payments.\n",
    "\n",
    "- Payment Method : Preferred Payment Method. (Cheque/Credit Card/Direct Debit)\n",
    "\n",
    "- District/Area : Location of Customer.\n",
    "\n",
    "- Concession Card : Does customer use one? (Yes/No)\n",
    "\n",
    "- Inbound/Outbound Calls : Number of calls (customer made to Carrier)/(made to customer). \n",
    "\n",
    "- Relationship (months) : Time customer has been using services.\n",
    "\n",
    "- Occupier Status : \n",
    "\n",
    "- Multiple Fuel :\n",
    "\n",
    "- Bill Delivery Method : How bills were sent to customers. (Mail/Internet/Email)\n",
    "\n",
    "- Category of Latest Complaint : Latest Recorded Complaint. (Call Drop/High Billed Amount/Internet Slowness/Data Charges/Network Coverage)        \n",
    "\n",
    "- NPS : Pre-Cleaned/Converted to Categorical. \n",
    "\n",
    "- Product/Multiple Products : Type of products used/Multiple types of products being used.(Mobile, Fixed Line, Internet Service)/(Yes/No)\n",
    "\n",
    "- Product_New: (Mobile/Fixed Line/Internet Service)       \n",
    "\n",
    "- Customer Segment: (Independents/Family & Self Development/Friends, Fun & Fashion/Principled Professional/Small Business/Entrepreneur)               \n",
    "\n",
    "- Product Category:\n",
    "\n",
    "- Bill Amount:       "
   ]
  },
  {
   "cell_type": "code",
   "execution_count": 6,
   "metadata": {},
   "outputs": [
    {
     "data": {
      "text/plain": [
       "Customer ID                                           0\n",
       "Churned                                               0\n",
       "Age                                                 999\n",
       "Average Bill over 6 months                            0\n",
       "Average Bill over 12 months                           0\n",
       "Number of defaults in last 12 bills                   0\n",
       "Payment Method                                        0\n",
       "District                                              0\n",
       "Area                                                  0\n",
       "Concesssion Card                                      0\n",
       "INBOUNDCALLS                                          0\n",
       "OUTBOUNDCALLS                                         0\n",
       "Relationship (months)                               816\n",
       "Occupier Status                                       2\n",
       "Multiple Fuel                                         2\n",
       "Bill Delivery Method                                  0\n",
       "rpart                                                 0\n",
       "Category of latest complaint                          0\n",
       "NPS                                                   0\n",
       "Product                                               0\n",
       "Multiple Products                                     0\n",
       "Product_New                                           0\n",
       "Adjusted Prob for 50% Cut-off (without Formulae)      0\n",
       "Customer Segment                                      0\n",
       "Product Category                                      0\n",
       "Bill Amount                                           0\n",
       "dtype: int64"
      ]
     },
     "execution_count": 6,
     "metadata": {},
     "output_type": "execute_result"
    }
   ],
   "source": [
    "#check number of null values in each column. Since number of rows is greater than 5% of all records,\n",
    "#we will not outright drop them.\n",
    "\n",
    "data.isnull().sum()\n",
    "\n",
    "\n",
    "#Since the total number of columns that would be dropped would be greater than 5% of the total,\n",
    "#they won't be outright dropped with .dropna()\n",
    "# Age : 999\n",
    "# Relationship(months) : 816\n",
    "# Occupier Status : 2\n",
    "# Multiple Fuel : 2"
   ]
  },
  {
   "cell_type": "code",
   "execution_count": 7,
   "metadata": {},
   "outputs": [
    {
     "data": {
      "text/plain": [
       "Index(['Customer ID', 'Churned', 'Age', 'Average Bill over 6 months',\n",
       "       'Average Bill over 12 months', 'Number of defaults in last 12 bills',\n",
       "       'Payment Method', 'District', 'Area', 'Concesssion Card',\n",
       "       'INBOUNDCALLS', 'OUTBOUNDCALLS', 'Relationship (months)',\n",
       "       'Occupier Status', 'Multiple Fuel', 'Bill Delivery Method', 'rpart',\n",
       "       'Category of latest complaint', 'NPS', 'Product', 'Multiple Products',\n",
       "       'Product_New', 'Adjusted Prob for 50% Cut-off (without Formulae)',\n",
       "       'Customer Segment', 'Product Category', 'Bill Amount'],\n",
       "      dtype='object')"
      ]
     },
     "execution_count": 7,
     "metadata": {},
     "output_type": "execute_result"
    }
   ],
   "source": [
    "## List of all columns\n",
    "\n",
    "data.columns"
   ]
  },
  {
   "cell_type": "markdown",
   "metadata": {},
   "source": [
    "### Churned"
   ]
  },
  {
   "cell_type": "code",
   "execution_count": 8,
   "metadata": {},
   "outputs": [
    {
     "data": {
      "text/plain": [
       "0    16556\n",
       "1     1809\n",
       "Name: Churned, dtype: int64"
      ]
     },
     "execution_count": 8,
     "metadata": {},
     "output_type": "execute_result"
    }
   ],
   "source": [
    "#Convert Churned to Categorical\n",
    "data['Churned'] = data['Churned'].map({'Yes':1,'No':0})\n",
    "data['Churned'].value_counts()"
   ]
  },
  {
   "cell_type": "markdown",
   "metadata": {},
   "source": [
    "### Age"
   ]
  },
  {
   "cell_type": "code",
   "execution_count": 9,
   "metadata": {},
   "outputs": [
    {
     "data": {
      "text/plain": [
       "<seaborn.axisgrid.FacetGrid at 0x1b6315266a0>"
      ]
     },
     "execution_count": 9,
     "metadata": {},
     "output_type": "execute_result"
    },
    {
     "data": {
      "image/png": "[encoded data removed]",
      "text/plain": [
       "<Figure size 360x360 with 1 Axes>"
      ]
     },
     "metadata": {},
     "output_type": "display_data"
    }
   ],
   "source": [
    "#Distplot to see distribution of age values.\n",
    "#Distplot shows highest density of ages between the 40 to 60 mark\n",
    "\n",
    "sns.displot(data['Age'])"
   ]
  },
  {
   "cell_type": "code",
   "execution_count": 10,
   "metadata": {},
   "outputs": [
    {
     "name": "stdout",
     "output_type": "stream",
     "text": [
      "count    17366.000000\n",
      "mean        51.422204\n",
      "std         17.456052\n",
      "min         18.000000\n",
      "25%         37.000000\n",
      "50%         50.000000\n",
      "75%         65.000000\n",
      "max        116.000000\n",
      "Name: Age, dtype: float64 \n",
      " median =  50.0\n"
     ]
    }
   ],
   "source": [
    "print(data['Age'].describe(),'\\n','median = ', data['Age'].median())"
   ]
  },
  {
   "cell_type": "code",
   "execution_count": 11,
   "metadata": {},
   "outputs": [
    {
     "data": {
      "text/plain": [
       "count    18365.000000\n",
       "mean        51.399238\n",
       "std         16.974879\n",
       "min         18.000000\n",
       "25%         38.000000\n",
       "50%         51.000000\n",
       "75%         64.000000\n",
       "max        116.000000\n",
       "Name: Age, dtype: float64"
      ]
     },
     "execution_count": 11,
     "metadata": {},
     "output_type": "execute_result"
    }
   ],
   "source": [
    "#fill missing values with median\n",
    "v1 = {'Age' : 51}\n",
    "data = data.fillna(value = v1)\n",
    "data['Age'].describe()\n"
   ]
  },
  {
   "cell_type": "code",
   "execution_count": 12,
   "metadata": {},
   "outputs": [],
   "source": [
    "#Some Consideration for Conversion to Categorical."
   ]
  },
  {
   "cell_type": "code",
   "execution_count": 13,
   "metadata": {},
   "outputs": [
    {
     "data": {
      "text/plain": [
       "Text(0.5, 1.0, 'Density Plot for Age vs Churned')"
      ]
     },
     "execution_count": 13,
     "metadata": {},
     "output_type": "execute_result"
    },
    {
     "data": {
      "image/png": "[encoded data removed]",
      "text/plain": [
       "<Figure size 432x288 with 1 Axes>"
      ]
     },
     "metadata": {},
     "output_type": "display_data"
    }
   ],
   "source": [
    "fig, ax = plt.subplots()\n",
    "\n",
    "sns.kdeplot(data[data['Churned']==1]['Age'],shade = True,color= 'Green',label = 'Churned Yes',ax = ax)\n",
    "sns.kdeplot(data[data['Churned']==0]['Age'],shade = True,color= 'Blue',label = 'Churned no',ax = ax)\n",
    "plt.title('Density Plot for Age vs Churned')"
   ]
  },
  {
   "cell_type": "code",
   "execution_count": 14,
   "metadata": {},
   "outputs": [
    {
     "data": {
      "text/plain": [
       "<seaborn.axisgrid.FacetGrid at 0x1b631b84d60>"
      ]
     },
     "execution_count": 14,
     "metadata": {},
     "output_type": "execute_result"
    },
    {
     "data": {
      "image/png": "[encoded data removed]",
      "text/plain": [
       "<Figure size 720x360 with 2 Axes>"
      ]
     },
     "metadata": {},
     "output_type": "display_data"
    }
   ],
   "source": [
    "g = sns.FacetGrid(data = data,col = 'Churned',height = 5)\n",
    "g.map(sns.kdeplot,'Age',shade = True)"
   ]
  },
  {
   "cell_type": "markdown",
   "metadata": {},
   "source": [
    "There is a spike in Churns around the ages of 30 and 50"
   ]
  },
  {
   "cell_type": "markdown",
   "metadata": {},
   "source": [
    "### Average Bill over 6 months"
   ]
  },
  {
   "cell_type": "code",
   "execution_count": 15,
   "metadata": {
    "scrolled": true
   },
   "outputs": [
    {
     "data": {
      "text/plain": [
       "<seaborn.axisgrid.FacetGrid at 0x1b6336ba520>"
      ]
     },
     "execution_count": 15,
     "metadata": {},
     "output_type": "execute_result"
    },
    {
     "data": {
      "image/png": "[encoded data removed]",
      "text/plain": [
       "<Figure size 360x360 with 1 Axes>"
      ]
     },
     "metadata": {},
     "output_type": "display_data"
    }
   ],
   "source": [
    "\n",
    "sns.displot(data['Average Bill over 6 months'],height = 5)"
   ]
  },
  {
   "cell_type": "markdown",
   "metadata": {},
   "source": [
    "## Average Bill over 12 months\n",
    "       "
   ]
  },
  {
   "cell_type": "code",
   "execution_count": 16,
   "metadata": {
    "scrolled": true
   },
   "outputs": [
    {
     "data": {
      "text/plain": [
       "<seaborn.axisgrid.FacetGrid at 0x1b6336cbd30>"
      ]
     },
     "execution_count": 16,
     "metadata": {},
     "output_type": "execute_result"
    },
    {
     "data": {
      "image/png": "[encoded data removed]",
      "text/plain": [
       "<Figure size 360x360 with 1 Axes>"
      ]
     },
     "metadata": {},
     "output_type": "display_data"
    }
   ],
   "source": [
    "sns.displot(data['Average Bill over 12 months'])"
   ]
  },
  {
   "cell_type": "code",
   "execution_count": 22,
   "metadata": {},
   "outputs": [
    {
     "name": "stdout",
     "output_type": "stream",
     "text": [
      "percent of data with > 250 bill = 0.012850530901170705\n"
     ]
    }
   ],
   "source": [
    "data[data['Average Bill over 12 months'] > 250].count()\n",
    "\n",
    "'\\n'\n",
    "print('percent of data with > 250 bill =' ,236/18365)"
   ]
  },
  {
   "cell_type": "code",
   "execution_count": 23,
   "metadata": {},
   "outputs": [],
   "source": [
    "#since only 0.013% values consist of outliers, we'll get rid of them\n",
    "\n",
    "a = data['Average Bill over 12 months'].quantile(0.987)\n",
    "data1 = data[data['Average Bill over 12 months']<a]\n"
   ]
  },
  {
   "cell_type": "code",
   "execution_count": 24,
   "metadata": {},
   "outputs": [
    {
     "data": {
      "text/plain": [
       "<seaborn.axisgrid.FacetGrid at 0x1b633c17850>"
      ]
     },
     "execution_count": 24,
     "metadata": {},
     "output_type": "execute_result"
    },
    {
     "data": {
      "image/png": "[encoded data removed]",
      "text/plain": [
       "<Figure size 360x360 with 1 Axes>"
      ]
     },
     "metadata": {},
     "output_type": "display_data"
    }
   ],
   "source": [
    "sns.displot(data1['Average Bill over 12 months'])"
   ]
  },
  {
   "cell_type": "code",
   "execution_count": 25,
   "metadata": {},
   "outputs": [
    {
     "data": {
      "text/plain": [
       "<seaborn.axisgrid.FacetGrid at 0x1b631da5e80>"
      ]
     },
     "execution_count": 25,
     "metadata": {},
     "output_type": "execute_result"
    },
    {
     "data": {
      "image/png": "[encoded data removed]",
      "text/plain": [
       "<Figure size 1440x720 with 2 Axes>"
      ]
     },
     "metadata": {},
     "output_type": "display_data"
    }
   ],
   "source": [
    "g = sns.FacetGrid(data = data1,col = 'Churned',height = 10)\n",
    "\n",
    "g.map(sns.kdeplot, 'Average Bill over 12 months',shade = True)"
   ]
  },
  {
   "cell_type": "markdown",
   "metadata": {},
   "source": [
    "### 'Number of defaults in last 12 bills'"
   ]
  },
  {
   "cell_type": "code",
   "execution_count": 26,
   "metadata": {},
   "outputs": [
    {
     "data": {
      "text/plain": [
       "0     6363\n",
       "1     3960\n",
       "2     2522\n",
       "3     1710\n",
       "4     1308\n",
       "5      672\n",
       "6      431\n",
       "7      297\n",
       "8      224\n",
       "12     207\n",
       "9      183\n",
       "11     134\n",
       "10     115\n",
       "Name: Number of defaults in last 12 bills, dtype: int64"
      ]
     },
     "execution_count": 26,
     "metadata": {},
     "output_type": "execute_result"
    }
   ],
   "source": [
    "data1['Number of defaults in last 12 bills'].value_counts()"
   ]
  },
  {
   "cell_type": "code",
   "execution_count": 27,
   "metadata": {},
   "outputs": [
    {
     "data": {
      "text/html": [
       "<div>\n",
       "<style scoped>\n",
       "    .dataframe tbody tr th:only-of-type {\n",
       "        vertical-align: middle;\n",
       "    }\n",
       "\n",
       "    .dataframe tbody tr th {\n",
       "        vertical-align: top;\n",
       "    }\n",
       "\n",
       "    .dataframe thead th {\n",
       "        text-align: right;\n",
       "    }\n",
       "</style>\n",
       "<table border=\"1\" class=\"dataframe\">\n",
       "  <thead>\n",
       "    <tr style=\"text-align: right;\">\n",
       "      <th>Number of defaults in last 12 bills</th>\n",
       "      <th>0</th>\n",
       "      <th>1</th>\n",
       "      <th>2</th>\n",
       "      <th>3</th>\n",
       "      <th>4</th>\n",
       "      <th>5</th>\n",
       "      <th>6</th>\n",
       "      <th>7</th>\n",
       "      <th>8</th>\n",
       "      <th>9</th>\n",
       "      <th>10</th>\n",
       "      <th>11</th>\n",
       "      <th>12</th>\n",
       "    </tr>\n",
       "    <tr>\n",
       "      <th>Churned</th>\n",
       "      <th></th>\n",
       "      <th></th>\n",
       "      <th></th>\n",
       "      <th></th>\n",
       "      <th></th>\n",
       "      <th></th>\n",
       "      <th></th>\n",
       "      <th></th>\n",
       "      <th></th>\n",
       "      <th></th>\n",
       "      <th></th>\n",
       "      <th></th>\n",
       "      <th></th>\n",
       "    </tr>\n",
       "  </thead>\n",
       "  <tbody>\n",
       "    <tr>\n",
       "      <th>0</th>\n",
       "      <td>5989</td>\n",
       "      <td>3586</td>\n",
       "      <td>2292</td>\n",
       "      <td>1563</td>\n",
       "      <td>1176</td>\n",
       "      <td>577</td>\n",
       "      <td>377</td>\n",
       "      <td>260</td>\n",
       "      <td>186</td>\n",
       "      <td>160</td>\n",
       "      <td>99</td>\n",
       "      <td>115</td>\n",
       "      <td>176</td>\n",
       "    </tr>\n",
       "    <tr>\n",
       "      <th>1</th>\n",
       "      <td>461</td>\n",
       "      <td>426</td>\n",
       "      <td>257</td>\n",
       "      <td>158</td>\n",
       "      <td>155</td>\n",
       "      <td>110</td>\n",
       "      <td>59</td>\n",
       "      <td>41</td>\n",
       "      <td>39</td>\n",
       "      <td>28</td>\n",
       "      <td>17</td>\n",
       "      <td>23</td>\n",
       "      <td>35</td>\n",
       "    </tr>\n",
       "  </tbody>\n",
       "</table>\n",
       "</div>"
      ],
      "text/plain": [
       "Number of defaults in last 12 bills    0     1     2     3     4    5    6   \\\n",
       "Churned                                                                       \n",
       "0                                    5989  3586  2292  1563  1176  577  377   \n",
       "1                                     461   426   257   158   155  110   59   \n",
       "\n",
       "Number of defaults in last 12 bills   7    8    9   10   11   12  \n",
       "Churned                                                           \n",
       "0                                    260  186  160  99  115  176  \n",
       "1                                     41   39   28  17   23   35  "
      ]
     },
     "execution_count": 27,
     "metadata": {},
     "output_type": "execute_result"
    }
   ],
   "source": [
    "pd.crosstab(index = data['Churned'],columns = data['Number of defaults in last 12 bills'])"
   ]
  },
  {
   "cell_type": "code",
   "execution_count": 28,
   "metadata": {},
   "outputs": [
    {
     "data": {
      "text/plain": [
       "<seaborn.axisgrid.FacetGrid at 0x1b633397ca0>"
      ]
     },
     "execution_count": 28,
     "metadata": {},
     "output_type": "execute_result"
    },
    {
     "data": {
      "image/png": "[encoded data removed]",
      "text/plain": [
       "<Figure size 414.8x360 with 1 Axes>"
      ]
     },
     "metadata": {},
     "output_type": "display_data"
    }
   ],
   "source": [
    "sns.catplot(x = 'Number of defaults in last 12 bills',hue = 'Churned', data = data1, kind = 'count',height = 5)"
   ]
  },
  {
   "cell_type": "markdown",
   "metadata": {},
   "source": [
    "### Payment Method"
   ]
  },
  {
   "cell_type": "code",
   "execution_count": 29,
   "metadata": {},
   "outputs": [
    {
     "data": {
      "text/plain": [
       "Cheque          14557\n",
       "Credit Card      2114\n",
       "Direct Debit     1455\n",
       "Name: Payment Method, dtype: int64"
      ]
     },
     "execution_count": 29,
     "metadata": {},
     "output_type": "execute_result"
    }
   ],
   "source": [
    "data1['Payment Method'].value_counts()"
   ]
  },
  {
   "cell_type": "code",
   "execution_count": 30,
   "metadata": {},
   "outputs": [
    {
     "data": {
      "text/plain": [
       "0    16350\n",
       "1     1776\n",
       "Name: Churned, dtype: int64"
      ]
     },
     "execution_count": 30,
     "metadata": {},
     "output_type": "execute_result"
    }
   ],
   "source": [
    "data1['Churned'].value_counts()"
   ]
  },
  {
   "cell_type": "markdown",
   "metadata": {},
   "source": [
    "- Cheque        :0\n",
    "- Credit Card   :1\n",
    "- Direct Debit  :2"
   ]
  },
  {
   "cell_type": "code",
   "execution_count": 31,
   "metadata": {},
   "outputs": [
    {
     "data": {
      "text/plain": [
       "<seaborn.axisgrid.FacetGrid at 0x1b631526490>"
      ]
     },
     "execution_count": 31,
     "metadata": {},
     "output_type": "execute_result"
    },
    {
     "data": {
      "image/png": "[encoded data removed]",
      "text/plain": [
       "<Figure size 720x360 with 2 Axes>"
      ]
     },
     "metadata": {},
     "output_type": "display_data"
    }
   ],
   "source": [
    "#Payment Method vs Churned\n",
    "sns.displot(x = 'Payment Method',data =data1,col = 'Churned')"
   ]
  },
  {
   "cell_type": "markdown",
   "metadata": {},
   "source": [
    "## Convert to NumericCategorical\n",
    "data1['Payment Method'] = data1['Payment Method'].map({'Cheque':0, 'Credit Card':1, 'Direct Debit':2})\n",
    "data1['Payment Method'].value_counts()"
   ]
  },
  {
   "cell_type": "code",
   "execution_count": 32,
   "metadata": {},
   "outputs": [
    {
     "data": {
      "text/html": [
       "<div>\n",
       "<style scoped>\n",
       "    .dataframe tbody tr th:only-of-type {\n",
       "        vertical-align: middle;\n",
       "    }\n",
       "\n",
       "    .dataframe tbody tr th {\n",
       "        vertical-align: top;\n",
       "    }\n",
       "\n",
       "    .dataframe thead th {\n",
       "        text-align: right;\n",
       "    }\n",
       "</style>\n",
       "<table border=\"1\" class=\"dataframe\">\n",
       "  <thead>\n",
       "    <tr style=\"text-align: right;\">\n",
       "      <th>Age</th>\n",
       "      <th>18.0</th>\n",
       "      <th>19.0</th>\n",
       "      <th>20.0</th>\n",
       "      <th>21.0</th>\n",
       "      <th>22.0</th>\n",
       "      <th>23.0</th>\n",
       "      <th>24.0</th>\n",
       "      <th>25.0</th>\n",
       "      <th>26.0</th>\n",
       "      <th>27.0</th>\n",
       "      <th>...</th>\n",
       "      <th>95.0</th>\n",
       "      <th>96.0</th>\n",
       "      <th>97.0</th>\n",
       "      <th>98.0</th>\n",
       "      <th>99.0</th>\n",
       "      <th>100.0</th>\n",
       "      <th>101.0</th>\n",
       "      <th>102.0</th>\n",
       "      <th>103.0</th>\n",
       "      <th>116.0</th>\n",
       "    </tr>\n",
       "    <tr>\n",
       "      <th>Payment Method</th>\n",
       "      <th></th>\n",
       "      <th></th>\n",
       "      <th></th>\n",
       "      <th></th>\n",
       "      <th></th>\n",
       "      <th></th>\n",
       "      <th></th>\n",
       "      <th></th>\n",
       "      <th></th>\n",
       "      <th></th>\n",
       "      <th></th>\n",
       "      <th></th>\n",
       "      <th></th>\n",
       "      <th></th>\n",
       "      <th></th>\n",
       "      <th></th>\n",
       "      <th></th>\n",
       "      <th></th>\n",
       "      <th></th>\n",
       "      <th></th>\n",
       "      <th></th>\n",
       "    </tr>\n",
       "  </thead>\n",
       "  <tbody>\n",
       "    <tr>\n",
       "      <th>Cheque</th>\n",
       "      <td>2</td>\n",
       "      <td>18</td>\n",
       "      <td>46</td>\n",
       "      <td>90</td>\n",
       "      <td>120</td>\n",
       "      <td>107</td>\n",
       "      <td>162</td>\n",
       "      <td>171</td>\n",
       "      <td>184</td>\n",
       "      <td>206</td>\n",
       "      <td>...</td>\n",
       "      <td>15</td>\n",
       "      <td>8</td>\n",
       "      <td>7</td>\n",
       "      <td>2</td>\n",
       "      <td>3</td>\n",
       "      <td>2</td>\n",
       "      <td>1</td>\n",
       "      <td>3</td>\n",
       "      <td>1</td>\n",
       "      <td>1</td>\n",
       "    </tr>\n",
       "    <tr>\n",
       "      <th>Credit Card</th>\n",
       "      <td>0</td>\n",
       "      <td>2</td>\n",
       "      <td>2</td>\n",
       "      <td>8</td>\n",
       "      <td>12</td>\n",
       "      <td>13</td>\n",
       "      <td>14</td>\n",
       "      <td>14</td>\n",
       "      <td>27</td>\n",
       "      <td>34</td>\n",
       "      <td>...</td>\n",
       "      <td>1</td>\n",
       "      <td>1</td>\n",
       "      <td>0</td>\n",
       "      <td>0</td>\n",
       "      <td>0</td>\n",
       "      <td>0</td>\n",
       "      <td>0</td>\n",
       "      <td>0</td>\n",
       "      <td>0</td>\n",
       "      <td>0</td>\n",
       "    </tr>\n",
       "    <tr>\n",
       "      <th>Direct Debit</th>\n",
       "      <td>1</td>\n",
       "      <td>2</td>\n",
       "      <td>6</td>\n",
       "      <td>5</td>\n",
       "      <td>6</td>\n",
       "      <td>13</td>\n",
       "      <td>11</td>\n",
       "      <td>17</td>\n",
       "      <td>14</td>\n",
       "      <td>22</td>\n",
       "      <td>...</td>\n",
       "      <td>5</td>\n",
       "      <td>1</td>\n",
       "      <td>1</td>\n",
       "      <td>1</td>\n",
       "      <td>0</td>\n",
       "      <td>0</td>\n",
       "      <td>0</td>\n",
       "      <td>0</td>\n",
       "      <td>0</td>\n",
       "      <td>0</td>\n",
       "    </tr>\n",
       "  </tbody>\n",
       "</table>\n",
       "<p>3 rows × 87 columns</p>\n",
       "</div>"
      ],
      "text/plain": [
       "Age             18.0   19.0   20.0   21.0   22.0   23.0   24.0   25.0   26.0   \\\n",
       "Payment Method                                                                  \n",
       "Cheque              2     18     46     90    120    107    162    171    184   \n",
       "Credit Card         0      2      2      8     12     13     14     14     27   \n",
       "Direct Debit        1      2      6      5      6     13     11     17     14   \n",
       "\n",
       "Age             27.0   ...  95.0   96.0   97.0   98.0   99.0   100.0  101.0  \\\n",
       "Payment Method         ...                                                    \n",
       "Cheque            206  ...     15      8      7      2      3      2      1   \n",
       "Credit Card        34  ...      1      1      0      0      0      0      0   \n",
       "Direct Debit       22  ...      5      1      1      1      0      0      0   \n",
       "\n",
       "Age             102.0  103.0  116.0  \n",
       "Payment Method                       \n",
       "Cheque              3      1      1  \n",
       "Credit Card         0      0      0  \n",
       "Direct Debit        0      0      0  \n",
       "\n",
       "[3 rows x 87 columns]"
      ]
     },
     "execution_count": 32,
     "metadata": {},
     "output_type": "execute_result"
    }
   ],
   "source": [
    "#This would look better if Age was categorized as well\n",
    "pd.crosstab(data1['Payment Method'],data1['Age'])"
   ]
  },
  {
   "cell_type": "code",
   "execution_count": 33,
   "metadata": {},
   "outputs": [
    {
     "data": {
      "text/html": [
       "<div>\n",
       "<style scoped>\n",
       "    .dataframe tbody tr th:only-of-type {\n",
       "        vertical-align: middle;\n",
       "    }\n",
       "\n",
       "    .dataframe tbody tr th {\n",
       "        vertical-align: top;\n",
       "    }\n",
       "\n",
       "    .dataframe thead th {\n",
       "        text-align: right;\n",
       "    }\n",
       "</style>\n",
       "<table border=\"1\" class=\"dataframe\">\n",
       "  <thead>\n",
       "    <tr style=\"text-align: right;\">\n",
       "      <th></th>\n",
       "      <th>Customer ID</th>\n",
       "      <th>Churned</th>\n",
       "      <th>Age</th>\n",
       "      <th>Average Bill over 6 months</th>\n",
       "      <th>Average Bill over 12 months</th>\n",
       "      <th>Number of defaults in last 12 bills</th>\n",
       "      <th>INBOUNDCALLS</th>\n",
       "      <th>OUTBOUNDCALLS</th>\n",
       "      <th>Relationship (months)</th>\n",
       "      <th>rpart</th>\n",
       "      <th>NPS</th>\n",
       "      <th>Adjusted Prob for 50% Cut-off (without Formulae)</th>\n",
       "      <th>Bill Amount</th>\n",
       "    </tr>\n",
       "  </thead>\n",
       "  <tbody>\n",
       "    <tr>\n",
       "      <th>count</th>\n",
       "      <td>18126.000000</td>\n",
       "      <td>18126.000000</td>\n",
       "      <td>18126.000000</td>\n",
       "      <td>18126.000000</td>\n",
       "      <td>18126.000000</td>\n",
       "      <td>18126.000000</td>\n",
       "      <td>18126.000000</td>\n",
       "      <td>18126.000000</td>\n",
       "      <td>17326.000000</td>\n",
       "      <td>18126.000000</td>\n",
       "      <td>18126.000000</td>\n",
       "      <td>18126.000000</td>\n",
       "      <td>18126.000000</td>\n",
       "    </tr>\n",
       "    <tr>\n",
       "      <th>mean</th>\n",
       "      <td>9186.152378</td>\n",
       "      <td>0.097981</td>\n",
       "      <td>51.421935</td>\n",
       "      <td>26.198499</td>\n",
       "      <td>48.799863</td>\n",
       "      <td>1.982677</td>\n",
       "      <td>0.131469</td>\n",
       "      <td>0.053735</td>\n",
       "      <td>44.298049</td>\n",
       "      <td>0.098874</td>\n",
       "      <td>0.350601</td>\n",
       "      <td>0.375709</td>\n",
       "      <td>215.803376</td>\n",
       "    </tr>\n",
       "    <tr>\n",
       "      <th>std</th>\n",
       "      <td>5299.441814</td>\n",
       "      <td>0.297297</td>\n",
       "      <td>17.038367</td>\n",
       "      <td>26.662253</td>\n",
       "      <td>42.724863</td>\n",
       "      <td>2.493164</td>\n",
       "      <td>1.039621</td>\n",
       "      <td>0.356199</td>\n",
       "      <td>34.943724</td>\n",
       "      <td>0.160215</td>\n",
       "      <td>0.880969</td>\n",
       "      <td>0.201647</td>\n",
       "      <td>378.879019</td>\n",
       "    </tr>\n",
       "    <tr>\n",
       "      <th>min</th>\n",
       "      <td>1.000000</td>\n",
       "      <td>0.000000</td>\n",
       "      <td>18.000000</td>\n",
       "      <td>1.147500</td>\n",
       "      <td>0.000000</td>\n",
       "      <td>0.000000</td>\n",
       "      <td>0.000000</td>\n",
       "      <td>0.000000</td>\n",
       "      <td>0.000000</td>\n",
       "      <td>0.000000</td>\n",
       "      <td>-1.000000</td>\n",
       "      <td>0.000000</td>\n",
       "      <td>0.000000</td>\n",
       "    </tr>\n",
       "    <tr>\n",
       "      <th>25%</th>\n",
       "      <td>4601.250000</td>\n",
       "      <td>0.000000</td>\n",
       "      <td>38.000000</td>\n",
       "      <td>11.000000</td>\n",
       "      <td>20.185000</td>\n",
       "      <td>0.000000</td>\n",
       "      <td>0.000000</td>\n",
       "      <td>0.000000</td>\n",
       "      <td>14.000000</td>\n",
       "      <td>0.030710</td>\n",
       "      <td>-1.000000</td>\n",
       "      <td>0.228171</td>\n",
       "      <td>87.000000</td>\n",
       "    </tr>\n",
       "    <tr>\n",
       "      <th>50%</th>\n",
       "      <td>9191.500000</td>\n",
       "      <td>0.000000</td>\n",
       "      <td>51.000000</td>\n",
       "      <td>18.000000</td>\n",
       "      <td>32.852500</td>\n",
       "      <td>1.000000</td>\n",
       "      <td>0.000000</td>\n",
       "      <td>0.000000</td>\n",
       "      <td>38.000000</td>\n",
       "      <td>0.053805</td>\n",
       "      <td>1.000000</td>\n",
       "      <td>0.346654</td>\n",
       "      <td>147.000000</td>\n",
       "    </tr>\n",
       "    <tr>\n",
       "      <th>75%</th>\n",
       "      <td>13771.750000</td>\n",
       "      <td>0.000000</td>\n",
       "      <td>64.000000</td>\n",
       "      <td>32.061875</td>\n",
       "      <td>64.036875</td>\n",
       "      <td>3.000000</td>\n",
       "      <td>0.000000</td>\n",
       "      <td>0.000000</td>\n",
       "      <td>67.000000</td>\n",
       "      <td>0.074102</td>\n",
       "      <td>1.000000</td>\n",
       "      <td>0.427510</td>\n",
       "      <td>244.000000</td>\n",
       "    </tr>\n",
       "    <tr>\n",
       "      <th>max</th>\n",
       "      <td>18365.000000</td>\n",
       "      <td>1.000000</td>\n",
       "      <td>116.000000</td>\n",
       "      <td>585.900000</td>\n",
       "      <td>248.697500</td>\n",
       "      <td>12.000000</td>\n",
       "      <td>50.000000</td>\n",
       "      <td>9.000000</td>\n",
       "      <td>148.000000</td>\n",
       "      <td>1.000000</td>\n",
       "      <td>1.000000</td>\n",
       "      <td>1.000000</td>\n",
       "      <td>29592.000000</td>\n",
       "    </tr>\n",
       "  </tbody>\n",
       "</table>\n",
       "</div>"
      ],
      "text/plain": [
       "        Customer ID       Churned           Age  Average Bill over 6 months  \\\n",
       "count  18126.000000  18126.000000  18126.000000                18126.000000   \n",
       "mean    9186.152378      0.097981     51.421935                   26.198499   \n",
       "std     5299.441814      0.297297     17.038367                   26.662253   \n",
       "min        1.000000      0.000000     18.000000                    1.147500   \n",
       "25%     4601.250000      0.000000     38.000000                   11.000000   \n",
       "50%     9191.500000      0.000000     51.000000                   18.000000   \n",
       "75%    13771.750000      0.000000     64.000000                   32.061875   \n",
       "max    18365.000000      1.000000    116.000000                  585.900000   \n",
       "\n",
       "       Average Bill over 12 months  Number of defaults in last 12 bills  \\\n",
       "count                 18126.000000                         18126.000000   \n",
       "mean                     48.799863                             1.982677   \n",
       "std                      42.724863                             2.493164   \n",
       "min                       0.000000                             0.000000   \n",
       "25%                      20.185000                             0.000000   \n",
       "50%                      32.852500                             1.000000   \n",
       "75%                      64.036875                             3.000000   \n",
       "max                     248.697500                            12.000000   \n",
       "\n",
       "       INBOUNDCALLS  OUTBOUNDCALLS  Relationship (months)         rpart  \\\n",
       "count  18126.000000   18126.000000           17326.000000  18126.000000   \n",
       "mean       0.131469       0.053735              44.298049      0.098874   \n",
       "std        1.039621       0.356199              34.943724      0.160215   \n",
       "min        0.000000       0.000000               0.000000      0.000000   \n",
       "25%        0.000000       0.000000              14.000000      0.030710   \n",
       "50%        0.000000       0.000000              38.000000      0.053805   \n",
       "75%        0.000000       0.000000              67.000000      0.074102   \n",
       "max       50.000000       9.000000             148.000000      1.000000   \n",
       "\n",
       "                NPS  Adjusted Prob for 50% Cut-off (without Formulae)  \\\n",
       "count  18126.000000                                      18126.000000   \n",
       "mean       0.350601                                          0.375709   \n",
       "std        0.880969                                          0.201647   \n",
       "min       -1.000000                                          0.000000   \n",
       "25%       -1.000000                                          0.228171   \n",
       "50%        1.000000                                          0.346654   \n",
       "75%        1.000000                                          0.427510   \n",
       "max        1.000000                                          1.000000   \n",
       "\n",
       "        Bill Amount  \n",
       "count  18126.000000  \n",
       "mean     215.803376  \n",
       "std      378.879019  \n",
       "min        0.000000  \n",
       "25%       87.000000  \n",
       "50%      147.000000  \n",
       "75%      244.000000  \n",
       "max    29592.000000  "
      ]
     },
     "execution_count": 33,
     "metadata": {},
     "output_type": "execute_result"
    }
   ],
   "source": [
    "data1.describe()"
   ]
  },
  {
   "cell_type": "markdown",
   "metadata": {},
   "source": [
    "### District"
   ]
  },
  {
   "cell_type": "code",
   "execution_count": 34,
   "metadata": {},
   "outputs": [
    {
     "data": {
      "text/plain": [
       "V    11677\n",
       "Q     2784\n",
       "S     2135\n",
       "N     1530\n",
       "Name: District, dtype: int64"
      ]
     },
     "execution_count": 34,
     "metadata": {},
     "output_type": "execute_result"
    }
   ],
   "source": [
    "data1['District'].value_counts()"
   ]
  },
  {
   "cell_type": "code",
   "execution_count": 35,
   "metadata": {},
   "outputs": [
    {
     "data": {
      "text/plain": [
       "<seaborn.axisgrid.FacetGrid at 0x1b635028070>"
      ]
     },
     "execution_count": 35,
     "metadata": {},
     "output_type": "execute_result"
    },
    {
     "data": {
      "image/png": "[encoded data removed]",
      "text/plain": [
       "<Figure size 720x360 with 2 Axes>"
      ]
     },
     "metadata": {},
     "output_type": "display_data"
    }
   ],
   "source": [
    "sns.displot(x = 'District',data = data1,col = 'Churned')"
   ]
  },
  {
   "cell_type": "markdown",
   "metadata": {},
   "source": [
    "### Area"
   ]
  },
  {
   "cell_type": "code",
   "execution_count": 36,
   "metadata": {},
   "outputs": [
    {
     "data": {
      "text/plain": [
       "Victoria              11677\n",
       "Queensland             2784\n",
       "South Australia        2135\n",
       "Northern Territory     1530\n",
       "Name: Area, dtype: int64"
      ]
     },
     "execution_count": 36,
     "metadata": {},
     "output_type": "execute_result"
    }
   ],
   "source": [
    "# Area and District seem ot be the same\n",
    "data1['Area'].value_counts()"
   ]
  },
  {
   "cell_type": "markdown",
   "metadata": {},
   "source": [
    "### Concession Card"
   ]
  },
  {
   "cell_type": "code",
   "execution_count": 37,
   "metadata": {},
   "outputs": [
    {
     "data": {
      "text/plain": [
       "No     13385\n",
       "Yes     4741\n",
       "Name: Concesssion Card, dtype: int64"
      ]
     },
     "execution_count": 37,
     "metadata": {},
     "output_type": "execute_result"
    }
   ],
   "source": [
    "data1['Concesssion Card'].value_counts()"
   ]
  },
  {
   "cell_type": "code",
   "execution_count": 38,
   "metadata": {},
   "outputs": [
    {
     "name": "stderr",
     "output_type": "stream",
     "text": [
      "<ipython-input-38-4944061e937b>:2: SettingWithCopyWarning: \n",
      "A value is trying to be set on a copy of a slice from a DataFrame.\n",
      "Try using .loc[row_indexer,col_indexer] = value instead\n",
      "\n",
      "See the caveats in the documentation: https://pandas.pydata.org/pandas-docs/stable/user_guide/indexing.html#returning-a-view-versus-a-copy\n",
      "  data1['Concesssion Card'] = data1['Concesssion Card'].map(v3)\n"
     ]
    },
    {
     "data": {
      "text/plain": [
       "count    18126.000000\n",
       "mean         0.261558\n",
       "std          0.439495\n",
       "min          0.000000\n",
       "25%          0.000000\n",
       "50%          0.000000\n",
       "75%          1.000000\n",
       "max          1.000000\n",
       "Name: Concesssion Card, dtype: float64"
      ]
     },
     "execution_count": 38,
     "metadata": {},
     "output_type": "execute_result"
    }
   ],
   "source": [
    "v3 = {'Yes':1,'No':0}\n",
    "data1['Concesssion Card'] = data1['Concesssion Card'].map(v3)\n",
    "data1['Concesssion Card'].describe()"
   ]
  },
  {
   "cell_type": "code",
   "execution_count": 39,
   "metadata": {},
   "outputs": [
    {
     "data": {
      "text/plain": [
       "<seaborn.axisgrid.FacetGrid at 0x1b631cf8490>"
      ]
     },
     "execution_count": 39,
     "metadata": {},
     "output_type": "execute_result"
    },
    {
     "data": {
      "image/png": "[encoded data removed]",
      "text/plain": [
       "<Figure size 414.8x360 with 1 Axes>"
      ]
     },
     "metadata": {},
     "output_type": "display_data"
    }
   ],
   "source": [
    "sns.catplot(x = 'Concesssion Card',hue = 'Churned',data = data1,kind = 'count')"
   ]
  },
  {
   "cell_type": "markdown",
   "metadata": {},
   "source": [
    "### INBOUNDCALLS\n",
    "Inbound calls are phone calls made to a company's customer service or support team and are initiated by the customer"
   ]
  },
  {
   "cell_type": "code",
   "execution_count": 40,
   "metadata": {},
   "outputs": [
    {
     "data": {
      "text/plain": [
       "<seaborn.axisgrid.FacetGrid at 0x1b6368ae7c0>"
      ]
     },
     "execution_count": 40,
     "metadata": {},
     "output_type": "execute_result"
    },
    {
     "data": {
      "image/png": "[encoded data removed]",
      "text/plain": [
       "<Figure size 720x360 with 2 Axes>"
      ]
     },
     "metadata": {},
     "output_type": "display_data"
    }
   ],
   "source": [
    "sns.catplot(x = 'INBOUNDCALLS',col = 'Churned' ,data =data1)"
   ]
  },
  {
   "cell_type": "code",
   "execution_count": 41,
   "metadata": {},
   "outputs": [
    {
     "data": {
      "text/plain": [
       "0     17097\n",
       "1       633\n",
       "2       180\n",
       "3        67\n",
       "4        42\n",
       "5        28\n",
       "6        20\n",
       "7        18\n",
       "8         9\n",
       "10        7\n",
       "9         6\n",
       "11        4\n",
       "50        2\n",
       "14        2\n",
       "15        2\n",
       "24        1\n",
       "30        1\n",
       "22        1\n",
       "26        1\n",
       "12        1\n",
       "19        1\n",
       "28        1\n",
       "44        1\n",
       "32        1\n",
       "Name: INBOUNDCALLS, dtype: int64"
      ]
     },
     "execution_count": 41,
     "metadata": {},
     "output_type": "execute_result"
    }
   ],
   "source": [
    "data1['INBOUNDCALLS'].value_counts()"
   ]
  },
  {
   "cell_type": "markdown",
   "metadata": {},
   "source": [
    "### Outbound Calls\n",
    "\n",
    "An outbound call is one initiated by a call center agent to a customer on behalf of a call center or client"
   ]
  },
  {
   "cell_type": "code",
   "execution_count": 42,
   "metadata": {},
   "outputs": [
    {
     "data": {
      "text/plain": [
       "0    17532\n",
       "1      377\n",
       "2      127\n",
       "3       54\n",
       "4       18\n",
       "5        9\n",
       "6        4\n",
       "9        2\n",
       "7        2\n",
       "8        1\n",
       "Name: OUTBOUNDCALLS, dtype: int64"
      ]
     },
     "execution_count": 42,
     "metadata": {},
     "output_type": "execute_result"
    }
   ],
   "source": [
    "data1['OUTBOUNDCALLS'].value_counts()"
   ]
  },
  {
   "cell_type": "code",
   "execution_count": 43,
   "metadata": {},
   "outputs": [
    {
     "data": {
      "text/plain": [
       "<seaborn.axisgrid.FacetGrid at 0x1b635015d60>"
      ]
     },
     "execution_count": 43,
     "metadata": {},
     "output_type": "execute_result"
    },
    {
     "data": {
      "image/png": "[encoded data removed]",
      "text/plain": [
       "<Figure size 720x360 with 2 Axes>"
      ]
     },
     "metadata": {},
     "output_type": "display_data"
    }
   ],
   "source": [
    "sns.catplot(data = data1,x = 'OUTBOUNDCALLS',col = 'Churned')"
   ]
  },
  {
   "cell_type": "markdown",
   "metadata": {},
   "source": [
    "### Relationship (months)"
   ]
  },
  {
   "cell_type": "code",
   "execution_count": 44,
   "metadata": {},
   "outputs": [
    {
     "data": {
      "text/plain": [
       "5.0      391\n",
       "4.0      383\n",
       "1.0      346\n",
       "11.0     342\n",
       "2.0      339\n",
       "        ... \n",
       "141.0      4\n",
       "139.0      4\n",
       "148.0      3\n",
       "143.0      3\n",
       "147.0      2\n",
       "Name: Relationship (months), Length: 148, dtype: int64"
      ]
     },
     "execution_count": 44,
     "metadata": {},
     "output_type": "execute_result"
    }
   ],
   "source": [
    "data1['Relationship (months)'].value_counts()"
   ]
  },
  {
   "cell_type": "code",
   "execution_count": 45,
   "metadata": {},
   "outputs": [
    {
     "data": {
      "text/plain": [
       "<seaborn.axisgrid.FacetGrid at 0x1b634485be0>"
      ]
     },
     "execution_count": 45,
     "metadata": {},
     "output_type": "execute_result"
    },
    {
     "data": {
      "image/png": "[encoded data removed]",
      "text/plain": [
       "<Figure size 720x360 with 2 Axes>"
      ]
     },
     "metadata": {},
     "output_type": "display_data"
    }
   ],
   "source": [
    "sns.displot(data=data,x = 'Relationship (months)',col = 'Churned')"
   ]
  },
  {
   "cell_type": "markdown",
   "metadata": {},
   "source": [
    "### Occupier Status"
   ]
  },
  {
   "cell_type": "code",
   "execution_count": 46,
   "metadata": {},
   "outputs": [
    {
     "data": {
      "text/plain": [
       "Regular     17796\n",
       "Occupier      328\n",
       "Name: Occupier Status, dtype: int64"
      ]
     },
     "execution_count": 46,
     "metadata": {},
     "output_type": "execute_result"
    }
   ],
   "source": [
    "data1['Occupier Status'].value_counts()"
   ]
  },
  {
   "cell_type": "code",
   "execution_count": 47,
   "metadata": {},
   "outputs": [
    {
     "data": {
      "text/plain": [
       "<seaborn.axisgrid.FacetGrid at 0x1b63447fbe0>"
      ]
     },
     "execution_count": 47,
     "metadata": {},
     "output_type": "execute_result"
    },
    {
     "data": {
      "image/png": "[encoded data removed]",
      "text/plain": [
       "<Figure size 720x360 with 2 Axes>"
      ]
     },
     "metadata": {},
     "output_type": "display_data"
    }
   ],
   "source": [
    "sns.catplot(x = 'Occupier Status',data = data1,col = 'Churned',kind = 'count')"
   ]
  },
  {
   "cell_type": "markdown",
   "metadata": {},
   "source": [
    "### Multiple Fuel"
   ]
  },
  {
   "cell_type": "code",
   "execution_count": 48,
   "metadata": {},
   "outputs": [
    {
     "data": {
      "text/plain": [
       "N    10490\n",
       "Y     7634\n",
       "Name: Multiple Fuel, dtype: int64"
      ]
     },
     "execution_count": 48,
     "metadata": {},
     "output_type": "execute_result"
    }
   ],
   "source": [
    "data1['Multiple Fuel'].value_counts()"
   ]
  },
  {
   "cell_type": "code",
   "execution_count": 49,
   "metadata": {},
   "outputs": [
    {
     "data": {
      "text/plain": [
       "<seaborn.axisgrid.FacetGrid at 0x1b634485b80>"
      ]
     },
     "execution_count": 49,
     "metadata": {},
     "output_type": "execute_result"
    },
    {
     "data": {
      "image/png": "[encoded data removed]",
      "text/plain": [
       "<Figure size 720x360 with 2 Axes>"
      ]
     },
     "metadata": {},
     "output_type": "display_data"
    }
   ],
   "source": [
    "sns.catplot(x = 'Multiple Fuel', data = data1, col = 'Churned',kind = 'count')"
   ]
  },
  {
   "cell_type": "markdown",
   "metadata": {},
   "source": [
    "### Bill Delivery Method"
   ]
  },
  {
   "cell_type": "code",
   "execution_count": 50,
   "metadata": {},
   "outputs": [
    {
     "data": {
      "text/plain": [
       "Mail        12669\n",
       "Internet     5281\n",
       "Email         176\n",
       "Name: Bill Delivery Method, dtype: int64"
      ]
     },
     "execution_count": 50,
     "metadata": {},
     "output_type": "execute_result"
    }
   ],
   "source": [
    "data1['Bill Delivery Method'].value_counts()"
   ]
  },
  {
   "cell_type": "code",
   "execution_count": 51,
   "metadata": {},
   "outputs": [
    {
     "data": {
      "text/plain": [
       "<seaborn.axisgrid.FacetGrid at 0x1b636696fa0>"
      ]
     },
     "execution_count": 51,
     "metadata": {},
     "output_type": "execute_result"
    },
    {
     "data": {
      "image/png": "[encoded data removed]",
      "text/plain": [
       "<Figure size 720x360 with 2 Axes>"
      ]
     },
     "metadata": {},
     "output_type": "display_data"
    }
   ],
   "source": [
    "sns.catplot(x = 'Bill Delivery Method', data = data1,col='Churned',kind = 'count')"
   ]
  },
  {
   "cell_type": "markdown",
   "metadata": {},
   "source": [
    "### Category of Latest Complaint"
   ]
  },
  {
   "cell_type": "code",
   "execution_count": 52,
   "metadata": {},
   "outputs": [
    {
     "data": {
      "text/plain": [
       "Call Drop             7580\n",
       "High Billed Amount    5922\n",
       "Internet Slowness     4330\n",
       "Data Charges           265\n",
       "Network Coverage        29\n",
       "Name: Category of latest complaint, dtype: int64"
      ]
     },
     "execution_count": 52,
     "metadata": {},
     "output_type": "execute_result"
    }
   ],
   "source": [
    "data1['Category of latest complaint'].value_counts()"
   ]
  },
  {
   "cell_type": "code",
   "execution_count": 53,
   "metadata": {},
   "outputs": [
    {
     "data": {
      "text/html": [
       "<div>\n",
       "<style scoped>\n",
       "    .dataframe tbody tr th:only-of-type {\n",
       "        vertical-align: middle;\n",
       "    }\n",
       "\n",
       "    .dataframe tbody tr th {\n",
       "        vertical-align: top;\n",
       "    }\n",
       "\n",
       "    .dataframe thead th {\n",
       "        text-align: right;\n",
       "    }\n",
       "</style>\n",
       "<table border=\"1\" class=\"dataframe\">\n",
       "  <thead>\n",
       "    <tr style=\"text-align: right;\">\n",
       "      <th>Category of latest complaint</th>\n",
       "      <th>Call Drop</th>\n",
       "      <th>Data Charges</th>\n",
       "      <th>High Billed Amount</th>\n",
       "      <th>Internet Slowness</th>\n",
       "      <th>Network Coverage</th>\n",
       "    </tr>\n",
       "    <tr>\n",
       "      <th>Churned</th>\n",
       "      <th></th>\n",
       "      <th></th>\n",
       "      <th></th>\n",
       "      <th></th>\n",
       "      <th></th>\n",
       "    </tr>\n",
       "  </thead>\n",
       "  <tbody>\n",
       "    <tr>\n",
       "      <th>0</th>\n",
       "      <td>6411</td>\n",
       "      <td>265</td>\n",
       "      <td>5345</td>\n",
       "      <td>4328</td>\n",
       "      <td>1</td>\n",
       "    </tr>\n",
       "    <tr>\n",
       "      <th>1</th>\n",
       "      <td>1169</td>\n",
       "      <td>0</td>\n",
       "      <td>577</td>\n",
       "      <td>2</td>\n",
       "      <td>28</td>\n",
       "    </tr>\n",
       "  </tbody>\n",
       "</table>\n",
       "</div>"
      ],
      "text/plain": [
       "Category of latest complaint  Call Drop  Data Charges  High Billed Amount  \\\n",
       "Churned                                                                     \n",
       "0                                  6411           265                5345   \n",
       "1                                  1169             0                 577   \n",
       "\n",
       "Category of latest complaint  Internet Slowness  Network Coverage  \n",
       "Churned                                                            \n",
       "0                                          4328                 1  \n",
       "1                                             2                28  "
      ]
     },
     "execution_count": 53,
     "metadata": {},
     "output_type": "execute_result"
    }
   ],
   "source": [
    "pd.crosstab(data1['Churned'],data1['Category of latest complaint'])"
   ]
  },
  {
   "cell_type": "code",
   "execution_count": 54,
   "metadata": {},
   "outputs": [
    {
     "data": {
      "text/plain": [
       "<seaborn.axisgrid.FacetGrid at 0x1b63650e670>"
      ]
     },
     "execution_count": 54,
     "metadata": {},
     "output_type": "execute_result"
    },
    {
     "data": {
      "image/png": "[encoded data removed]",
      "text/plain": [
       "<Figure size 1440x360 with 2 Axes>"
      ]
     },
     "metadata": {},
     "output_type": "display_data"
    }
   ],
   "source": [
    "\n",
    "sns.catplot(x = 'Category of latest complaint', data = data1,col='Churned',kind = 'count',height = 5,aspect = 2)\n"
   ]
  },
  {
   "cell_type": "markdown",
   "metadata": {},
   "source": [
    "Customers with Call drop issues and High Billed Amounts have a high likelihood of being churned."
   ]
  },
  {
   "cell_type": "code",
   "execution_count": 55,
   "metadata": {},
   "outputs": [
    {
     "name": "stderr",
     "output_type": "stream",
     "text": [
      "<ipython-input-55-22679d294fe9>:3: SettingWithCopyWarning: \n",
      "A value is trying to be set on a copy of a slice from a DataFrame.\n",
      "Try using .loc[row_indexer,col_indexer] = value instead\n",
      "\n",
      "See the caveats in the documentation: https://pandas.pydata.org/pandas-docs/stable/user_guide/indexing.html#returning-a-view-versus-a-copy\n",
      "  data1['Category of latest complaint'] = data1['Category of latest complaint'].map(v4)\n"
     ]
    },
    {
     "data": {
      "text/plain": [
       "0    7580\n",
       "1    5922\n",
       "2    4330\n",
       "3     265\n",
       "4      29\n",
       "Name: Category of latest complaint, dtype: int64"
      ]
     },
     "execution_count": 55,
     "metadata": {},
     "output_type": "execute_result"
    }
   ],
   "source": [
    "v4 = {'Call Drop':0,'High Billed Amount':1,'Internet Slowness':2,'Data Charges':3,'Network Coverage':4}\n",
    "\n",
    "data1['Category of latest complaint'] = data1['Category of latest complaint'].map(v4)\n",
    "data1['Category of latest complaint'].value_counts()"
   ]
  },
  {
   "cell_type": "markdown",
   "metadata": {},
   "source": [
    "### NPS"
   ]
  },
  {
   "cell_type": "code",
   "execution_count": 56,
   "metadata": {},
   "outputs": [
    {
     "data": {
      "text/plain": [
       " 1    11325\n",
       "-1     4970\n",
       " 0     1831\n",
       "Name: NPS, dtype: int64"
      ]
     },
     "execution_count": 56,
     "metadata": {},
     "output_type": "execute_result"
    }
   ],
   "source": [
    "data1['NPS'].value_counts()"
   ]
  },
  {
   "cell_type": "code",
   "execution_count": 57,
   "metadata": {},
   "outputs": [
    {
     "data": {
      "text/plain": [
       "<seaborn.axisgrid.FacetGrid at 0x1b636515220>"
      ]
     },
     "execution_count": 57,
     "metadata": {},
     "output_type": "execute_result"
    },
    {
     "data": {
      "image/png": "[encoded data removed]",
      "text/plain": [
       "<Figure size 720x360 with 2 Axes>"
      ]
     },
     "metadata": {},
     "output_type": "display_data"
    }
   ],
   "source": [
    "sns.catplot(x = 'NPS', data = data1,col = 'Churned',kind = 'count')"
   ]
  },
  {
   "cell_type": "markdown",
   "metadata": {},
   "source": [
    "### Multiple Products"
   ]
  },
  {
   "cell_type": "code",
   "execution_count": 58,
   "metadata": {},
   "outputs": [
    {
     "data": {
      "text/plain": [
       "Yes    10963\n",
       "No      7163\n",
       "Name: Multiple Products, dtype: int64"
      ]
     },
     "execution_count": 58,
     "metadata": {},
     "output_type": "execute_result"
    }
   ],
   "source": [
    "data1['Multiple Products'].value_counts()"
   ]
  },
  {
   "cell_type": "code",
   "execution_count": 59,
   "metadata": {},
   "outputs": [
    {
     "data": {
      "text/html": [
       "<div>\n",
       "<style scoped>\n",
       "    .dataframe tbody tr th:only-of-type {\n",
       "        vertical-align: middle;\n",
       "    }\n",
       "\n",
       "    .dataframe tbody tr th {\n",
       "        vertical-align: top;\n",
       "    }\n",
       "\n",
       "    .dataframe thead th {\n",
       "        text-align: right;\n",
       "    }\n",
       "</style>\n",
       "<table border=\"1\" class=\"dataframe\">\n",
       "  <thead>\n",
       "    <tr style=\"text-align: right;\">\n",
       "      <th>Multiple Products</th>\n",
       "      <th>No</th>\n",
       "      <th>Yes</th>\n",
       "    </tr>\n",
       "    <tr>\n",
       "      <th>Churned</th>\n",
       "      <th></th>\n",
       "      <th></th>\n",
       "    </tr>\n",
       "  </thead>\n",
       "  <tbody>\n",
       "    <tr>\n",
       "      <th>0</th>\n",
       "      <td>7163</td>\n",
       "      <td>9187</td>\n",
       "    </tr>\n",
       "    <tr>\n",
       "      <th>1</th>\n",
       "      <td>0</td>\n",
       "      <td>1776</td>\n",
       "    </tr>\n",
       "  </tbody>\n",
       "</table>\n",
       "</div>"
      ],
      "text/plain": [
       "Multiple Products    No   Yes\n",
       "Churned                      \n",
       "0                  7163  9187\n",
       "1                     0  1776"
      ]
     },
     "execution_count": 59,
     "metadata": {},
     "output_type": "execute_result"
    }
   ],
   "source": [
    "pd.crosstab(data1['Churned'],data1['Multiple Products'])"
   ]
  },
  {
   "cell_type": "code",
   "execution_count": 60,
   "metadata": {},
   "outputs": [
    {
     "data": {
      "text/plain": [
       "<seaborn.axisgrid.FacetGrid at 0x1b636135100>"
      ]
     },
     "execution_count": 60,
     "metadata": {},
     "output_type": "execute_result"
    },
    {
     "data": {
      "image/png": "[encoded data removed]",
      "text/plain": [
       "<Figure size 720x360 with 2 Axes>"
      ]
     },
     "metadata": {},
     "output_type": "display_data"
    }
   ],
   "source": [
    "sns.catplot(x = 'Multiple Products', data =data1, col = 'Churned',kind = 'count')"
   ]
  },
  {
   "cell_type": "code",
   "execution_count": 61,
   "metadata": {},
   "outputs": [
    {
     "name": "stderr",
     "output_type": "stream",
     "text": [
      "<ipython-input-61-9169ad6f347c>:1: SettingWithCopyWarning: \n",
      "A value is trying to be set on a copy of a slice from a DataFrame.\n",
      "Try using .loc[row_indexer,col_indexer] = value instead\n",
      "\n",
      "See the caveats in the documentation: https://pandas.pydata.org/pandas-docs/stable/user_guide/indexing.html#returning-a-view-versus-a-copy\n",
      "  data1['Multiple Products'] = data1['Multiple Products'].map({'Yes':1,'No':0})\n"
     ]
    }
   ],
   "source": [
    "data1['Multiple Products'] = data1['Multiple Products'].map({'Yes':1,'No':0})"
   ]
  },
  {
   "cell_type": "code",
   "execution_count": 62,
   "metadata": {},
   "outputs": [
    {
     "data": {
      "text/plain": [
       "count    18126.000000\n",
       "mean         0.604822\n",
       "std          0.488902\n",
       "min          0.000000\n",
       "25%          0.000000\n",
       "50%          1.000000\n",
       "75%          1.000000\n",
       "max          1.000000\n",
       "Name: Multiple Products, dtype: float64"
      ]
     },
     "execution_count": 62,
     "metadata": {},
     "output_type": "execute_result"
    }
   ],
   "source": [
    "data1['Multiple Products'].describe()"
   ]
  },
  {
   "cell_type": "markdown",
   "metadata": {},
   "source": [
    "Definite Link between a Customer using multiple products and getting churned."
   ]
  },
  {
   "cell_type": "markdown",
   "metadata": {},
   "source": [
    "# Product"
   ]
  },
  {
   "cell_type": "code",
   "execution_count": 63,
   "metadata": {},
   "outputs": [
    {
     "data": {
      "text/plain": [
       "Mobile              18119\n",
       "Fixed Line              5\n",
       "Internet Service        2\n",
       "Name: Product, dtype: int64"
      ]
     },
     "execution_count": 63,
     "metadata": {},
     "output_type": "execute_result"
    }
   ],
   "source": [
    "data1['Product'].value_counts()"
   ]
  },
  {
   "cell_type": "code",
   "execution_count": 64,
   "metadata": {},
   "outputs": [
    {
     "data": {
      "text/html": [
       "<div>\n",
       "<style scoped>\n",
       "    .dataframe tbody tr th:only-of-type {\n",
       "        vertical-align: middle;\n",
       "    }\n",
       "\n",
       "    .dataframe tbody tr th {\n",
       "        vertical-align: top;\n",
       "    }\n",
       "\n",
       "    .dataframe thead th {\n",
       "        text-align: right;\n",
       "    }\n",
       "</style>\n",
       "<table border=\"1\" class=\"dataframe\">\n",
       "  <thead>\n",
       "    <tr style=\"text-align: right;\">\n",
       "      <th>Product</th>\n",
       "      <th>Fixed Line</th>\n",
       "      <th>Internet Service</th>\n",
       "      <th>Mobile</th>\n",
       "    </tr>\n",
       "    <tr>\n",
       "      <th>Churned</th>\n",
       "      <th></th>\n",
       "      <th></th>\n",
       "      <th></th>\n",
       "    </tr>\n",
       "  </thead>\n",
       "  <tbody>\n",
       "    <tr>\n",
       "      <th>0</th>\n",
       "      <td>4</td>\n",
       "      <td>1</td>\n",
       "      <td>16345</td>\n",
       "    </tr>\n",
       "    <tr>\n",
       "      <th>1</th>\n",
       "      <td>1</td>\n",
       "      <td>1</td>\n",
       "      <td>1774</td>\n",
       "    </tr>\n",
       "  </tbody>\n",
       "</table>\n",
       "</div>"
      ],
      "text/plain": [
       "Product  Fixed Line  Internet Service  Mobile\n",
       "Churned                                      \n",
       "0                 4                 1   16345\n",
       "1                 1                 1    1774"
      ]
     },
     "execution_count": 64,
     "metadata": {},
     "output_type": "execute_result"
    }
   ],
   "source": [
    "pd.crosstab(data1['Churned'],data1['Product'])"
   ]
  },
  {
   "cell_type": "markdown",
   "metadata": {},
   "source": [
    "# Customer Segment"
   ]
  },
  {
   "cell_type": "code",
   "execution_count": 65,
   "metadata": {},
   "outputs": [
    {
     "data": {
      "text/plain": [
       "Independents                 5652\n",
       "Family & Self Development    2661\n",
       "Friends, Fun & Fashion       2589\n",
       "Principled Professional      2534\n",
       "Small Business               2373\n",
       "Entrepreneur                 2317\n",
       "Name: Customer Segment, dtype: int64"
      ]
     },
     "execution_count": 65,
     "metadata": {},
     "output_type": "execute_result"
    }
   ],
   "source": [
    "data1['Customer Segment'].value_counts()"
   ]
  },
  {
   "cell_type": "code",
   "execution_count": 66,
   "metadata": {},
   "outputs": [
    {
     "data": {
      "text/html": [
       "<div>\n",
       "<style scoped>\n",
       "    .dataframe tbody tr th:only-of-type {\n",
       "        vertical-align: middle;\n",
       "    }\n",
       "\n",
       "    .dataframe tbody tr th {\n",
       "        vertical-align: top;\n",
       "    }\n",
       "\n",
       "    .dataframe thead th {\n",
       "        text-align: right;\n",
       "    }\n",
       "</style>\n",
       "<table border=\"1\" class=\"dataframe\">\n",
       "  <thead>\n",
       "    <tr style=\"text-align: right;\">\n",
       "      <th>Customer Segment</th>\n",
       "      <th>Entrepreneur</th>\n",
       "      <th>Family &amp; Self Development</th>\n",
       "      <th>Friends, Fun &amp; Fashion</th>\n",
       "      <th>Independents</th>\n",
       "      <th>Principled Professional</th>\n",
       "      <th>Small Business</th>\n",
       "    </tr>\n",
       "    <tr>\n",
       "      <th>Churned</th>\n",
       "      <th></th>\n",
       "      <th></th>\n",
       "      <th></th>\n",
       "      <th></th>\n",
       "      <th></th>\n",
       "      <th></th>\n",
       "    </tr>\n",
       "  </thead>\n",
       "  <tbody>\n",
       "    <tr>\n",
       "      <th>0</th>\n",
       "      <td>2317</td>\n",
       "      <td>2406</td>\n",
       "      <td>2306</td>\n",
       "      <td>4635</td>\n",
       "      <td>2313</td>\n",
       "      <td>2373</td>\n",
       "    </tr>\n",
       "    <tr>\n",
       "      <th>1</th>\n",
       "      <td>0</td>\n",
       "      <td>255</td>\n",
       "      <td>283</td>\n",
       "      <td>1017</td>\n",
       "      <td>221</td>\n",
       "      <td>0</td>\n",
       "    </tr>\n",
       "  </tbody>\n",
       "</table>\n",
       "</div>"
      ],
      "text/plain": [
       "Customer Segment  Entrepreneur  Family & Self Development  \\\n",
       "Churned                                                     \n",
       "0                         2317                       2406   \n",
       "1                            0                        255   \n",
       "\n",
       "Customer Segment  Friends, Fun & Fashion  Independents  \\\n",
       "Churned                                                  \n",
       "0                                   2306          4635   \n",
       "1                                    283          1017   \n",
       "\n",
       "Customer Segment  Principled Professional  Small Business  \n",
       "Churned                                                    \n",
       "0                                    2313            2373  \n",
       "1                                     221               0  "
      ]
     },
     "execution_count": 66,
     "metadata": {},
     "output_type": "execute_result"
    }
   ],
   "source": [
    "pd.crosstab(data1['Churned'],data1['Customer Segment'])"
   ]
  },
  {
   "cell_type": "code",
   "execution_count": 67,
   "metadata": {},
   "outputs": [
    {
     "data": {
      "text/plain": [
       "<seaborn.axisgrid.FacetGrid at 0x1b6367e3fa0>"
      ]
     },
     "execution_count": 67,
     "metadata": {},
     "output_type": "execute_result"
    },
    {
     "data": {
      "image/png": "[encoded data removed]",
      "text/plain": [
       "<Figure size 1440x360 with 2 Axes>"
      ]
     },
     "metadata": {},
     "output_type": "display_data"
    }
   ],
   "source": [
    "sns.catplot(x = 'Customer Segment', data = data1, col = 'Churned', kind = 'count',height = 5, aspect = 2)"
   ]
  },
  {
   "cell_type": "markdown",
   "metadata": {},
   "source": [
    "Being an independent seems to make it likelier that a customer was churned"
   ]
  },
  {
   "cell_type": "code",
   "execution_count": 68,
   "metadata": {},
   "outputs": [
    {
     "name": "stderr",
     "output_type": "stream",
     "text": [
      "<ipython-input-68-5392ed1e7a5a>:3: SettingWithCopyWarning: \n",
      "A value is trying to be set on a copy of a slice from a DataFrame.\n",
      "Try using .loc[row_indexer,col_indexer] = value instead\n",
      "\n",
      "See the caveats in the documentation: https://pandas.pydata.org/pandas-docs/stable/user_guide/indexing.html#returning-a-view-versus-a-copy\n",
      "  data1['Customer Segment'] = data1['Customer Segment'].map(v4)\n"
     ]
    },
    {
     "data": {
      "text/plain": [
       "0    5652\n",
       "1    2661\n",
       "2    2589\n",
       "3    2534\n",
       "4    2373\n",
       "5    2317\n",
       "Name: Customer Segment, dtype: int64"
      ]
     },
     "execution_count": 68,
     "metadata": {},
     "output_type": "execute_result"
    }
   ],
   "source": [
    "v4 = {'Independents':0,'Family & Self Development':1,'Friends, Fun & Fashion':2,'Principled Professional':3,'Small Business':4,'Entrepreneur':5}\n",
    "\n",
    "data1['Customer Segment'] = data1['Customer Segment'].map(v4)\n",
    "\n",
    "data1['Customer Segment'].value_counts()"
   ]
  },
  {
   "cell_type": "markdown",
   "metadata": {},
   "source": [
    "### Product Category"
   ]
  },
  {
   "cell_type": "code",
   "execution_count": 69,
   "metadata": {},
   "outputs": [
    {
     "data": {
      "text/plain": [
       "Fixed line    3481\n",
       "Mobile        3274\n",
       "Internet      3006\n",
       "Bundle        2938\n",
       "Cable         2714\n",
       "ADSL          2713\n",
       "Name: Product Category, dtype: int64"
      ]
     },
     "execution_count": 69,
     "metadata": {},
     "output_type": "execute_result"
    }
   ],
   "source": [
    "data1['Product Category'].value_counts()"
   ]
  },
  {
   "cell_type": "code",
   "execution_count": 70,
   "metadata": {},
   "outputs": [
    {
     "data": {
      "text/html": [
       "<div>\n",
       "<style scoped>\n",
       "    .dataframe tbody tr th:only-of-type {\n",
       "        vertical-align: middle;\n",
       "    }\n",
       "\n",
       "    .dataframe tbody tr th {\n",
       "        vertical-align: top;\n",
       "    }\n",
       "\n",
       "    .dataframe thead th {\n",
       "        text-align: right;\n",
       "    }\n",
       "</style>\n",
       "<table border=\"1\" class=\"dataframe\">\n",
       "  <thead>\n",
       "    <tr style=\"text-align: right;\">\n",
       "      <th>Product Category</th>\n",
       "      <th>ADSL</th>\n",
       "      <th>Bundle</th>\n",
       "      <th>Cable</th>\n",
       "      <th>Fixed line</th>\n",
       "      <th>Internet</th>\n",
       "      <th>Mobile</th>\n",
       "    </tr>\n",
       "    <tr>\n",
       "      <th>Churned</th>\n",
       "      <th></th>\n",
       "      <th></th>\n",
       "      <th></th>\n",
       "      <th></th>\n",
       "      <th></th>\n",
       "      <th></th>\n",
       "    </tr>\n",
       "  </thead>\n",
       "  <tbody>\n",
       "    <tr>\n",
       "      <th>0</th>\n",
       "      <td>2710</td>\n",
       "      <td>2693</td>\n",
       "      <td>2714</td>\n",
       "      <td>2707</td>\n",
       "      <td>2752</td>\n",
       "      <td>2774</td>\n",
       "    </tr>\n",
       "    <tr>\n",
       "      <th>1</th>\n",
       "      <td>3</td>\n",
       "      <td>245</td>\n",
       "      <td>0</td>\n",
       "      <td>774</td>\n",
       "      <td>254</td>\n",
       "      <td>500</td>\n",
       "    </tr>\n",
       "  </tbody>\n",
       "</table>\n",
       "</div>"
      ],
      "text/plain": [
       "Product Category  ADSL  Bundle  Cable  Fixed line  Internet  Mobile\n",
       "Churned                                                            \n",
       "0                 2710    2693   2714        2707      2752    2774\n",
       "1                    3     245      0         774       254     500"
      ]
     },
     "execution_count": 70,
     "metadata": {},
     "output_type": "execute_result"
    }
   ],
   "source": [
    "pd.crosstab(data1['Churned'],data1['Product Category'])"
   ]
  },
  {
   "cell_type": "code",
   "execution_count": 71,
   "metadata": {},
   "outputs": [
    {
     "data": {
      "text/plain": [
       "<seaborn.axisgrid.FacetGrid at 0x1b6364f8e20>"
      ]
     },
     "execution_count": 71,
     "metadata": {},
     "output_type": "execute_result"
    },
    {
     "data": {
      "image/png": "[encoded data removed]",
      "text/plain": [
       "<Figure size 720x360 with 2 Axes>"
      ]
     },
     "metadata": {},
     "output_type": "display_data"
    }
   ],
   "source": [
    "sns.catplot(x = 'Product Category', data =data1,col = 'Churned',kind = 'count')"
   ]
  },
  {
   "cell_type": "markdown",
   "metadata": {},
   "source": [
    "Fixed Line Product, Mobile Category, Bundle Services and Internet related services are likelier to be Churned"
   ]
  },
  {
   "cell_type": "code",
   "execution_count": 72,
   "metadata": {},
   "outputs": [
    {
     "name": "stderr",
     "output_type": "stream",
     "text": [
      "<ipython-input-72-111070cd863a>:3: SettingWithCopyWarning: \n",
      "A value is trying to be set on a copy of a slice from a DataFrame.\n",
      "Try using .loc[row_indexer,col_indexer] = value instead\n",
      "\n",
      "See the caveats in the documentation: https://pandas.pydata.org/pandas-docs/stable/user_guide/indexing.html#returning-a-view-versus-a-copy\n",
      "  data1['Product Category'] = data1['Product Category'].map(v6)\n"
     ]
    }
   ],
   "source": [
    "v6 = {'Fixed line':0,'Mobile':1,'Internet':2,'Bundle':3,'Cable':4,'ADSL':5}\n",
    "\n",
    "data1['Product Category'] = data1['Product Category'].map(v6)\n",
    "\n"
   ]
  },
  {
   "cell_type": "code",
   "execution_count": 73,
   "metadata": {},
   "outputs": [
    {
     "data": {
      "text/plain": [
       "0    3481\n",
       "1    3274\n",
       "2    3006\n",
       "3    2938\n",
       "4    2714\n",
       "5    2713\n",
       "Name: Product Category, dtype: int64"
      ]
     },
     "execution_count": 73,
     "metadata": {},
     "output_type": "execute_result"
    }
   ],
   "source": [
    "data1['Product Category'].value_counts()"
   ]
  },
  {
   "cell_type": "markdown",
   "metadata": {},
   "source": [
    "### Bill Amount"
   ]
  },
  {
   "cell_type": "code",
   "execution_count": 74,
   "metadata": {},
   "outputs": [
    {
     "data": {
      "text/plain": [
       "count    18126.000000\n",
       "mean       215.803376\n",
       "std        378.879019\n",
       "min          0.000000\n",
       "25%         87.000000\n",
       "50%        147.000000\n",
       "75%        244.000000\n",
       "max      29592.000000\n",
       "Name: Bill Amount, dtype: float64"
      ]
     },
     "execution_count": 74,
     "metadata": {},
     "output_type": "execute_result"
    }
   ],
   "source": [
    "data1['Bill Amount'].describe()"
   ]
  },
  {
   "cell_type": "code",
   "execution_count": 75,
   "metadata": {
    "scrolled": true
   },
   "outputs": [
    {
     "name": "stderr",
     "output_type": "stream",
     "text": [
      "D:\\Games\\Anaconda\\lib\\site-packages\\seaborn\\distributions.py:2551: FutureWarning: `distplot` is a deprecated function and will be removed in a future version. Please adapt your code to use either `displot` (a figure-level function with similar flexibility) or `histplot` (an axes-level function for histograms).\n",
      "  warnings.warn(msg, FutureWarning)\n"
     ]
    },
    {
     "data": {
      "text/plain": [
       "<AxesSubplot:xlabel='Bill Amount', ylabel='Density'>"
      ]
     },
     "execution_count": 75,
     "metadata": {},
     "output_type": "execute_result"
    },
    {
     "data": {
      "image/png": "[encoded data removed]",
      "text/plain": [
       "<Figure size 432x288 with 1 Axes>"
      ]
     },
     "metadata": {},
     "output_type": "display_data"
    }
   ],
   "source": [
    "sns.distplot(data1['Bill Amount'])"
   ]
  },
  {
   "cell_type": "code",
   "execution_count": 76,
   "metadata": {},
   "outputs": [
    {
     "name": "stderr",
     "output_type": "stream",
     "text": [
      "<ipython-input-76-4f09e7ff0d17>:1: UserWarning: Boolean Series key will be reindexed to match DataFrame index.\n",
      "  x = data1[data['Bill Amount'] > 250]\n"
     ]
    },
    {
     "data": {
      "text/plain": [
       "0    3906\n",
       "1     413\n",
       "Name: Churned, dtype: int64"
      ]
     },
     "execution_count": 76,
     "metadata": {},
     "output_type": "execute_result"
    }
   ],
   "source": [
    "x = data1[data['Bill Amount'] > 250]\n",
    "\n",
    "x['Churned'].value_counts()"
   ]
  },
  {
   "cell_type": "markdown",
   "metadata": {},
   "source": [
    "approximately 10 percent of those with greater than 75percentile  bills were churned."
   ]
  },
  {
   "cell_type": "markdown",
   "metadata": {},
   "source": [
    "'District', 'Area', 'Concesssion Card',\n",
    "       'INBOUNDCALLS', 'OUTBOUNDCALLS', 'Relationship (months)',\n",
    "       'Occupier Status', 'Multiple Fuel', 'Bill Delivery Method', 'rpart',\n",
    "       'Category of latest complaint', 'NPS', 'Product', 'Multiple Products',\n",
    "       'Product_New', 'Adjusted Prob for 50% Cut-off (without Formulae)',\n",
    "       'Customer Segment', 'Product Category', 'Bill Amount'],"
   ]
  },
  {
   "cell_type": "code",
   "execution_count": 77,
   "metadata": {},
   "outputs": [
    {
     "name": "stderr",
     "output_type": "stream",
     "text": [
      "D:\\Games\\Anaconda\\lib\\site-packages\\pandas\\core\\frame.py:4163: SettingWithCopyWarning: \n",
      "A value is trying to be set on a copy of a slice from a DataFrame\n",
      "\n",
      "See the caveats in the documentation: https://pandas.pydata.org/pandas-docs/stable/user_guide/indexing.html#returning-a-view-versus-a-copy\n",
      "  return super().drop(\n"
     ]
    }
   ],
   "source": [
    "dropped = ['rpart','Adjusted Prob for 50% Cut-off (without Formulae)']\n",
    "data1.drop(dropped,axis = 1,inplace = True)"
   ]
  },
  {
   "cell_type": "code",
   "execution_count": 78,
   "metadata": {},
   "outputs": [
    {
     "data": {
      "text/plain": [
       "<AxesSubplot:>"
      ]
     },
     "execution_count": 78,
     "metadata": {},
     "output_type": "execute_result"
    },
    {
     "data": {
      "image/png": "[encoded data removed]",
      "text/plain": [
       "<Figure size 1080x576 with 1 Axes>"
      ]
     },
     "metadata": {},
     "output_type": "display_data"
    }
   ],
   "source": [
    "plt.figure(figsize=(15,8))\n",
    "data1.corr()['Churned'].sort_values(ascending = False).plot(kind='bar')"
   ]
  },
  {
   "cell_type": "markdown",
   "metadata": {},
   "source": [
    "# Logit Regression"
   ]
  },
  {
   "cell_type": "code",
   "execution_count": 79,
   "metadata": {},
   "outputs": [],
   "source": [
    "from sklearn.model_selection import train_test_split"
   ]
  },
  {
   "cell_type": "code",
   "execution_count": 80,
   "metadata": {},
   "outputs": [],
   "source": [
    "#split data set into train and test set. 80-20 split.\n",
    "\n",
    "train, test = train_test_split(data1, test_size = 0.2 )\n"
   ]
  },
  {
   "cell_type": "code",
   "execution_count": 81,
   "metadata": {},
   "outputs": [
    {
     "data": {
      "text/plain": [
       "(14500, 24)"
      ]
     },
     "execution_count": 81,
     "metadata": {},
     "output_type": "execute_result"
    }
   ],
   "source": [
    "train.shape"
   ]
  },
  {
   "cell_type": "code",
   "execution_count": 82,
   "metadata": {},
   "outputs": [
    {
     "data": {
      "text/plain": [
       "(3626, 24)"
      ]
     },
     "execution_count": 82,
     "metadata": {},
     "output_type": "execute_result"
    }
   ],
   "source": [
    "test.shape"
   ]
  },
  {
   "cell_type": "markdown",
   "metadata": {},
   "source": [
    "### Train the Model"
   ]
  },
  {
   "cell_type": "code",
   "execution_count": 64,
   "metadata": {},
   "outputs": [],
   "source": [
    "y = train['Churned']\n",
    "\n",
    "estimators = ['Age','Concesssion Card','Category of latest complaint','Customer Segment','Product Category','NPS','Bill Amount']\n",
    "\n",
    "x1 = train[estimators]"
   ]
  },
  {
   "cell_type": "code",
   "execution_count": 65,
   "metadata": {},
   "outputs": [
    {
     "data": {
      "text/plain": [
       "(14500, 7)"
      ]
     },
     "execution_count": 65,
     "metadata": {},
     "output_type": "execute_result"
    }
   ],
   "source": [
    "x1.shape"
   ]
  },
  {
   "cell_type": "code",
   "execution_count": 66,
   "metadata": {},
   "outputs": [
    {
     "data": {
      "text/plain": [
       "(14500,)"
      ]
     },
     "execution_count": 66,
     "metadata": {},
     "output_type": "execute_result"
    }
   ],
   "source": [
    "y.shape"
   ]
  },
  {
   "cell_type": "code",
   "execution_count": 67,
   "metadata": {
    "collapsed": true,
    "jupyter": {
     "outputs_hidden": true
    },
    "scrolled": true
   },
   "outputs": [
    {
     "name": "stdout",
     "output_type": "stream",
     "text": [
      "Optimization terminated successfully.\n",
      "         Current function value: 0.201449\n",
      "         Iterations 8\n"
     ]
    },
    {
     "data": {
      "text/html": [
       "<table class=\"simpletable\">\n",
       "<caption>Logit Regression Results</caption>\n",
       "<tr>\n",
       "  <th>Dep. Variable:</th>        <td>Churned</td>     <th>  No. Observations:  </th>  <td> 14500</td> \n",
       "</tr>\n",
       "<tr>\n",
       "  <th>Model:</th>                 <td>Logit</td>      <th>  Df Residuals:      </th>  <td> 14492</td> \n",
       "</tr>\n",
       "<tr>\n",
       "  <th>Method:</th>                 <td>MLE</td>       <th>  Df Model:          </th>  <td>     7</td> \n",
       "</tr>\n",
       "<tr>\n",
       "  <th>Date:</th>            <td>Fri, 05 Feb 2021</td> <th>  Pseudo R-squ.:     </th>  <td>0.3614</td> \n",
       "</tr>\n",
       "<tr>\n",
       "  <th>Time:</th>                <td>03:49:51</td>     <th>  Log-Likelihood:    </th> <td> -2921.0</td>\n",
       "</tr>\n",
       "<tr>\n",
       "  <th>converged:</th>             <td>True</td>       <th>  LL-Null:           </th> <td> -4573.7</td>\n",
       "</tr>\n",
       "<tr>\n",
       "  <th>Covariance Type:</th>     <td>nonrobust</td>    <th>  LLR p-value:       </th>  <td> 0.000</td> \n",
       "</tr>\n",
       "</table>\n",
       "<table class=\"simpletable\">\n",
       "<tr>\n",
       "                <td></td>                  <th>coef</th>     <th>std err</th>      <th>z</th>      <th>P>|z|</th>  <th>[0.025</th>    <th>0.975]</th>  \n",
       "</tr>\n",
       "<tr>\n",
       "  <th>const</th>                        <td>    1.2785</td> <td>    0.125</td> <td>   10.255</td> <td> 0.000</td> <td>    1.034</td> <td>    1.523</td>\n",
       "</tr>\n",
       "<tr>\n",
       "  <th>Age</th>                          <td>   -0.0204</td> <td>    0.002</td> <td>   -8.761</td> <td> 0.000</td> <td>   -0.025</td> <td>   -0.016</td>\n",
       "</tr>\n",
       "<tr>\n",
       "  <th>Concesssion Card</th>             <td>   -0.3775</td> <td>    0.098</td> <td>   -3.866</td> <td> 0.000</td> <td>   -0.569</td> <td>   -0.186</td>\n",
       "</tr>\n",
       "<tr>\n",
       "  <th>Category of latest complaint</th> <td>   -0.9650</td> <td>    0.051</td> <td>  -18.810</td> <td> 0.000</td> <td>   -1.066</td> <td>   -0.864</td>\n",
       "</tr>\n",
       "<tr>\n",
       "  <th>Customer Segment</th>             <td>   -0.5478</td> <td>    0.025</td> <td>  -21.855</td> <td> 0.000</td> <td>   -0.597</td> <td>   -0.499</td>\n",
       "</tr>\n",
       "<tr>\n",
       "  <th>Product Category</th>             <td>   -0.6531</td> <td>    0.026</td> <td>  -25.144</td> <td> 0.000</td> <td>   -0.704</td> <td>   -0.602</td>\n",
       "</tr>\n",
       "<tr>\n",
       "  <th>NPS</th>                          <td>   -0.9820</td> <td>    0.038</td> <td>  -26.181</td> <td> 0.000</td> <td>   -1.056</td> <td>   -0.908</td>\n",
       "</tr>\n",
       "<tr>\n",
       "  <th>Bill Amount</th>                  <td>-8.612e-06</td> <td>    0.000</td> <td>   -0.085</td> <td> 0.932</td> <td>   -0.000</td> <td>    0.000</td>\n",
       "</tr>\n",
       "</table>"
      ],
      "text/plain": [
       "<class 'statsmodels.iolib.summary.Summary'>\n",
       "\"\"\"\n",
       "                           Logit Regression Results                           \n",
       "==============================================================================\n",
       "Dep. Variable:                Churned   No. Observations:                14500\n",
       "Model:                          Logit   Df Residuals:                    14492\n",
       "Method:                           MLE   Df Model:                            7\n",
       "Date:                Fri, 05 Feb 2021   Pseudo R-squ.:                  0.3614\n",
       "Time:                        03:49:51   Log-Likelihood:                -2921.0\n",
       "converged:                       True   LL-Null:                       -4573.7\n",
       "Covariance Type:            nonrobust   LLR p-value:                     0.000\n",
       "================================================================================================\n",
       "                                   coef    std err          z      P>|z|      [0.025      0.975]\n",
       "------------------------------------------------------------------------------------------------\n",
       "const                            1.2785      0.125     10.255      0.000       1.034       1.523\n",
       "Age                             -0.0204      0.002     -8.761      0.000      -0.025      -0.016\n",
       "Concesssion Card                -0.3775      0.098     -3.866      0.000      -0.569      -0.186\n",
       "Category of latest complaint    -0.9650      0.051    -18.810      0.000      -1.066      -0.864\n",
       "Customer Segment                -0.5478      0.025    -21.855      0.000      -0.597      -0.499\n",
       "Product Category                -0.6531      0.026    -25.144      0.000      -0.704      -0.602\n",
       "NPS                             -0.9820      0.038    -26.181      0.000      -1.056      -0.908\n",
       "Bill Amount                  -8.612e-06      0.000     -0.085      0.932      -0.000       0.000\n",
       "================================================================================================\n",
       "\"\"\""
      ]
     },
     "execution_count": 67,
     "metadata": {},
     "output_type": "execute_result"
    }
   ],
   "source": [
    "x = sm.add_constant(x1)\n",
    "reg_log = sm.Logit(y,x)\n",
    "results = reg_log.fit()\n",
    "results.summary()"
   ]
  },
  {
   "cell_type": "markdown",
   "metadata": {},
   "source": [
    "- MLE : Maximum Likelihood Estimation. How likely is it that the model descirbes the underlying logic to the variables. Bigger is better\n",
    "\n",
    "- Log Likelihood: Almost always negative. Bigger is better\n",
    "\n",
    "- LLR p-value: is model statistically significant. Yes it is.\n",
    "\n",
    "- Pseudo R-square (McFadden R-square): Good model will have values between 0.2 and 0.4. But really only used for    comparison purposes.\n",
    "\n",
    "- Including Multiple Products as a independent variable results in a quasi-complete separation 'error' 39 percent values are \n",
    "  predicted perfectly.\n",
    "  \n",
    "- A complete separation in a logistic regression, sometimes also referred as perfect prediction,  happens when the outcome variable separates a predictor variable completely. Below is an example data set, where Y is the outcome variable, and X1 and X2 are predictor variables. \n",
    "\n",
    "- Quasi-complete separation in logistic regression happens when the outcome variable separates a predictor variable or a combination of predictor variables almost completely. \n",
    "\n",
    "- https://stats.idre.ucla.edu/other/mult-pkg/faq/general/faqwhat-is-complete-or-quasi-complete-separation-in-logistic-regression-and-what-are-some-strategies-to-deal-with-the-issue/"
   ]
  },
  {
   "cell_type": "markdown",
   "metadata": {},
   "source": [
    "### Model Equation\n",
    "\n",
    "log(churn/notchurn) = 1.209 -0.0183*AGE -0.4079*CONCESSION -0.8966*COMPLAINT -0.539SEGMENT -0.66*PRODUCT -0.96*NPS\n",
    "\n",
    "- Bill Amount is statistically insignificant"
   ]
  },
  {
   "cell_type": "code",
   "execution_count": 75,
   "metadata": {},
   "outputs": [],
   "source": [
    "def confusion_matrix(exog,endog,model):\n",
    "        \n",
    "        #Predict the values using the Logit model\n",
    "        pred_values = model.predict(exog)\n",
    "        # Specify the bins \n",
    "        bins=np.array([0,0.5,1])\n",
    "        # Create a histogram, where if values are between 0 and 0.5 tell will be considered 0\n",
    "        # if they are between 0.5 and 1, they will be considered 1\n",
    "        cm = np.histogram2d(endog, pred_values, bins=bins)[0]\n",
    "        # Calculate the accuracy\n",
    "        accuracy = (cm[0,0]+cm[1,1])/cm.sum()\n",
    "        # Return the confusion matrix and \n",
    "        return cm, 100*accuracy"
   ]
  },
  {
   "cell_type": "code",
   "execution_count": 76,
   "metadata": {},
   "outputs": [
    {
     "data": {
      "text/plain": [
       "(array([[12851.,   262.],\n",
       "        [  898.,   489.]]),\n",
       " 92.0)"
      ]
     },
     "execution_count": 76,
     "metadata": {},
     "output_type": "execute_result"
    }
   ],
   "source": [
    "confusion_matrix(x,y,results)\n"
   ]
  },
  {
   "cell_type": "markdown",
   "metadata": {},
   "source": [
    "## Predict the Model on Test Set"
   ]
  },
  {
   "cell_type": "code",
   "execution_count": 77,
   "metadata": {},
   "outputs": [],
   "source": [
    "yt = test['Churned']\n",
    "\n",
    "estimators = ['Age','Concesssion Card','Category of latest complaint','Customer Segment','Product Category','NPS','Bill Amount']\n",
    "\n",
    "x1t = test[estimators]\n",
    "\n"
   ]
  },
  {
   "cell_type": "code",
   "execution_count": 78,
   "metadata": {},
   "outputs": [],
   "source": [
    "xt = sm.add_constant(x1t)"
   ]
  },
  {
   "cell_type": "code",
   "execution_count": 79,
   "metadata": {},
   "outputs": [
    {
     "data": {
      "text/plain": [
       "(array([[3169.,   68.],\n",
       "        [ 256.,  133.]]),\n",
       " 91.06453392167678)"
      ]
     },
     "execution_count": 79,
     "metadata": {},
     "output_type": "execute_result"
    }
   ],
   "source": [
    "confusion_matrix(xt, yt, results)"
   ]
  },
  {
   "cell_type": "markdown",
   "metadata": {},
   "source": [
    "91 percent accuracy on test data"
   ]
  },
  {
   "cell_type": "markdown",
   "metadata": {},
   "source": [
    "# Refresh"
   ]
  },
  {
   "cell_type": "code",
   "execution_count": 71,
   "metadata": {},
   "outputs": [],
   "source": [
    "from sklearn.model_selection import train_test_split"
   ]
  },
  {
   "cell_type": "code",
   "execution_count": 72,
   "metadata": {},
   "outputs": [],
   "source": [
    "#split data set into train and test set. 80-20 split.\n",
    "\n",
    "train, test = train_test_split(data1, test_size = 0.2 )\n"
   ]
  },
  {
   "cell_type": "code",
   "execution_count": 73,
   "metadata": {},
   "outputs": [
    {
     "data": {
      "text/plain": [
       "(14500, 26)"
      ]
     },
     "execution_count": 73,
     "metadata": {},
     "output_type": "execute_result"
    }
   ],
   "source": [
    "train.shape"
   ]
  },
  {
   "cell_type": "code",
   "execution_count": 74,
   "metadata": {},
   "outputs": [
    {
     "data": {
      "text/plain": [
       "(3626, 26)"
      ]
     },
     "execution_count": 74,
     "metadata": {},
     "output_type": "execute_result"
    }
   ],
   "source": [
    "test.shape"
   ]
  },
  {
   "cell_type": "markdown",
   "metadata": {},
   "source": [
    "### Train"
   ]
  },
  {
   "cell_type": "code",
   "execution_count": 76,
   "metadata": {},
   "outputs": [
    {
     "data": {
      "text/plain": [
       "Index(['Customer ID', 'Churned', 'Age', 'Average Bill over 6 months',\n",
       "       'Average Bill over 12 months', 'Number of defaults in last 12 bills',\n",
       "       'Payment Method', 'District', 'Area', 'Concesssion Card',\n",
       "       'INBOUNDCALLS', 'OUTBOUNDCALLS', 'Relationship (months)',\n",
       "       'Occupier Status', 'Multiple Fuel', 'Bill Delivery Method', 'rpart',\n",
       "       'Category of latest complaint', 'NPS', 'Product', 'Multiple Products',\n",
       "       'Product_New', 'Adjusted Prob for 50% Cut-off (without Formulae)',\n",
       "       'Customer Segment', 'Product Category', 'Bill Amount'],\n",
       "      dtype='object')"
      ]
     },
     "execution_count": 76,
     "metadata": {},
     "output_type": "execute_result"
    }
   ],
   "source": [
    "train.columns"
   ]
  },
  {
   "cell_type": "code",
   "execution_count": 83,
   "metadata": {},
   "outputs": [
    {
     "data": {
      "text/plain": [
       "<AxesSubplot:>"
      ]
     },
     "execution_count": 83,
     "metadata": {},
     "output_type": "execute_result"
    },
    {
     "data": {
      "image/png": "[encoded data removed]",
      "text/plain": [
       "<Figure size 1080x576 with 1 Axes>"
      ]
     },
     "metadata": {},
     "output_type": "display_data"
    }
   ],
   "source": [
    "plt.figure(figsize=(15,8))\n",
    "data1.corr()['Churned'].sort_values(ascending = False).plot(kind='bar')"
   ]
  },
  {
   "cell_type": "code",
   "execution_count": 91,
   "metadata": {},
   "outputs": [],
   "source": [
    "y = train['Churned']\n",
    "\n",
    "estimators = ['INBOUNDCALLS','OUTBOUNDCALLS','Number of defaults in last 12 bills','Average Bill over 12 months','Age','Concesssion Card','Category of latest complaint','Customer Segment','Product Category','NPS']\n",
    "\n",
    "x1 = train[estimators]"
   ]
  },
  {
   "cell_type": "code",
   "execution_count": 92,
   "metadata": {},
   "outputs": [
    {
     "data": {
      "text/plain": [
       "INBOUNDCALLS                           0\n",
       "OUTBOUNDCALLS                          0\n",
       "Number of defaults in last 12 bills    0\n",
       "Average Bill over 12 months            0\n",
       "Age                                    0\n",
       "Concesssion Card                       0\n",
       "Category of latest complaint           0\n",
       "Customer Segment                       0\n",
       "Product Category                       0\n",
       "NPS                                    0\n",
       "dtype: int64"
      ]
     },
     "execution_count": 92,
     "metadata": {},
     "output_type": "execute_result"
    }
   ],
   "source": [
    "x1.isna().sum()"
   ]
  },
  {
   "cell_type": "code",
   "execution_count": 93,
   "metadata": {},
   "outputs": [
    {
     "name": "stdout",
     "output_type": "stream",
     "text": [
      "Optimization terminated successfully.\n",
      "         Current function value: 0.203626\n",
      "         Iterations 8\n"
     ]
    },
    {
     "data": {
      "text/html": [
       "<table class=\"simpletable\">\n",
       "<caption>Logit Regression Results</caption>\n",
       "<tr>\n",
       "  <th>Dep. Variable:</th>        <td>Churned</td>     <th>  No. Observations:  </th>  <td> 14500</td> \n",
       "</tr>\n",
       "<tr>\n",
       "  <th>Model:</th>                 <td>Logit</td>      <th>  Df Residuals:      </th>  <td> 14489</td> \n",
       "</tr>\n",
       "<tr>\n",
       "  <th>Method:</th>                 <td>MLE</td>       <th>  Df Model:          </th>  <td>    10</td> \n",
       "</tr>\n",
       "<tr>\n",
       "  <th>Date:</th>            <td>Thu, 11 Mar 2021</td> <th>  Pseudo R-squ.:     </th>  <td>0.3722</td> \n",
       "</tr>\n",
       "<tr>\n",
       "  <th>Time:</th>                <td>17:48:48</td>     <th>  Log-Likelihood:    </th> <td> -2952.6</td>\n",
       "</tr>\n",
       "<tr>\n",
       "  <th>converged:</th>             <td>True</td>       <th>  LL-Null:           </th> <td> -4702.7</td>\n",
       "</tr>\n",
       "<tr>\n",
       "  <th>Covariance Type:</th>     <td>nonrobust</td>    <th>  LLR p-value:       </th>  <td> 0.000</td> \n",
       "</tr>\n",
       "</table>\n",
       "<table class=\"simpletable\">\n",
       "<tr>\n",
       "                   <td></td>                      <th>coef</th>     <th>std err</th>      <th>z</th>      <th>P>|z|</th>  <th>[0.025</th>    <th>0.975]</th>  \n",
       "</tr>\n",
       "<tr>\n",
       "  <th>const</th>                               <td>    0.7401</td> <td>    0.136</td> <td>    5.447</td> <td> 0.000</td> <td>    0.474</td> <td>    1.006</td>\n",
       "</tr>\n",
       "<tr>\n",
       "  <th>INBOUNDCALLS</th>                        <td>    0.0887</td> <td>    0.024</td> <td>    3.656</td> <td> 0.000</td> <td>    0.041</td> <td>    0.136</td>\n",
       "</tr>\n",
       "<tr>\n",
       "  <th>OUTBOUNDCALLS</th>                       <td>    0.3193</td> <td>    0.076</td> <td>    4.213</td> <td> 0.000</td> <td>    0.171</td> <td>    0.468</td>\n",
       "</tr>\n",
       "<tr>\n",
       "  <th>Number of defaults in last 12 bills</th> <td>    0.0778</td> <td>    0.013</td> <td>    6.131</td> <td> 0.000</td> <td>    0.053</td> <td>    0.103</td>\n",
       "</tr>\n",
       "<tr>\n",
       "  <th>Average Bill over 12 months</th>         <td>    0.0032</td> <td>    0.001</td> <td>    4.337</td> <td> 0.000</td> <td>    0.002</td> <td>    0.005</td>\n",
       "</tr>\n",
       "<tr>\n",
       "  <th>Age</th>                                 <td>   -0.0156</td> <td>    0.002</td> <td>   -6.694</td> <td> 0.000</td> <td>   -0.020</td> <td>   -0.011</td>\n",
       "</tr>\n",
       "<tr>\n",
       "  <th>Concesssion Card</th>                    <td>   -0.4644</td> <td>    0.098</td> <td>   -4.751</td> <td> 0.000</td> <td>   -0.656</td> <td>   -0.273</td>\n",
       "</tr>\n",
       "<tr>\n",
       "  <th>Category of latest complaint</th>        <td>   -0.9852</td> <td>    0.051</td> <td>  -19.195</td> <td> 0.000</td> <td>   -1.086</td> <td>   -0.885</td>\n",
       "</tr>\n",
       "<tr>\n",
       "  <th>Customer Segment</th>                    <td>   -0.5367</td> <td>    0.025</td> <td>  -21.631</td> <td> 0.000</td> <td>   -0.585</td> <td>   -0.488</td>\n",
       "</tr>\n",
       "<tr>\n",
       "  <th>Product Category</th>                    <td>   -0.6698</td> <td>    0.026</td> <td>  -25.866</td> <td> 0.000</td> <td>   -0.721</td> <td>   -0.619</td>\n",
       "</tr>\n",
       "<tr>\n",
       "  <th>NPS</th>                                 <td>   -0.9581</td> <td>    0.037</td> <td>  -25.628</td> <td> 0.000</td> <td>   -1.031</td> <td>   -0.885</td>\n",
       "</tr>\n",
       "</table>"
      ],
      "text/plain": [
       "<class 'statsmodels.iolib.summary.Summary'>\n",
       "\"\"\"\n",
       "                           Logit Regression Results                           \n",
       "==============================================================================\n",
       "Dep. Variable:                Churned   No. Observations:                14500\n",
       "Model:                          Logit   Df Residuals:                    14489\n",
       "Method:                           MLE   Df Model:                           10\n",
       "Date:                Thu, 11 Mar 2021   Pseudo R-squ.:                  0.3722\n",
       "Time:                        17:48:48   Log-Likelihood:                -2952.6\n",
       "converged:                       True   LL-Null:                       -4702.7\n",
       "Covariance Type:            nonrobust   LLR p-value:                     0.000\n",
       "=======================================================================================================\n",
       "                                          coef    std err          z      P>|z|      [0.025      0.975]\n",
       "-------------------------------------------------------------------------------------------------------\n",
       "const                                   0.7401      0.136      5.447      0.000       0.474       1.006\n",
       "INBOUNDCALLS                            0.0887      0.024      3.656      0.000       0.041       0.136\n",
       "OUTBOUNDCALLS                           0.3193      0.076      4.213      0.000       0.171       0.468\n",
       "Number of defaults in last 12 bills     0.0778      0.013      6.131      0.000       0.053       0.103\n",
       "Average Bill over 12 months             0.0032      0.001      4.337      0.000       0.002       0.005\n",
       "Age                                    -0.0156      0.002     -6.694      0.000      -0.020      -0.011\n",
       "Concesssion Card                       -0.4644      0.098     -4.751      0.000      -0.656      -0.273\n",
       "Category of latest complaint           -0.9852      0.051    -19.195      0.000      -1.086      -0.885\n",
       "Customer Segment                       -0.5367      0.025    -21.631      0.000      -0.585      -0.488\n",
       "Product Category                       -0.6698      0.026    -25.866      0.000      -0.721      -0.619\n",
       "NPS                                    -0.9581      0.037    -25.628      0.000      -1.031      -0.885\n",
       "=======================================================================================================\n",
       "\"\"\""
      ]
     },
     "execution_count": 93,
     "metadata": {},
     "output_type": "execute_result"
    }
   ],
   "source": [
    "x = sm.add_constant(x1)\n",
    "reg_log = sm.Logit(y,x)\n",
    "results = reg_log.fit()\n",
    "results.summary()"
   ]
  },
  {
   "cell_type": "code",
   "execution_count": 94,
   "metadata": {},
   "outputs": [],
   "source": [
    "def confusion_matrix(exog,endog,model):\n",
    "        \n",
    "        #Predict the values using the Logit model\n",
    "        pred_values = model.predict(exog)\n",
    "        # Specify the bins \n",
    "        bins=np.array([0,0.5,1])\n",
    "        # Create a histogram, where if values are between 0 and 0.5 tell will be considered 0\n",
    "        # if they are between 0.5 and 1, they will be considered 1\n",
    "        cm = np.histogram2d(endog, pred_values, bins=bins)[0]\n",
    "        # Calculate the accuracy\n",
    "        accuracy = (cm[0,0]+cm[1,1])/cm.sum()\n",
    "        # Return the confusion matrix and \n",
    "        return cm, 100*accuracy"
   ]
  },
  {
   "cell_type": "code",
   "execution_count": 95,
   "metadata": {},
   "outputs": [
    {
     "data": {
      "text/plain": [
       "(array([[12782.,   273.],\n",
       "        [  916.,   529.]]),\n",
       " 91.8)"
      ]
     },
     "execution_count": 95,
     "metadata": {},
     "output_type": "execute_result"
    }
   ],
   "source": [
    "confusion_matrix(x,y,results)\n"
   ]
  },
  {
   "cell_type": "code",
   "execution_count": null,
   "metadata": {},
   "outputs": [],
   "source": []
  },
  {
   "cell_type": "code",
   "execution_count": 96,
   "metadata": {},
   "outputs": [],
   "source": [
    "yt = test['Churned']\n",
    "\n",
    "estimators = ['INBOUNDCALLS','OUTBOUNDCALLS','Number of defaults in last 12 bills','Average Bill over 12 months','Age','Concesssion Card','Category of latest complaint','Customer Segment','Product Category','NPS']\n",
    "\n",
    "x1t = test[estimators]\n"
   ]
  },
  {
   "cell_type": "code",
   "execution_count": 97,
   "metadata": {},
   "outputs": [],
   "source": [
    "xt = sm.add_constant(x1t)"
   ]
  },
  {
   "cell_type": "code",
   "execution_count": 98,
   "metadata": {},
   "outputs": [
    {
     "data": {
      "text/plain": [
       "(array([[3232.,   63.],\n",
       "        [ 212.,  119.]]),\n",
       " 92.41588527302812)"
      ]
     },
     "execution_count": 98,
     "metadata": {},
     "output_type": "execute_result"
    }
   ],
   "source": [
    "confusion_matrix(xt, yt, results)"
   ]
  },
  {
   "cell_type": "code",
   "execution_count": null,
   "metadata": {},
   "outputs": [],
   "source": []
  }
 ],
 "metadata": {
  "kernelspec": {
   "display_name": "Python 3",
   "language": "python",
   "name": "python3"
  },
  "language_info": {
   "codemirror_mode": {
    "name": "ipython",
    "version": 3
   },
   "file_extension": ".py",
   "mimetype": "text/x-python",
   "name": "python",
   "nbconvert_exporter": "python",
   "pygments_lexer": "ipython3",
   "version": "3.8.5"
  }
 },
 "nbformat": 4,
 "nbformat_minor": 4
}
